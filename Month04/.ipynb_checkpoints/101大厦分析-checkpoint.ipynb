{
 "cells": [
  {
   "cell_type": "code",
   "execution_count": 1,
   "metadata": {},
   "outputs": [],
   "source": [
    "import numpy as np\n",
    "import pandas as pd\n",
    "import matplotlib.pyplot as plt"
   ]
  },
  {
   "cell_type": "code",
   "execution_count": 2,
   "metadata": {},
   "outputs": [],
   "source": [
    "plt.rcParams['font.sans-serif'] = ['SimHei']\n",
    "plt.rcParams['axes.unicode_minus'] = False"
   ]
  },
  {
   "cell_type": "markdown",
   "metadata": {},
   "source": [
    "# 一、查看数据"
   ]
  },
  {
   "cell_type": "code",
   "execution_count": 3,
   "metadata": {},
   "outputs": [
    {
     "name": "stdout",
     "output_type": "stream",
     "text": [
      "<class 'pandas.core.frame.DataFrame'>\n",
      "RangeIndex: 8757 entries, 0 to 8756\n",
      "Data columns (total 6 columns):\n",
      "author       8757 non-null object\n",
      "rating       8757 non-null int64\n",
      "time         8757 non-null object\n",
      "year         8757 non-null int64\n",
      "amount       8757 non-null int64\n",
      "frequency    8757 non-null int64\n",
      "dtypes: int64(4), object(2)\n",
      "memory usage: 410.6+ KB\n"
     ]
    },
    {
     "data": {
      "text/html": [
       "<div>\n",
       "<style scoped>\n",
       "    .dataframe tbody tr th:only-of-type {\n",
       "        vertical-align: middle;\n",
       "    }\n",
       "\n",
       "    .dataframe tbody tr th {\n",
       "        vertical-align: top;\n",
       "    }\n",
       "\n",
       "    .dataframe thead th {\n",
       "        text-align: right;\n",
       "    }\n",
       "</style>\n",
       "<table border=\"1\" class=\"dataframe\">\n",
       "  <thead>\n",
       "    <tr style=\"text-align: right;\">\n",
       "      <th></th>\n",
       "      <th>rating</th>\n",
       "      <th>year</th>\n",
       "      <th>amount</th>\n",
       "      <th>frequency</th>\n",
       "    </tr>\n",
       "  </thead>\n",
       "  <tbody>\n",
       "    <tr>\n",
       "      <th>count</th>\n",
       "      <td>8757.000000</td>\n",
       "      <td>8757.000000</td>\n",
       "      <td>8757.0</td>\n",
       "      <td>8757.0</td>\n",
       "    </tr>\n",
       "    <tr>\n",
       "      <th>mean</th>\n",
       "      <td>92.417495</td>\n",
       "      <td>2017.760420</td>\n",
       "      <td>110.0</td>\n",
       "      <td>1.0</td>\n",
       "    </tr>\n",
       "    <tr>\n",
       "      <th>std</th>\n",
       "      <td>14.231179</td>\n",
       "      <td>0.686734</td>\n",
       "      <td>0.0</td>\n",
       "      <td>0.0</td>\n",
       "    </tr>\n",
       "    <tr>\n",
       "      <th>min</th>\n",
       "      <td>20.000000</td>\n",
       "      <td>2016.000000</td>\n",
       "      <td>110.0</td>\n",
       "      <td>1.0</td>\n",
       "    </tr>\n",
       "    <tr>\n",
       "      <th>25%</th>\n",
       "      <td>80.000000</td>\n",
       "      <td>2017.000000</td>\n",
       "      <td>110.0</td>\n",
       "      <td>1.0</td>\n",
       "    </tr>\n",
       "    <tr>\n",
       "      <th>50%</th>\n",
       "      <td>100.000000</td>\n",
       "      <td>2018.000000</td>\n",
       "      <td>110.0</td>\n",
       "      <td>1.0</td>\n",
       "    </tr>\n",
       "    <tr>\n",
       "      <th>75%</th>\n",
       "      <td>100.000000</td>\n",
       "      <td>2018.000000</td>\n",
       "      <td>110.0</td>\n",
       "      <td>1.0</td>\n",
       "    </tr>\n",
       "    <tr>\n",
       "      <th>max</th>\n",
       "      <td>100.000000</td>\n",
       "      <td>2019.000000</td>\n",
       "      <td>110.0</td>\n",
       "      <td>1.0</td>\n",
       "    </tr>\n",
       "  </tbody>\n",
       "</table>\n",
       "</div>"
      ],
      "text/plain": [
       "            rating         year  amount  frequency\n",
       "count  8757.000000  8757.000000  8757.0     8757.0\n",
       "mean     92.417495  2017.760420   110.0        1.0\n",
       "std      14.231179     0.686734     0.0        0.0\n",
       "min      20.000000  2016.000000   110.0        1.0\n",
       "25%      80.000000  2017.000000   110.0        1.0\n",
       "50%     100.000000  2018.000000   110.0        1.0\n",
       "75%     100.000000  2018.000000   110.0        1.0\n",
       "max     100.000000  2019.000000   110.0        1.0"
      ]
     },
     "execution_count": 3,
     "metadata": {},
     "output_type": "execute_result"
    }
   ],
   "source": [
    "df = pd.read_csv('data/kelu.csv')\n",
    "df.head()\n",
    "df.info()\n",
    "df.describe()"
   ]
  },
  {
   "cell_type": "code",
   "execution_count": 4,
   "metadata": {},
   "outputs": [
    {
     "data": {
      "text/html": [
       "<div>\n",
       "<style scoped>\n",
       "    .dataframe tbody tr th:only-of-type {\n",
       "        vertical-align: middle;\n",
       "    }\n",
       "\n",
       "    .dataframe tbody tr th {\n",
       "        vertical-align: top;\n",
       "    }\n",
       "\n",
       "    .dataframe thead th {\n",
       "        text-align: right;\n",
       "    }\n",
       "</style>\n",
       "<table border=\"1\" class=\"dataframe\">\n",
       "  <thead>\n",
       "    <tr style=\"text-align: right;\">\n",
       "      <th></th>\n",
       "      <th>author</th>\n",
       "      <th>rating</th>\n",
       "      <th>time</th>\n",
       "      <th>year</th>\n",
       "      <th>amount</th>\n",
       "      <th>frequency</th>\n",
       "    </tr>\n",
       "  </thead>\n",
       "  <tbody>\n",
       "    <tr>\n",
       "      <th>0</th>\n",
       "      <td>YOUNG</td>\n",
       "      <td>60</td>\n",
       "      <td>2019/2/28</td>\n",
       "      <td>2019</td>\n",
       "      <td>110</td>\n",
       "      <td>1</td>\n",
       "    </tr>\n",
       "    <tr>\n",
       "      <th>1</th>\n",
       "      <td>SHING YAN</td>\n",
       "      <td>100</td>\n",
       "      <td>2019/2/28</td>\n",
       "      <td>2019</td>\n",
       "      <td>110</td>\n",
       "      <td>1</td>\n",
       "    </tr>\n",
       "    <tr>\n",
       "      <th>2</th>\n",
       "      <td>Sha</td>\n",
       "      <td>60</td>\n",
       "      <td>2019/2/28</td>\n",
       "      <td>2019</td>\n",
       "      <td>110</td>\n",
       "      <td>1</td>\n",
       "    </tr>\n",
       "    <tr>\n",
       "      <th>3</th>\n",
       "      <td>Mary Mae</td>\n",
       "      <td>100</td>\n",
       "      <td>2019/2/28</td>\n",
       "      <td>2019</td>\n",
       "      <td>110</td>\n",
       "      <td>1</td>\n",
       "    </tr>\n",
       "    <tr>\n",
       "      <th>4</th>\n",
       "      <td>Maria Cristina</td>\n",
       "      <td>100</td>\n",
       "      <td>2019/2/28</td>\n",
       "      <td>2019</td>\n",
       "      <td>110</td>\n",
       "      <td>1</td>\n",
       "    </tr>\n",
       "  </tbody>\n",
       "</table>\n",
       "</div>"
      ],
      "text/plain": [
       "           author  rating       time  year  amount  frequency\n",
       "0           YOUNG      60  2019/2/28  2019     110          1\n",
       "1       SHING YAN     100  2019/2/28  2019     110          1\n",
       "2             Sha      60  2019/2/28  2019     110          1\n",
       "3        Mary Mae     100  2019/2/28  2019     110          1\n",
       "4  Maria Cristina     100  2019/2/28  2019     110          1"
      ]
     },
     "execution_count": 4,
     "metadata": {},
     "output_type": "execute_result"
    }
   ],
   "source": [
    "df.head()"
   ]
  },
  {
   "cell_type": "markdown",
   "metadata": {},
   "source": [
    "## 1.1字段添加\n",
    "月份提取     month  \n",
    "每月的第几天  day  \n",
    "星期几      weekday  "
   ]
  },
  {
   "cell_type": "code",
   "execution_count": 5,
   "metadata": {},
   "outputs": [
    {
     "data": {
      "text/html": [
       "<div>\n",
       "<style scoped>\n",
       "    .dataframe tbody tr th:only-of-type {\n",
       "        vertical-align: middle;\n",
       "    }\n",
       "\n",
       "    .dataframe tbody tr th {\n",
       "        vertical-align: top;\n",
       "    }\n",
       "\n",
       "    .dataframe thead th {\n",
       "        text-align: right;\n",
       "    }\n",
       "</style>\n",
       "<table border=\"1\" class=\"dataframe\">\n",
       "  <thead>\n",
       "    <tr style=\"text-align: right;\">\n",
       "      <th></th>\n",
       "      <th>author</th>\n",
       "      <th>rating</th>\n",
       "      <th>time</th>\n",
       "      <th>year</th>\n",
       "      <th>amount</th>\n",
       "      <th>frequency</th>\n",
       "      <th>month</th>\n",
       "      <th>day</th>\n",
       "      <th>weekday</th>\n",
       "    </tr>\n",
       "  </thead>\n",
       "  <tbody>\n",
       "    <tr>\n",
       "      <th>0</th>\n",
       "      <td>YOUNG</td>\n",
       "      <td>60</td>\n",
       "      <td>2019-02-28</td>\n",
       "      <td>2019</td>\n",
       "      <td>110</td>\n",
       "      <td>1</td>\n",
       "      <td>2</td>\n",
       "      <td>28</td>\n",
       "      <td>3</td>\n",
       "    </tr>\n",
       "    <tr>\n",
       "      <th>1</th>\n",
       "      <td>SHING YAN</td>\n",
       "      <td>100</td>\n",
       "      <td>2019-02-28</td>\n",
       "      <td>2019</td>\n",
       "      <td>110</td>\n",
       "      <td>1</td>\n",
       "      <td>2</td>\n",
       "      <td>28</td>\n",
       "      <td>3</td>\n",
       "    </tr>\n",
       "    <tr>\n",
       "      <th>2</th>\n",
       "      <td>Sha</td>\n",
       "      <td>60</td>\n",
       "      <td>2019-02-28</td>\n",
       "      <td>2019</td>\n",
       "      <td>110</td>\n",
       "      <td>1</td>\n",
       "      <td>2</td>\n",
       "      <td>28</td>\n",
       "      <td>3</td>\n",
       "    </tr>\n",
       "    <tr>\n",
       "      <th>3</th>\n",
       "      <td>Mary Mae</td>\n",
       "      <td>100</td>\n",
       "      <td>2019-02-28</td>\n",
       "      <td>2019</td>\n",
       "      <td>110</td>\n",
       "      <td>1</td>\n",
       "      <td>2</td>\n",
       "      <td>28</td>\n",
       "      <td>3</td>\n",
       "    </tr>\n",
       "    <tr>\n",
       "      <th>4</th>\n",
       "      <td>Maria Cristina</td>\n",
       "      <td>100</td>\n",
       "      <td>2019-02-28</td>\n",
       "      <td>2019</td>\n",
       "      <td>110</td>\n",
       "      <td>1</td>\n",
       "      <td>2</td>\n",
       "      <td>28</td>\n",
       "      <td>3</td>\n",
       "    </tr>\n",
       "  </tbody>\n",
       "</table>\n",
       "</div>"
      ],
      "text/plain": [
       "           author  rating       time  year  amount  frequency  month  day  \\\n",
       "0           YOUNG      60 2019-02-28  2019     110          1      2   28   \n",
       "1       SHING YAN     100 2019-02-28  2019     110          1      2   28   \n",
       "2             Sha      60 2019-02-28  2019     110          1      2   28   \n",
       "3        Mary Mae     100 2019-02-28  2019     110          1      2   28   \n",
       "4  Maria Cristina     100 2019-02-28  2019     110          1      2   28   \n",
       "\n",
       "   weekday  \n",
       "0        3  \n",
       "1        3  \n",
       "2        3  \n",
       "3        3  \n",
       "4        3  "
      ]
     },
     "execution_count": 5,
     "metadata": {},
     "output_type": "execute_result"
    }
   ],
   "source": [
    "df['time'] = pd.to_datetime(df['time']) # 转化为时间\n",
    "df['month'] = df['time'].map(lambda x: x.month)\n",
    "df['day'] = df['time'].map(lambda x:x.day)\n",
    "df['weekday'] = df['time'].map(lambda x:x.weekday())\n",
    "df.head()"
   ]
  },
  {
   "cell_type": "markdown",
   "metadata": {},
   "source": [
    "# 二、分析客流量信息"
   ]
  },
  {
   "cell_type": "markdown",
   "metadata": {},
   "source": [
    "## 2.1 按天分析流量"
   ]
  },
  {
   "cell_type": "code",
   "execution_count": 6,
   "metadata": {},
   "outputs": [
    {
     "data": {
      "text/plain": [
       "<matplotlib.axes._subplots.AxesSubplot at 0x1fa4ad547b8>"
      ]
     },
     "execution_count": 6,
     "metadata": {},
     "output_type": "execute_result"
    },
    {
     "data": {
      "image/png": "[encoded data removed]",
      "text/plain": [
       "<Figure size 432x288 with 1 Axes>"
      ]
     },
     "metadata": {
      "needs_background": "light"
     },
     "output_type": "display_data"
    }
   ],
   "source": [
    "df.groupby('day').sum()['frequency'].plot(kind='bar') # 流量和天没有关系"
   ]
  },
  {
   "cell_type": "markdown",
   "metadata": {},
   "source": [
    "## 2.2按月分析"
   ]
  },
  {
   "cell_type": "code",
   "execution_count": 7,
   "metadata": {},
   "outputs": [
    {
     "data": {
      "text/plain": [
       "<matplotlib.axes._subplots.AxesSubplot at 0x1fa4b261240>"
      ]
     },
     "execution_count": 7,
     "metadata": {},
     "output_type": "execute_result"
    },
    {
     "data": {
      "image/png": "[encoded data removed]",
      "text/plain": [
       "<Figure size 432x288 with 1 Axes>"
      ]
     },
     "metadata": {
      "needs_background": "light"
     },
     "output_type": "display_data"
    }
   ],
   "source": [
    "df.groupby('month').sum()['frequency'].plot(kind='bar') # 10-1流量大   3-5 淡季"
   ]
  },
  {
   "cell_type": "markdown",
   "metadata": {},
   "source": [
    "## 2.3按工作日分析"
   ]
  },
  {
   "cell_type": "code",
   "execution_count": 8,
   "metadata": {},
   "outputs": [
    {
     "name": "stdout",
     "output_type": "stream",
     "text": [
      "  workingday  frequency\n",
      "0        job       6281\n",
      "1       rest       2476\n",
      "  index  workingday\n",
      "0   job        6281\n",
      "1  rest        2476\n"
     ]
    }
   ],
   "source": [
    "def fn(x):\n",
    "    if x > 4:\n",
    "        return 'rest'\n",
    "    else:\n",
    "        return 'job'\n",
    "df['workingday'] = df['weekday'].map(fn)\n",
    "df1 = pd.DataFrame(df.groupby('workingday').sum()['frequency']).reset_index()\n",
    "df2 = pd.DataFrame(df['workingday'].value_counts()).reset_index()\n",
    "# 将df1和df2合并\n",
    "print(df1)\n",
    "print(df2)"
   ]
  },
  {
   "cell_type": "code",
   "execution_count": 9,
   "metadata": {},
   "outputs": [],
   "source": [
    "df1 = pd.merge(df1, df2, left_on='workingday', right_on='index') # 数据关联"
   ]
  },
  {
   "cell_type": "code",
   "execution_count": 10,
   "metadata": {},
   "outputs": [
    {
     "data": {
      "text/plain": [
       "<matplotlib.axes._subplots.AxesSubplot at 0x1fa4b308550>"
      ]
     },
     "execution_count": 10,
     "metadata": {},
     "output_type": "execute_result"
    },
    {
     "data": {
      "image/png": "[encoded data removed]",
      "text/plain": [
       "<Figure size 432x288 with 1 Axes>"
      ]
     },
     "metadata": {
      "needs_background": "light"
     },
     "output_type": "display_data"
    }
   ],
   "source": [
    "df1['mean'] = df1['frequency'] / df1['workingday_y']\n",
    "df1.plot(kind='bar', x='index', y='mean')"
   ]
  },
  {
   "cell_type": "markdown",
   "metadata": {},
   "source": [
    "## 2.4计算2016-2019（全部数据）每天客流量"
   ]
  },
  {
   "cell_type": "code",
   "execution_count": 11,
   "metadata": {},
   "outputs": [
    {
     "data": {
      "text/plain": [
       "<matplotlib.axes._subplots.AxesSubplot at 0x1fa4b37cb70>"
      ]
     },
     "execution_count": 11,
     "metadata": {},
     "output_type": "execute_result"
    },
    {
     "data": {
      "image/png": "[encoded data removed]",
      "text/plain": [
       "<Figure size 864x288 with 1 Axes>"
      ]
     },
     "metadata": {
      "needs_background": "light"
     },
     "output_type": "display_data"
    }
   ],
   "source": [
    "df.groupby('time').sum()['frequency'].plot(figsize=(12, 4)) # figsize图片尺寸\n",
    "# 台风2018.3-5"
   ]
  },
  {
   "cell_type": "markdown",
   "metadata": {},
   "source": [
    "# 三、老客户分析"
   ]
  },
  {
   "cell_type": "markdown",
   "metadata": {},
   "source": [
    "## 3.1 分析用户购买门票频数"
   ]
  },
  {
   "cell_type": "code",
   "execution_count": 12,
   "metadata": {},
   "outputs": [
    {
     "data": {
      "text/plain": [
       "Text(0, 0.5, '用户数')"
      ]
     },
     "execution_count": 12,
     "metadata": {},
     "output_type": "execute_result"
    },
    {
     "data": {
      "image/png": "[encoded data removed]",
      "text/plain": [
       "<Figure size 432x288 with 1 Axes>"
      ]
     },
     "metadata": {
      "needs_background": "light"
     },
     "output_type": "display_data"
    }
   ],
   "source": [
    "df.groupby('author').count()['frequency'].plot(kind='hist', bins=50) # 直方图， 宽度50\n",
    "# 修改横坐标刻度 最值\n",
    "plt.xlim(1,17)\n",
    "plt.title('用户访问频数')\n",
    "plt.xlabel('次数')\n",
    "plt.ylabel('用户数')"
   ]
  },
  {
   "cell_type": "markdown",
   "metadata": {},
   "source": [
    "## 3.2 统计访问次数在2次以上的所有信息"
   ]
  },
  {
   "cell_type": "code",
   "execution_count": 13,
   "metadata": {},
   "outputs": [
    {
     "data": {
      "text/plain": [
       "Text(0.5, 1.0, '多次访问用户频数统计')"
      ]
     },
     "execution_count": 13,
     "metadata": {},
     "output_type": "execute_result"
    },
    {
     "data": {
      "image/png": "[encoded data removed]",
      "text/plain": [
       "<Figure size 432x288 with 1 Axes>"
      ]
     },
     "metadata": {
      "needs_background": "light"
     },
     "output_type": "display_data"
    }
   ],
   "source": [
    "# 统计频数，转为dataframe\n",
    "df1 = df.groupby('author').sum()['frequency'].reset_index()\n",
    "# 筛选所有频率大于1的数据\n",
    "df1 = df1[df1['frequency']>1]\n",
    "df1.groupby('author').sum()['frequency'].plot(kind='hist')\n",
    "plt.title('多次访问用户频数统计')"
   ]
  },
  {
   "cell_type": "markdown",
   "metadata": {},
   "source": [
    "## 3.3访问2次以上人数统计"
   ]
  },
  {
   "cell_type": "code",
   "execution_count": 14,
   "metadata": {},
   "outputs": [
    {
     "data": {
      "text/plain": [
       "frequency\n",
       "2     402\n",
       "3      99\n",
       "4      49\n",
       "5      25\n",
       "6      13\n",
       "7       7\n",
       "8       4\n",
       "11      1\n",
       "13      1\n",
       "15      1\n",
       "18      1\n",
       "Name: author, dtype: int64"
      ]
     },
     "execution_count": 14,
     "metadata": {},
     "output_type": "execute_result"
    }
   ],
   "source": [
    "df1.groupby('frequency').count()['author']"
   ]
  },
  {
   "cell_type": "markdown",
   "metadata": {},
   "source": [
    "## 3.4分析游玩1-5次游客的占比"
   ]
  },
  {
   "cell_type": "code",
   "execution_count": 15,
   "metadata": {},
   "outputs": [
    {
     "data": {
      "text/plain": [
       "<matplotlib.legend.Legend at 0x1fa4c520358>"
      ]
     },
     "execution_count": 15,
     "metadata": {},
     "output_type": "execute_result"
    },
    {
     "data": {
      "image/png": "[encoded data removed]",
      "text/plain": [
       "<Figure size 432x288 with 1 Axes>"
      ]
     },
     "metadata": {},
     "output_type": "display_data"
    }
   ],
   "source": [
    "# 统计频数，转为dataframe\n",
    "df1 = df.groupby('author').sum()['frequency'].reset_index()\n",
    "l1 = list(df1[df1['frequency']<6].groupby('frequency').count()['author'])\n",
    "plt.pie(l1, labels=[1, 2, 3, 4, 5], autopct='%1.1f%%')\n",
    "plt.legend()"
   ]
  },
  {
   "cell_type": "markdown",
   "metadata": {},
   "source": [
    "## 3.5分析游玩2-5次游客的占比"
   ]
  },
  {
   "cell_type": "code",
   "execution_count": 16,
   "metadata": {},
   "outputs": [
    {
     "data": {
      "text/plain": [
       "<matplotlib.legend.Legend at 0x1fa4b249390>"
      ]
     },
     "execution_count": 16,
     "metadata": {},
     "output_type": "execute_result"
    },
    {
     "data": {
      "image/png": "[encoded data removed]",
      "text/plain": [
       "<Figure size 432x288 with 1 Axes>"
      ]
     },
     "metadata": {},
     "output_type": "display_data"
    }
   ],
   "source": [
    "df2 = df1[df1['frequency'].between(2, 5)] # between 在。。范围之间\n",
    "df2.head()\n",
    "# 展示2-5频次人数\n",
    "l2 = list(df2.groupby('frequency').count()['author'])\n",
    "# 画饼\n",
    "plt.pie(l2, labels=['去过2次', '去过3次', '去过4次', '去过5次'], autopct='%1.1f%%')\n",
    "plt.legend() # 图例"
   ]
  },
  {
   "cell_type": "markdown",
   "metadata": {},
   "source": [
    "# 四、得分统计"
   ]
  },
  {
   "cell_type": "markdown",
   "metadata": {},
   "source": [
    "## 4.1 统计不同分数占比"
   ]
  },
  {
   "cell_type": "code",
   "execution_count": 17,
   "metadata": {},
   "outputs": [
    {
     "data": {
      "text/plain": [
       "<matplotlib.axes._subplots.AxesSubplot at 0x1fa4c6002b0>"
      ]
     },
     "execution_count": 17,
     "metadata": {},
     "output_type": "execute_result"
    },
    {
     "data": {
      "image/png": "[encoded data removed]",
      "text/plain": [
       "<Figure size 432x288 with 1 Axes>"
      ]
     },
     "metadata": {},
     "output_type": "display_data"
    }
   ],
   "source": [
    "df.groupby('rating').count()['author'].plot(kind='pie', autopct='%1.1f%%')"
   ]
  },
  {
   "cell_type": "markdown",
   "metadata": {},
   "source": [
    "## 4.2 统计不同月份的得分"
   ]
  },
  {
   "cell_type": "code",
   "execution_count": 18,
   "metadata": {},
   "outputs": [
    {
     "data": {
      "text/plain": [
       "<matplotlib.axes._subplots.AxesSubplot at 0x1fa4c646860>"
      ]
     },
     "execution_count": 18,
     "metadata": {},
     "output_type": "execute_result"
    },
    {
     "data": {
      "image/png": "[encoded data removed]",
      "text/plain": [
       "<Figure size 432x288 with 1 Axes>"
      ]
     },
     "metadata": {
      "needs_background": "light"
     },
     "output_type": "display_data"
    }
   ],
   "source": [
    "df.groupby('month').mean()['rating'].plot(kind='bar')"
   ]
  },
  {
   "cell_type": "markdown",
   "metadata": {},
   "source": [
    "## 4.3 查看每天得分"
   ]
  },
  {
   "cell_type": "code",
   "execution_count": 19,
   "metadata": {},
   "outputs": [
    {
     "data": {
      "text/plain": [
       "<matplotlib.axes._subplots.AxesSubplot at 0x1fa4c6b9a90>"
      ]
     },
     "execution_count": 19,
     "metadata": {},
     "output_type": "execute_result"
    },
    {
     "data": {
      "image/png": "[encoded data removed]",
      "text/plain": [
       "<Figure size 432x288 with 1 Axes>"
      ]
     },
     "metadata": {
      "needs_background": "light"
     },
     "output_type": "display_data"
    }
   ],
   "source": [
    "df.groupby('time').mean()['rating'].plot()"
   ]
  },
  {
   "cell_type": "markdown",
   "metadata": {},
   "source": [
    "## 4.4 评分均分低于75分得日期"
   ]
  },
  {
   "cell_type": "code",
   "execution_count": 20,
   "metadata": {},
   "outputs": [
    {
     "data": {
      "text/html": [
       "<div>\n",
       "<style scoped>\n",
       "    .dataframe tbody tr th:only-of-type {\n",
       "        vertical-align: middle;\n",
       "    }\n",
       "\n",
       "    .dataframe tbody tr th {\n",
       "        vertical-align: top;\n",
       "    }\n",
       "\n",
       "    .dataframe thead th {\n",
       "        text-align: right;\n",
       "    }\n",
       "</style>\n",
       "<table border=\"1\" class=\"dataframe\">\n",
       "  <thead>\n",
       "    <tr style=\"text-align: right;\">\n",
       "      <th></th>\n",
       "      <th>rating</th>\n",
       "      <th>year</th>\n",
       "      <th>amount</th>\n",
       "      <th>frequency</th>\n",
       "      <th>month</th>\n",
       "      <th>day</th>\n",
       "      <th>weekday</th>\n",
       "    </tr>\n",
       "    <tr>\n",
       "      <th>time</th>\n",
       "      <th></th>\n",
       "      <th></th>\n",
       "      <th></th>\n",
       "      <th></th>\n",
       "      <th></th>\n",
       "      <th></th>\n",
       "      <th></th>\n",
       "    </tr>\n",
       "  </thead>\n",
       "  <tbody>\n",
       "    <tr>\n",
       "      <th>2016-08-02</th>\n",
       "      <td>60.000000</td>\n",
       "      <td>2016.0</td>\n",
       "      <td>110.0</td>\n",
       "      <td>1.0</td>\n",
       "      <td>8.0</td>\n",
       "      <td>2.0</td>\n",
       "      <td>1.0</td>\n",
       "    </tr>\n",
       "    <tr>\n",
       "      <th>2016-10-03</th>\n",
       "      <td>60.000000</td>\n",
       "      <td>2016.0</td>\n",
       "      <td>110.0</td>\n",
       "      <td>1.0</td>\n",
       "      <td>10.0</td>\n",
       "      <td>3.0</td>\n",
       "      <td>0.0</td>\n",
       "    </tr>\n",
       "    <tr>\n",
       "      <th>2016-10-05</th>\n",
       "      <td>60.000000</td>\n",
       "      <td>2016.0</td>\n",
       "      <td>110.0</td>\n",
       "      <td>1.0</td>\n",
       "      <td>10.0</td>\n",
       "      <td>5.0</td>\n",
       "      <td>2.0</td>\n",
       "    </tr>\n",
       "    <tr>\n",
       "      <th>2016-11-09</th>\n",
       "      <td>60.000000</td>\n",
       "      <td>2016.0</td>\n",
       "      <td>110.0</td>\n",
       "      <td>1.0</td>\n",
       "      <td>11.0</td>\n",
       "      <td>9.0</td>\n",
       "      <td>2.0</td>\n",
       "    </tr>\n",
       "    <tr>\n",
       "      <th>2016-11-30</th>\n",
       "      <td>60.000000</td>\n",
       "      <td>2016.0</td>\n",
       "      <td>110.0</td>\n",
       "      <td>1.0</td>\n",
       "      <td>11.0</td>\n",
       "      <td>30.0</td>\n",
       "      <td>2.0</td>\n",
       "    </tr>\n",
       "    <tr>\n",
       "      <th>2016-12-17</th>\n",
       "      <td>70.000000</td>\n",
       "      <td>2016.0</td>\n",
       "      <td>110.0</td>\n",
       "      <td>1.0</td>\n",
       "      <td>12.0</td>\n",
       "      <td>17.0</td>\n",
       "      <td>5.0</td>\n",
       "    </tr>\n",
       "    <tr>\n",
       "      <th>2016-12-18</th>\n",
       "      <td>73.333333</td>\n",
       "      <td>2016.0</td>\n",
       "      <td>110.0</td>\n",
       "      <td>1.0</td>\n",
       "      <td>12.0</td>\n",
       "      <td>18.0</td>\n",
       "      <td>6.0</td>\n",
       "    </tr>\n",
       "    <tr>\n",
       "      <th>2016-12-23</th>\n",
       "      <td>72.000000</td>\n",
       "      <td>2016.0</td>\n",
       "      <td>110.0</td>\n",
       "      <td>1.0</td>\n",
       "      <td>12.0</td>\n",
       "      <td>23.0</td>\n",
       "      <td>4.0</td>\n",
       "    </tr>\n",
       "    <tr>\n",
       "      <th>2017-01-28</th>\n",
       "      <td>60.000000</td>\n",
       "      <td>2017.0</td>\n",
       "      <td>110.0</td>\n",
       "      <td>1.0</td>\n",
       "      <td>1.0</td>\n",
       "      <td>28.0</td>\n",
       "      <td>5.0</td>\n",
       "    </tr>\n",
       "    <tr>\n",
       "      <th>2017-02-23</th>\n",
       "      <td>60.000000</td>\n",
       "      <td>2017.0</td>\n",
       "      <td>110.0</td>\n",
       "      <td>1.0</td>\n",
       "      <td>2.0</td>\n",
       "      <td>23.0</td>\n",
       "      <td>3.0</td>\n",
       "    </tr>\n",
       "    <tr>\n",
       "      <th>2017-02-27</th>\n",
       "      <td>73.333333</td>\n",
       "      <td>2017.0</td>\n",
       "      <td>110.0</td>\n",
       "      <td>1.0</td>\n",
       "      <td>2.0</td>\n",
       "      <td>27.0</td>\n",
       "      <td>0.0</td>\n",
       "    </tr>\n",
       "    <tr>\n",
       "      <th>2017-03-21</th>\n",
       "      <td>60.000000</td>\n",
       "      <td>2017.0</td>\n",
       "      <td>110.0</td>\n",
       "      <td>1.0</td>\n",
       "      <td>3.0</td>\n",
       "      <td>21.0</td>\n",
       "      <td>1.0</td>\n",
       "    </tr>\n",
       "    <tr>\n",
       "      <th>2017-05-25</th>\n",
       "      <td>70.000000</td>\n",
       "      <td>2017.0</td>\n",
       "      <td>110.0</td>\n",
       "      <td>1.0</td>\n",
       "      <td>5.0</td>\n",
       "      <td>25.0</td>\n",
       "      <td>3.0</td>\n",
       "    </tr>\n",
       "    <tr>\n",
       "      <th>2017-08-01</th>\n",
       "      <td>73.333333</td>\n",
       "      <td>2017.0</td>\n",
       "      <td>110.0</td>\n",
       "      <td>1.0</td>\n",
       "      <td>8.0</td>\n",
       "      <td>1.0</td>\n",
       "      <td>1.0</td>\n",
       "    </tr>\n",
       "    <tr>\n",
       "      <th>2017-08-12</th>\n",
       "      <td>74.000000</td>\n",
       "      <td>2017.0</td>\n",
       "      <td>110.0</td>\n",
       "      <td>1.0</td>\n",
       "      <td>8.0</td>\n",
       "      <td>12.0</td>\n",
       "      <td>5.0</td>\n",
       "    </tr>\n",
       "    <tr>\n",
       "      <th>2017-11-21</th>\n",
       "      <td>73.333333</td>\n",
       "      <td>2017.0</td>\n",
       "      <td>110.0</td>\n",
       "      <td>1.0</td>\n",
       "      <td>11.0</td>\n",
       "      <td>21.0</td>\n",
       "      <td>1.0</td>\n",
       "    </tr>\n",
       "    <tr>\n",
       "      <th>2017-12-27</th>\n",
       "      <td>73.333333</td>\n",
       "      <td>2017.0</td>\n",
       "      <td>110.0</td>\n",
       "      <td>1.0</td>\n",
       "      <td>12.0</td>\n",
       "      <td>27.0</td>\n",
       "      <td>2.0</td>\n",
       "    </tr>\n",
       "    <tr>\n",
       "      <th>2018-03-09</th>\n",
       "      <td>70.000000</td>\n",
       "      <td>2018.0</td>\n",
       "      <td>110.0</td>\n",
       "      <td>1.0</td>\n",
       "      <td>3.0</td>\n",
       "      <td>9.0</td>\n",
       "      <td>4.0</td>\n",
       "    </tr>\n",
       "    <tr>\n",
       "      <th>2018-04-21</th>\n",
       "      <td>66.666667</td>\n",
       "      <td>2018.0</td>\n",
       "      <td>110.0</td>\n",
       "      <td>1.0</td>\n",
       "      <td>4.0</td>\n",
       "      <td>21.0</td>\n",
       "      <td>5.0</td>\n",
       "    </tr>\n",
       "  </tbody>\n",
       "</table>\n",
       "</div>"
      ],
      "text/plain": [
       "               rating    year  amount  frequency  month   day  weekday\n",
       "time                                                                  \n",
       "2016-08-02  60.000000  2016.0   110.0        1.0    8.0   2.0      1.0\n",
       "2016-10-03  60.000000  2016.0   110.0        1.0   10.0   3.0      0.0\n",
       "2016-10-05  60.000000  2016.0   110.0        1.0   10.0   5.0      2.0\n",
       "2016-11-09  60.000000  2016.0   110.0        1.0   11.0   9.0      2.0\n",
       "2016-11-30  60.000000  2016.0   110.0        1.0   11.0  30.0      2.0\n",
       "2016-12-17  70.000000  2016.0   110.0        1.0   12.0  17.0      5.0\n",
       "2016-12-18  73.333333  2016.0   110.0        1.0   12.0  18.0      6.0\n",
       "2016-12-23  72.000000  2016.0   110.0        1.0   12.0  23.0      4.0\n",
       "2017-01-28  60.000000  2017.0   110.0        1.0    1.0  28.0      5.0\n",
       "2017-02-23  60.000000  2017.0   110.0        1.0    2.0  23.0      3.0\n",
       "2017-02-27  73.333333  2017.0   110.0        1.0    2.0  27.0      0.0\n",
       "2017-03-21  60.000000  2017.0   110.0        1.0    3.0  21.0      1.0\n",
       "2017-05-25  70.000000  2017.0   110.0        1.0    5.0  25.0      3.0\n",
       "2017-08-01  73.333333  2017.0   110.0        1.0    8.0   1.0      1.0\n",
       "2017-08-12  74.000000  2017.0   110.0        1.0    8.0  12.0      5.0\n",
       "2017-11-21  73.333333  2017.0   110.0        1.0   11.0  21.0      1.0\n",
       "2017-12-27  73.333333  2017.0   110.0        1.0   12.0  27.0      2.0\n",
       "2018-03-09  70.000000  2018.0   110.0        1.0    3.0   9.0      4.0\n",
       "2018-04-21  66.666667  2018.0   110.0        1.0    4.0  21.0      5.0"
      ]
     },
     "execution_count": 20,
     "metadata": {},
     "output_type": "execute_result"
    }
   ],
   "source": [
    "df1 = df.groupby('time').mean()\n",
    "df1[df1['rating']<75]"
   ]
  },
  {
   "cell_type": "markdown",
   "metadata": {},
   "source": [
    "# 五、用户分析"
   ]
  },
  {
   "cell_type": "markdown",
   "metadata": {},
   "source": [
    "## 5.1复购率分析\n",
    "在某个时间窗口（1个月）内进行消费  产生复购条件"
   ]
  },
  {
   "cell_type": "code",
   "execution_count": 21,
   "metadata": {},
   "outputs": [
    {
     "data": {
      "text/html": [
       "<div>\n",
       "<style scoped>\n",
       "    .dataframe tbody tr th:only-of-type {\n",
       "        vertical-align: middle;\n",
       "    }\n",
       "\n",
       "    .dataframe tbody tr th {\n",
       "        vertical-align: top;\n",
       "    }\n",
       "\n",
       "    .dataframe thead th {\n",
       "        text-align: right;\n",
       "    }\n",
       "</style>\n",
       "<table border=\"1\" class=\"dataframe\">\n",
       "  <thead>\n",
       "    <tr style=\"text-align: right;\">\n",
       "      <th></th>\n",
       "      <th>author</th>\n",
       "      <th>rating</th>\n",
       "      <th>time</th>\n",
       "      <th>year</th>\n",
       "      <th>amount</th>\n",
       "      <th>frequency</th>\n",
       "      <th>month</th>\n",
       "      <th>day</th>\n",
       "      <th>weekday</th>\n",
       "      <th>workingday</th>\n",
       "    </tr>\n",
       "  </thead>\n",
       "  <tbody>\n",
       "    <tr>\n",
       "      <th>0</th>\n",
       "      <td>YOUNG</td>\n",
       "      <td>60</td>\n",
       "      <td>2019-02-28</td>\n",
       "      <td>2019</td>\n",
       "      <td>110</td>\n",
       "      <td>1</td>\n",
       "      <td>2019-02-01</td>\n",
       "      <td>28</td>\n",
       "      <td>3</td>\n",
       "      <td>job</td>\n",
       "    </tr>\n",
       "    <tr>\n",
       "      <th>1</th>\n",
       "      <td>SHING YAN</td>\n",
       "      <td>100</td>\n",
       "      <td>2019-02-28</td>\n",
       "      <td>2019</td>\n",
       "      <td>110</td>\n",
       "      <td>1</td>\n",
       "      <td>2019-02-01</td>\n",
       "      <td>28</td>\n",
       "      <td>3</td>\n",
       "      <td>job</td>\n",
       "    </tr>\n",
       "    <tr>\n",
       "      <th>2</th>\n",
       "      <td>Sha</td>\n",
       "      <td>60</td>\n",
       "      <td>2019-02-28</td>\n",
       "      <td>2019</td>\n",
       "      <td>110</td>\n",
       "      <td>1</td>\n",
       "      <td>2019-02-01</td>\n",
       "      <td>28</td>\n",
       "      <td>3</td>\n",
       "      <td>job</td>\n",
       "    </tr>\n",
       "    <tr>\n",
       "      <th>3</th>\n",
       "      <td>Mary Mae</td>\n",
       "      <td>100</td>\n",
       "      <td>2019-02-28</td>\n",
       "      <td>2019</td>\n",
       "      <td>110</td>\n",
       "      <td>1</td>\n",
       "      <td>2019-02-01</td>\n",
       "      <td>28</td>\n",
       "      <td>3</td>\n",
       "      <td>job</td>\n",
       "    </tr>\n",
       "    <tr>\n",
       "      <th>4</th>\n",
       "      <td>Maria Cristina</td>\n",
       "      <td>100</td>\n",
       "      <td>2019-02-28</td>\n",
       "      <td>2019</td>\n",
       "      <td>110</td>\n",
       "      <td>1</td>\n",
       "      <td>2019-02-01</td>\n",
       "      <td>28</td>\n",
       "      <td>3</td>\n",
       "      <td>job</td>\n",
       "    </tr>\n",
       "  </tbody>\n",
       "</table>\n",
       "</div>"
      ],
      "text/plain": [
       "           author  rating       time  year  amount  frequency      month  day  \\\n",
       "0           YOUNG      60 2019-02-28  2019     110          1 2019-02-01   28   \n",
       "1       SHING YAN     100 2019-02-28  2019     110          1 2019-02-01   28   \n",
       "2             Sha      60 2019-02-28  2019     110          1 2019-02-01   28   \n",
       "3        Mary Mae     100 2019-02-28  2019     110          1 2019-02-01   28   \n",
       "4  Maria Cristina     100 2019-02-28  2019     110          1 2019-02-01   28   \n",
       "\n",
       "   weekday workingday  \n",
       "0        3        job  \n",
       "1        3        job  \n",
       "2        3        job  \n",
       "3        3        job  \n",
       "4        3        job  "
      ]
     },
     "execution_count": 21,
     "metadata": {},
     "output_type": "execute_result"
    }
   ],
   "source": [
    "df['month'] = df['time'].values.astype('datetime64[M]') # 精确到月\n",
    "df.head()"
   ]
  },
  {
   "cell_type": "code",
   "execution_count": 22,
   "metadata": {},
   "outputs": [
    {
     "data": {
      "text/html": [
       "<div>\n",
       "<style scoped>\n",
       "    .dataframe tbody tr th:only-of-type {\n",
       "        vertical-align: middle;\n",
       "    }\n",
       "\n",
       "    .dataframe tbody tr th {\n",
       "        vertical-align: top;\n",
       "    }\n",
       "\n",
       "    .dataframe thead th {\n",
       "        text-align: right;\n",
       "    }\n",
       "</style>\n",
       "<table border=\"1\" class=\"dataframe\">\n",
       "  <thead>\n",
       "    <tr style=\"text-align: right;\">\n",
       "      <th>month</th>\n",
       "      <th>2016-08-01 00:00:00</th>\n",
       "      <th>2016-09-01 00:00:00</th>\n",
       "      <th>2016-10-01 00:00:00</th>\n",
       "      <th>2016-11-01 00:00:00</th>\n",
       "      <th>2016-12-01 00:00:00</th>\n",
       "      <th>2017-01-01 00:00:00</th>\n",
       "      <th>2017-02-01 00:00:00</th>\n",
       "      <th>2017-03-01 00:00:00</th>\n",
       "      <th>2017-04-01 00:00:00</th>\n",
       "      <th>2017-05-01 00:00:00</th>\n",
       "      <th>...</th>\n",
       "      <th>2018-05-01 00:00:00</th>\n",
       "      <th>2018-06-01 00:00:00</th>\n",
       "      <th>2018-07-01 00:00:00</th>\n",
       "      <th>2018-08-01 00:00:00</th>\n",
       "      <th>2018-09-01 00:00:00</th>\n",
       "      <th>2018-10-01 00:00:00</th>\n",
       "      <th>2018-11-01 00:00:00</th>\n",
       "      <th>2018-12-01 00:00:00</th>\n",
       "      <th>2019-01-01 00:00:00</th>\n",
       "      <th>2019-02-01 00:00:00</th>\n",
       "    </tr>\n",
       "    <tr>\n",
       "      <th>author</th>\n",
       "      <th></th>\n",
       "      <th></th>\n",
       "      <th></th>\n",
       "      <th></th>\n",
       "      <th></th>\n",
       "      <th></th>\n",
       "      <th></th>\n",
       "      <th></th>\n",
       "      <th></th>\n",
       "      <th></th>\n",
       "      <th></th>\n",
       "      <th></th>\n",
       "      <th></th>\n",
       "      <th></th>\n",
       "      <th></th>\n",
       "      <th></th>\n",
       "      <th></th>\n",
       "      <th></th>\n",
       "      <th></th>\n",
       "      <th></th>\n",
       "      <th></th>\n",
       "    </tr>\n",
       "  </thead>\n",
       "  <tbody>\n",
       "    <tr>\n",
       "      <th>wenbiao</th>\n",
       "      <td>0</td>\n",
       "      <td>0</td>\n",
       "      <td>0</td>\n",
       "      <td>0</td>\n",
       "      <td>0</td>\n",
       "      <td>0</td>\n",
       "      <td>0</td>\n",
       "      <td>0</td>\n",
       "      <td>0</td>\n",
       "      <td>0</td>\n",
       "      <td>...</td>\n",
       "      <td>0</td>\n",
       "      <td>0</td>\n",
       "      <td>0</td>\n",
       "      <td>0</td>\n",
       "      <td>0</td>\n",
       "      <td>0</td>\n",
       "      <td>0</td>\n",
       "      <td>0</td>\n",
       "      <td>0</td>\n",
       "      <td>0</td>\n",
       "    </tr>\n",
       "    <tr>\n",
       "      <th>Goh Yu Wen Eunice</th>\n",
       "      <td>0</td>\n",
       "      <td>0</td>\n",
       "      <td>0</td>\n",
       "      <td>0</td>\n",
       "      <td>0</td>\n",
       "      <td>0</td>\n",
       "      <td>0</td>\n",
       "      <td>0</td>\n",
       "      <td>0</td>\n",
       "      <td>0</td>\n",
       "      <td>...</td>\n",
       "      <td>0</td>\n",
       "      <td>0</td>\n",
       "      <td>0</td>\n",
       "      <td>0</td>\n",
       "      <td>0</td>\n",
       "      <td>0</td>\n",
       "      <td>0</td>\n",
       "      <td>0</td>\n",
       "      <td>0</td>\n",
       "      <td>0</td>\n",
       "    </tr>\n",
       "    <tr>\n",
       "      <th>Hui Shan</th>\n",
       "      <td>0</td>\n",
       "      <td>0</td>\n",
       "      <td>0</td>\n",
       "      <td>0</td>\n",
       "      <td>0</td>\n",
       "      <td>0</td>\n",
       "      <td>0</td>\n",
       "      <td>0</td>\n",
       "      <td>0</td>\n",
       "      <td>0</td>\n",
       "      <td>...</td>\n",
       "      <td>0</td>\n",
       "      <td>0</td>\n",
       "      <td>0</td>\n",
       "      <td>0</td>\n",
       "      <td>0</td>\n",
       "      <td>0</td>\n",
       "      <td>0</td>\n",
       "      <td>0</td>\n",
       "      <td>0</td>\n",
       "      <td>0</td>\n",
       "    </tr>\n",
       "    <tr>\n",
       "      <th>Huihui</th>\n",
       "      <td>0</td>\n",
       "      <td>0</td>\n",
       "      <td>0</td>\n",
       "      <td>0</td>\n",
       "      <td>0</td>\n",
       "      <td>0</td>\n",
       "      <td>0</td>\n",
       "      <td>0</td>\n",
       "      <td>0</td>\n",
       "      <td>0</td>\n",
       "      <td>...</td>\n",
       "      <td>0</td>\n",
       "      <td>0</td>\n",
       "      <td>0</td>\n",
       "      <td>0</td>\n",
       "      <td>0</td>\n",
       "      <td>0</td>\n",
       "      <td>0</td>\n",
       "      <td>0</td>\n",
       "      <td>0</td>\n",
       "      <td>0</td>\n",
       "    </tr>\n",
       "    <tr>\n",
       "      <th>KO-CHENG</th>\n",
       "      <td>0</td>\n",
       "      <td>0</td>\n",
       "      <td>0</td>\n",
       "      <td>0</td>\n",
       "      <td>0</td>\n",
       "      <td>0</td>\n",
       "      <td>0</td>\n",
       "      <td>0</td>\n",
       "      <td>0</td>\n",
       "      <td>0</td>\n",
       "      <td>...</td>\n",
       "      <td>0</td>\n",
       "      <td>0</td>\n",
       "      <td>0</td>\n",
       "      <td>0</td>\n",
       "      <td>0</td>\n",
       "      <td>0</td>\n",
       "      <td>0</td>\n",
       "      <td>0</td>\n",
       "      <td>0</td>\n",
       "      <td>0</td>\n",
       "    </tr>\n",
       "  </tbody>\n",
       "</table>\n",
       "<p>5 rows × 31 columns</p>\n",
       "</div>"
      ],
      "text/plain": [
       "month               2016-08-01  2016-09-01  2016-10-01  2016-11-01  \\\n",
       "author                                                               \n",
       "      wenbiao                0           0           0           0   \n",
       " Goh Yu Wen Eunice           0           0           0           0   \n",
       " Hui Shan                    0           0           0           0   \n",
       " Huihui                      0           0           0           0   \n",
       " KO-CHENG                    0           0           0           0   \n",
       "\n",
       "month               2016-12-01  2017-01-01  2017-02-01  2017-03-01  \\\n",
       "author                                                               \n",
       "      wenbiao                0           0           0           0   \n",
       " Goh Yu Wen Eunice           0           0           0           0   \n",
       " Hui Shan                    0           0           0           0   \n",
       " Huihui                      0           0           0           0   \n",
       " KO-CHENG                    0           0           0           0   \n",
       "\n",
       "month               2017-04-01  2017-05-01  ...  2018-05-01  2018-06-01  \\\n",
       "author                                      ...                           \n",
       "      wenbiao                0           0  ...           0           0   \n",
       " Goh Yu Wen Eunice           0           0  ...           0           0   \n",
       " Hui Shan                    0           0  ...           0           0   \n",
       " Huihui                      0           0  ...           0           0   \n",
       " KO-CHENG                    0           0  ...           0           0   \n",
       "\n",
       "month               2018-07-01  2018-08-01  2018-09-01  2018-10-01  \\\n",
       "author                                                               \n",
       "      wenbiao                0           0           0           0   \n",
       " Goh Yu Wen Eunice           0           0           0           0   \n",
       " Hui Shan                    0           0           0           0   \n",
       " Huihui                      0           0           0           0   \n",
       " KO-CHENG                    0           0           0           0   \n",
       "\n",
       "month               2018-11-01  2018-12-01  2019-01-01  2019-02-01  \n",
       "author                                                              \n",
       "      wenbiao                0           0           0           0  \n",
       " Goh Yu Wen Eunice           0           0           0           0  \n",
       " Hui Shan                    0           0           0           0  \n",
       " Huihui                      0           0           0           0  \n",
       " KO-CHENG                    0           0           0           0  \n",
       "\n",
       "[5 rows x 31 columns]"
      ]
     },
     "execution_count": 22,
     "metadata": {},
     "output_type": "execute_result"
    }
   ],
   "source": [
    "# 透视表\n",
    "df1 = df.pivot_table(index='author', # 唯一\n",
    "              columns='month', # 按列\n",
    "              values='frequency', # 处理值\n",
    "              aggfunc='count').fillna(0) # 统计策略\n",
    "df1.head() # 如果数值大于1，存在复购\n",
    "df1 = df1.applymap(lambda x: 1 if x > 1 else 0) # 1 复购   0 未复购\n",
    "df1.head()"
   ]
  },
  {
   "cell_type": "code",
   "execution_count": 23,
   "metadata": {},
   "outputs": [
    {
     "data": {
      "text/plain": [
       "<matplotlib.axes._subplots.AxesSubplot at 0x1fa4c58f5f8>"
      ]
     },
     "execution_count": 23,
     "metadata": {},
     "output_type": "execute_result"
    },
    {
     "data": {
      "image/png": "[encoded data removed]",
      "text/plain": [
       "<Figure size 864x288 with 1 Axes>"
      ]
     },
     "metadata": {
      "needs_background": "light"
     },
     "output_type": "display_data"
    }
   ],
   "source": [
    "(df1.sum()/df1.count()).plot(figsize=(12, 4)) # 复购人数/ 总人数"
   ]
  },
  {
   "cell_type": "markdown",
   "metadata": {},
   "source": [
    "## 5.2 统计每个月复购人数"
   ]
  },
  {
   "cell_type": "code",
   "execution_count": 24,
   "metadata": {},
   "outputs": [
    {
     "data": {
      "text/plain": [
       "Text(0.5, 1.0, '16-19年复购人数')"
      ]
     },
     "execution_count": 24,
     "metadata": {},
     "output_type": "execute_result"
    },
    {
     "data": {
      "image/png": "[encoded data removed]",
      "text/plain": [
       "<Figure size 864x288 with 1 Axes>"
      ]
     },
     "metadata": {
      "needs_background": "light"
     },
     "output_type": "display_data"
    }
   ],
   "source": [
    "df1.sum().plot(figsize=(12,4))\n",
    "plt.xlabel('月份')\n",
    "plt.ylabel('复购人数')\n",
    "plt.title('16-19年复购人数')"
   ]
  },
  {
   "cell_type": "markdown",
   "metadata": {},
   "source": [
    "## 5.3 回购率、回购人数\n",
    "当前窗口有购买，下个窗口依然购买   回购  \n",
    "3月份1000人购买产品 购买后 有200人在本月再次购买， 有100人下个月再购买"
   ]
  },
  {
   "cell_type": "code",
   "execution_count": 25,
   "metadata": {},
   "outputs": [],
   "source": [
    "# 重置透视表\n",
    "df1 = df.pivot_table(index='author', # 唯一\n",
    "              columns='month', # 按列\n",
    "              values='frequency', # 处理值\n",
    "              aggfunc='count').fillna(0) # 统计策略"
   ]
  },
  {
   "cell_type": "code",
   "execution_count": 26,
   "metadata": {},
   "outputs": [
    {
     "data": {
      "text/plain": [
       "<matplotlib.axes._subplots.AxesSubplot at 0x1fa4c86f898>"
      ]
     },
     "execution_count": 26,
     "metadata": {},
     "output_type": "execute_result"
    },
    {
     "data": {
      "image/png": "[encoded data removed]",
      "text/plain": [
       "<Figure size 432x288 with 1 Axes>"
      ]
     },
     "metadata": {
      "needs_background": "light"
     },
     "output_type": "display_data"
    }
   ],
   "source": [
    "# 当前月和下个月数据都大于1，就是回购\n",
    "# 将返回数据是pd类型， 将数据接收Series返回\n",
    "def buy_return(x): # 数据中所有列\n",
    "    # 数据 len(x)\n",
    "    # 循环处理 len(x)-1\n",
    "    status = [] # 记录每个月是否有回购\n",
    "    for i in range(len(x)-1): # -1 不使用最后的数据\n",
    "        if x[i]>0: # 当前月有购买行为\n",
    "            if x[i+1]>0: # 下个月有购买行为\n",
    "                status.append(1)# 有回购行为\n",
    "            else:\n",
    "                status.append(0)\n",
    "        else: # 当前月没有购买\n",
    "            status.append(0)\n",
    "    # 最后一个月无回购行为，添加列保证数据维度相同（）  弥补-1\n",
    "    status.append(0)\n",
    "    # 返回Series类型\n",
    "    return pd.Series(status, index=df1.columns)\n",
    "df1.apply(buy_return, axis=1).sum().plot()"
   ]
  },
  {
   "cell_type": "markdown",
   "metadata": {},
   "source": [
    "## 5.4 分层用户占比\n",
    "活跃用户  连续购买两月，获取购买过多次  \n",
    "不活跃用户  购买过一次  \n",
    "回流用户 间隔较多时间再次购买用户  \n",
    "新用户  最后一个月购买一次"
   ]
  },
  {
   "cell_type": "code",
   "execution_count": null,
   "metadata": {},
   "outputs": [],
   "source": []
  }
 ],
 "metadata": {
  "kernelspec": {
   "display_name": "Python 3",
   "language": "python",
   "name": "python3"
  },
  "language_info": {
   "codemirror_mode": {
    "name": "ipython",
    "version": 3
   },
   "file_extension": ".py",
   "mimetype": "text/x-python",
   "name": "python",
   "nbconvert_exporter": "python",
   "pygments_lexer": "ipython3",
   "version": "3.7.3"
  }
 },
 "nbformat": 4,
 "nbformat_minor": 2
}
