{
 "cells": [
  {
   "cell_type": "code",
   "execution_count": 1,
   "metadata": {},
   "outputs": [],
   "source": [
    "import numpy as np\n",
    "import pandas as pd\n",
    "import matplotlib.pyplot as plt"
   ]
  },
  {
   "cell_type": "code",
   "execution_count": 2,
   "metadata": {},
   "outputs": [],
   "source": [
    "plt.rcParams['font.sans-serif'] = ['SimHei']\n",
    "plt.rcParams['axes.unicode_minus'] = False"
   ]
  },
  {
   "cell_type": "markdown",
   "metadata": {},
   "source": [
    "# 一、数据预处理"
   ]
  },
  {
   "cell_type": "code",
   "execution_count": 3,
   "metadata": {},
   "outputs": [
    {
     "data": {
      "text/html": [
       "<div>\n",
       "<style scoped>\n",
       "    .dataframe tbody tr th:only-of-type {\n",
       "        vertical-align: middle;\n",
       "    }\n",
       "\n",
       "    .dataframe tbody tr th {\n",
       "        vertical-align: top;\n",
       "    }\n",
       "\n",
       "    .dataframe thead th {\n",
       "        text-align: right;\n",
       "    }\n",
       "</style>\n",
       "<table border=\"1\" class=\"dataframe\">\n",
       "  <thead>\n",
       "    <tr style=\"text-align: right;\">\n",
       "      <th></th>\n",
       "      <th>订单号</th>\n",
       "      <th>订单行</th>\n",
       "      <th>销售时间</th>\n",
       "      <th>交货时间</th>\n",
       "      <th>货品交货状况</th>\n",
       "      <th>货品</th>\n",
       "      <th>货品用户反馈</th>\n",
       "      <th>销售区域</th>\n",
       "      <th>数量</th>\n",
       "      <th>销售金额</th>\n",
       "    </tr>\n",
       "  </thead>\n",
       "  <tbody>\n",
       "    <tr>\n",
       "      <th>0</th>\n",
       "      <td>P096311</td>\n",
       "      <td>10</td>\n",
       "      <td>2016-7-30</td>\n",
       "      <td>2016-9-30</td>\n",
       "      <td>晚交货</td>\n",
       "      <td>货品3</td>\n",
       "      <td>质量合格</td>\n",
       "      <td>华北</td>\n",
       "      <td>2.0</td>\n",
       "      <td>1052,75元</td>\n",
       "    </tr>\n",
       "    <tr>\n",
       "      <th>1</th>\n",
       "      <td>P096826</td>\n",
       "      <td>10</td>\n",
       "      <td>2016-8-30</td>\n",
       "      <td>2016-10-30</td>\n",
       "      <td>按时交货</td>\n",
       "      <td>货品3</td>\n",
       "      <td>质量合格</td>\n",
       "      <td>华北</td>\n",
       "      <td>10.0</td>\n",
       "      <td>11,50万元</td>\n",
       "    </tr>\n",
       "    <tr>\n",
       "      <th>2</th>\n",
       "      <td>NaN</td>\n",
       "      <td>20</td>\n",
       "      <td>2016-8-30</td>\n",
       "      <td>2016-10-30</td>\n",
       "      <td>按时交货</td>\n",
       "      <td>货品3</td>\n",
       "      <td>质量合格</td>\n",
       "      <td>华北</td>\n",
       "      <td>10.0</td>\n",
       "      <td>11,50万元</td>\n",
       "    </tr>\n",
       "    <tr>\n",
       "      <th>3</th>\n",
       "      <td>P097435</td>\n",
       "      <td>10</td>\n",
       "      <td>2016-7-30</td>\n",
       "      <td>2016-9-30</td>\n",
       "      <td>按时交货</td>\n",
       "      <td>货品1</td>\n",
       "      <td>返修</td>\n",
       "      <td>华南</td>\n",
       "      <td>2.0</td>\n",
       "      <td>6858,77元</td>\n",
       "    </tr>\n",
       "    <tr>\n",
       "      <th>4</th>\n",
       "      <td>P097446</td>\n",
       "      <td>60</td>\n",
       "      <td>2016-11-26</td>\n",
       "      <td>2017-1-26</td>\n",
       "      <td>晚交货</td>\n",
       "      <td>货品3</td>\n",
       "      <td>质量合格</td>\n",
       "      <td>华北</td>\n",
       "      <td>15.0</td>\n",
       "      <td>129,58元</td>\n",
       "    </tr>\n",
       "  </tbody>\n",
       "</table>\n",
       "</div>"
      ],
      "text/plain": [
       "       订单号  订单行        销售时间        交货时间 货品交货状况   货品 货品用户反馈 销售区域    数量  \\\n",
       "0  P096311   10   2016-7-30   2016-9-30    晚交货  货品3   质量合格   华北   2.0   \n",
       "1  P096826   10   2016-8-30  2016-10-30   按时交货  货品3   质量合格   华北  10.0   \n",
       "2      NaN   20   2016-8-30  2016-10-30   按时交货  货品3   质量合格   华北  10.0   \n",
       "3  P097435   10   2016-7-30   2016-9-30   按时交货  货品1     返修   华南   2.0   \n",
       "4  P097446   60  2016-11-26   2017-1-26    晚交货  货品3   质量合格   华北  15.0   \n",
       "\n",
       "       销售金额  \n",
       "0  1052,75元  \n",
       "1   11,50万元  \n",
       "2   11,50万元  \n",
       "3  6858,77元  \n",
       "4   129,58元  "
      ]
     },
     "execution_count": 3,
     "metadata": {},
     "output_type": "execute_result"
    }
   ],
   "source": [
    "df = pd.read_csv('data/data_wuliu.csv', encoding='gbk')\n",
    "# head() 查看数据特点   \n",
    "# 销售金额有问题\n",
    "df.head()"
   ]
  },
  {
   "cell_type": "code",
   "execution_count": 4,
   "metadata": {},
   "outputs": [
    {
     "name": "stdout",
     "output_type": "stream",
     "text": [
      "<class 'pandas.core.frame.DataFrame'>\n",
      "RangeIndex: 1161 entries, 0 to 1160\n",
      "Data columns (total 10 columns):\n",
      "订单号       1159 non-null object\n",
      "订单行       1161 non-null int64\n",
      "销售时间      1161 non-null object\n",
      "交货时间      1161 non-null object\n",
      "货品交货状况    1159 non-null object\n",
      "货品        1161 non-null object\n",
      "货品用户反馈    1161 non-null object\n",
      "销售区域      1161 non-null object\n",
      "数量        1157 non-null float64\n",
      "销售金额      1161 non-null object\n",
      "dtypes: float64(1), int64(1), object(8)\n",
      "memory usage: 90.8+ KB\n"
     ]
    }
   ],
   "source": [
    "# 查看缺失值， 查看数据类型\n",
    "df.info()"
   ]
  },
  {
   "cell_type": "code",
   "execution_count": 5,
   "metadata": {},
   "outputs": [
    {
     "data": {
      "text/html": [
       "<div>\n",
       "<style scoped>\n",
       "    .dataframe tbody tr th:only-of-type {\n",
       "        vertical-align: middle;\n",
       "    }\n",
       "\n",
       "    .dataframe tbody tr th {\n",
       "        vertical-align: top;\n",
       "    }\n",
       "\n",
       "    .dataframe thead th {\n",
       "        text-align: right;\n",
       "    }\n",
       "</style>\n",
       "<table border=\"1\" class=\"dataframe\">\n",
       "  <thead>\n",
       "    <tr style=\"text-align: right;\">\n",
       "      <th></th>\n",
       "      <th>订单行</th>\n",
       "      <th>数量</th>\n",
       "    </tr>\n",
       "  </thead>\n",
       "  <tbody>\n",
       "    <tr>\n",
       "      <th>count</th>\n",
       "      <td>1161.000000</td>\n",
       "      <td>1157.000000</td>\n",
       "    </tr>\n",
       "    <tr>\n",
       "      <th>mean</th>\n",
       "      <td>13.178295</td>\n",
       "      <td>76.663354</td>\n",
       "    </tr>\n",
       "    <tr>\n",
       "      <th>std</th>\n",
       "      <td>7.093713</td>\n",
       "      <td>588.138241</td>\n",
       "    </tr>\n",
       "    <tr>\n",
       "      <th>min</th>\n",
       "      <td>10.000000</td>\n",
       "      <td>1.000000</td>\n",
       "    </tr>\n",
       "    <tr>\n",
       "      <th>25%</th>\n",
       "      <td>10.000000</td>\n",
       "      <td>1.000000</td>\n",
       "    </tr>\n",
       "    <tr>\n",
       "      <th>50%</th>\n",
       "      <td>10.000000</td>\n",
       "      <td>1.000000</td>\n",
       "    </tr>\n",
       "    <tr>\n",
       "      <th>75%</th>\n",
       "      <td>20.000000</td>\n",
       "      <td>4.000000</td>\n",
       "    </tr>\n",
       "    <tr>\n",
       "      <th>max</th>\n",
       "      <td>100.000000</td>\n",
       "      <td>11500.000000</td>\n",
       "    </tr>\n",
       "  </tbody>\n",
       "</table>\n",
       "</div>"
      ],
      "text/plain": [
       "               订单行            数量\n",
       "count  1161.000000   1157.000000\n",
       "mean     13.178295     76.663354\n",
       "std       7.093713    588.138241\n",
       "min      10.000000      1.000000\n",
       "25%      10.000000      1.000000\n",
       "50%      10.000000      1.000000\n",
       "75%      20.000000      4.000000\n",
       "max     100.000000  11500.000000"
      ]
     },
     "execution_count": 5,
     "metadata": {},
     "output_type": "execute_result"
    }
   ],
   "source": [
    "df.describe()"
   ]
  },
  {
   "cell_type": "code",
   "execution_count": 6,
   "metadata": {},
   "outputs": [
    {
     "name": "stdout",
     "output_type": "stream",
     "text": [
      "<class 'pandas.core.frame.DataFrame'>\n",
      "Int64Index: 1146 entries, 0 to 1160\n",
      "Data columns (total 10 columns):\n",
      "订单号       1146 non-null object\n",
      "订单行       1146 non-null int64\n",
      "销售时间      1146 non-null object\n",
      "交货时间      1146 non-null object\n",
      "货品交货状况    1146 non-null object\n",
      "货品        1146 non-null object\n",
      "货品用户反馈    1146 non-null object\n",
      "销售区域      1146 non-null object\n",
      "数量        1146 non-null float64\n",
      "销售金额      1146 non-null object\n",
      "dtypes: float64(1), int64(1), object(8)\n",
      "memory usage: 98.5+ KB\n"
     ]
    }
   ],
   "source": [
    "# 处理缺失值\n",
    "df.dropna(inplace=True)\n",
    "# 处理重复值\n",
    "# 造成分析数据产生误差\n",
    "df.drop_duplicates(inplace=True)\n",
    "df.info()"
   ]
  },
  {
   "cell_type": "code",
   "execution_count": 7,
   "metadata": {},
   "outputs": [
    {
     "data": {
      "text/html": [
       "<div>\n",
       "<style scoped>\n",
       "    .dataframe tbody tr th:only-of-type {\n",
       "        vertical-align: middle;\n",
       "    }\n",
       "\n",
       "    .dataframe tbody tr th {\n",
       "        vertical-align: top;\n",
       "    }\n",
       "\n",
       "    .dataframe thead th {\n",
       "        text-align: right;\n",
       "    }\n",
       "</style>\n",
       "<table border=\"1\" class=\"dataframe\">\n",
       "  <thead>\n",
       "    <tr style=\"text-align: right;\">\n",
       "      <th></th>\n",
       "      <th>订单号</th>\n",
       "      <th>订单行</th>\n",
       "      <th>销售时间</th>\n",
       "      <th>交货时间</th>\n",
       "      <th>货品交货状况</th>\n",
       "      <th>货品</th>\n",
       "      <th>货品用户反馈</th>\n",
       "      <th>销售区域</th>\n",
       "      <th>数量</th>\n",
       "      <th>销售金额</th>\n",
       "    </tr>\n",
       "  </thead>\n",
       "  <tbody>\n",
       "    <tr>\n",
       "      <th>0</th>\n",
       "      <td>P096311</td>\n",
       "      <td>10</td>\n",
       "      <td>2016-7-30</td>\n",
       "      <td>2016-9-30</td>\n",
       "      <td>晚交货</td>\n",
       "      <td>货品3</td>\n",
       "      <td>质量合格</td>\n",
       "      <td>华北</td>\n",
       "      <td>2.0</td>\n",
       "      <td>1052.75</td>\n",
       "    </tr>\n",
       "    <tr>\n",
       "      <th>1</th>\n",
       "      <td>P096826</td>\n",
       "      <td>10</td>\n",
       "      <td>2016-8-30</td>\n",
       "      <td>2016-10-30</td>\n",
       "      <td>按时交货</td>\n",
       "      <td>货品3</td>\n",
       "      <td>质量合格</td>\n",
       "      <td>华北</td>\n",
       "      <td>10.0</td>\n",
       "      <td>115000.00</td>\n",
       "    </tr>\n",
       "    <tr>\n",
       "      <th>3</th>\n",
       "      <td>P097435</td>\n",
       "      <td>10</td>\n",
       "      <td>2016-7-30</td>\n",
       "      <td>2016-9-30</td>\n",
       "      <td>按时交货</td>\n",
       "      <td>货品1</td>\n",
       "      <td>返修</td>\n",
       "      <td>华南</td>\n",
       "      <td>2.0</td>\n",
       "      <td>6858.77</td>\n",
       "    </tr>\n",
       "    <tr>\n",
       "      <th>4</th>\n",
       "      <td>P097446</td>\n",
       "      <td>60</td>\n",
       "      <td>2016-11-26</td>\n",
       "      <td>2017-1-26</td>\n",
       "      <td>晚交货</td>\n",
       "      <td>货品3</td>\n",
       "      <td>质量合格</td>\n",
       "      <td>华北</td>\n",
       "      <td>15.0</td>\n",
       "      <td>129.58</td>\n",
       "    </tr>\n",
       "    <tr>\n",
       "      <th>5</th>\n",
       "      <td>P097446</td>\n",
       "      <td>80</td>\n",
       "      <td>2016-11-26</td>\n",
       "      <td>2017-1-26</td>\n",
       "      <td>晚交货</td>\n",
       "      <td>货品3</td>\n",
       "      <td>拒货</td>\n",
       "      <td>华北</td>\n",
       "      <td>15.0</td>\n",
       "      <td>32.39</td>\n",
       "    </tr>\n",
       "  </tbody>\n",
       "</table>\n",
       "</div>"
      ],
      "text/plain": [
       "       订单号  订单行        销售时间        交货时间 货品交货状况   货品 货品用户反馈 销售区域    数量  \\\n",
       "0  P096311   10   2016-7-30   2016-9-30    晚交货  货品3   质量合格   华北   2.0   \n",
       "1  P096826   10   2016-8-30  2016-10-30   按时交货  货品3   质量合格   华北  10.0   \n",
       "3  P097435   10   2016-7-30   2016-9-30   按时交货  货品1     返修   华南   2.0   \n",
       "4  P097446   60  2016-11-26   2017-1-26    晚交货  货品3   质量合格   华北  15.0   \n",
       "5  P097446   80  2016-11-26   2017-1-26    晚交货  货品3     拒货   华北  15.0   \n",
       "\n",
       "        销售金额  \n",
       "0    1052.75  \n",
       "1  115000.00  \n",
       "3    6858.77  \n",
       "4     129.58  \n",
       "5      32.39  "
      ]
     },
     "execution_count": 7,
     "metadata": {},
     "output_type": "execute_result"
    }
   ],
   "source": [
    "# 处理金额操作   \n",
    "# 元  去除     万元  去除  *10000     ，去除\n",
    "def fn(x):\n",
    "    x = x.replace(',', '.') # 将，去除\n",
    "    # find 没有找到返回-1\n",
    "    if x.find('万元') != -1: # -1 没有找到对应元素\n",
    "        return float(x[:-2]) * 10000\n",
    "    elif x.find('元') != -1:\n",
    "        return float(x[:-1])\n",
    "df['销售金额'] = df['销售金额'].map(fn)\n",
    "df.head()"
   ]
  },
  {
   "cell_type": "code",
   "execution_count": 8,
   "metadata": {},
   "outputs": [
    {
     "data": {
      "text/html": [
       "<div>\n",
       "<style scoped>\n",
       "    .dataframe tbody tr th:only-of-type {\n",
       "        vertical-align: middle;\n",
       "    }\n",
       "\n",
       "    .dataframe tbody tr th {\n",
       "        vertical-align: top;\n",
       "    }\n",
       "\n",
       "    .dataframe thead th {\n",
       "        text-align: right;\n",
       "    }\n",
       "</style>\n",
       "<table border=\"1\" class=\"dataframe\">\n",
       "  <thead>\n",
       "    <tr style=\"text-align: right;\">\n",
       "      <th></th>\n",
       "      <th>订单行</th>\n",
       "      <th>数量</th>\n",
       "      <th>销售金额</th>\n",
       "    </tr>\n",
       "  </thead>\n",
       "  <tbody>\n",
       "    <tr>\n",
       "      <th>count</th>\n",
       "      <td>1146.000000</td>\n",
       "      <td>1146.000000</td>\n",
       "      <td>1146.000000</td>\n",
       "    </tr>\n",
       "    <tr>\n",
       "      <th>mean</th>\n",
       "      <td>13.193717</td>\n",
       "      <td>76.069372</td>\n",
       "      <td>1223.488255</td>\n",
       "    </tr>\n",
       "    <tr>\n",
       "      <th>std</th>\n",
       "      <td>7.124041</td>\n",
       "      <td>589.416486</td>\n",
       "      <td>11145.993359</td>\n",
       "    </tr>\n",
       "    <tr>\n",
       "      <th>min</th>\n",
       "      <td>10.000000</td>\n",
       "      <td>1.000000</td>\n",
       "      <td>0.000000</td>\n",
       "    </tr>\n",
       "    <tr>\n",
       "      <th>25%</th>\n",
       "      <td>10.000000</td>\n",
       "      <td>1.000000</td>\n",
       "      <td>29.415000</td>\n",
       "    </tr>\n",
       "    <tr>\n",
       "      <th>50%</th>\n",
       "      <td>10.000000</td>\n",
       "      <td>1.000000</td>\n",
       "      <td>94.765000</td>\n",
       "    </tr>\n",
       "    <tr>\n",
       "      <th>75%</th>\n",
       "      <td>20.000000</td>\n",
       "      <td>4.000000</td>\n",
       "      <td>357.677500</td>\n",
       "    </tr>\n",
       "    <tr>\n",
       "      <th>max</th>\n",
       "      <td>100.000000</td>\n",
       "      <td>11500.000000</td>\n",
       "      <td>327000.000000</td>\n",
       "    </tr>\n",
       "  </tbody>\n",
       "</table>\n",
       "</div>"
      ],
      "text/plain": [
       "               订单行            数量           销售金额\n",
       "count  1146.000000   1146.000000    1146.000000\n",
       "mean     13.193717     76.069372    1223.488255\n",
       "std       7.124041    589.416486   11145.993359\n",
       "min      10.000000      1.000000       0.000000\n",
       "25%      10.000000      1.000000      29.415000\n",
       "50%      10.000000      1.000000      94.765000\n",
       "75%      20.000000      4.000000     357.677500\n",
       "max     100.000000  11500.000000  327000.000000"
      ]
     },
     "execution_count": 8,
     "metadata": {},
     "output_type": "execute_result"
    }
   ],
   "source": [
    "# 查看异常值   销售金额不能为零\n",
    "df.describe()"
   ]
  },
  {
   "cell_type": "code",
   "execution_count": 9,
   "metadata": {},
   "outputs": [],
   "source": [
    "# 保留销售金额大于0的数值\n",
    "df = df[df['销售金额']>0]"
   ]
  },
  {
   "cell_type": "markdown",
   "metadata": {},
   "source": [
    "## 1.2转化时间"
   ]
  },
  {
   "cell_type": "code",
   "execution_count": 10,
   "metadata": {},
   "outputs": [
    {
     "name": "stdout",
     "output_type": "stream",
     "text": [
      "<class 'pandas.core.frame.DataFrame'>\n",
      "Int64Index: 1145 entries, 0 to 1160\n",
      "Data columns (total 11 columns):\n",
      "订单号       1145 non-null object\n",
      "订单行       1145 non-null int64\n",
      "销售时间      1145 non-null object\n",
      "交货时间      1145 non-null object\n",
      "货品交货状况    1145 non-null object\n",
      "货品        1145 non-null object\n",
      "货品用户反馈    1145 non-null object\n",
      "销售区域      1145 non-null object\n",
      "数量        1145 non-null float64\n",
      "销售金额      1145 non-null float64\n",
      "时间        1145 non-null datetime64[ns]\n",
      "dtypes: datetime64[ns](1), float64(2), int64(1), object(7)\n",
      "memory usage: 107.3+ KB\n"
     ]
    }
   ],
   "source": [
    "df['时间'] = pd.to_datetime(df['交货时间'])\n",
    "df.head()\n",
    "df.info()"
   ]
  },
  {
   "cell_type": "code",
   "execution_count": 11,
   "metadata": {},
   "outputs": [
    {
     "data": {
      "text/html": [
       "<div>\n",
       "<style scoped>\n",
       "    .dataframe tbody tr th:only-of-type {\n",
       "        vertical-align: middle;\n",
       "    }\n",
       "\n",
       "    .dataframe tbody tr th {\n",
       "        vertical-align: top;\n",
       "    }\n",
       "\n",
       "    .dataframe thead th {\n",
       "        text-align: right;\n",
       "    }\n",
       "</style>\n",
       "<table border=\"1\" class=\"dataframe\">\n",
       "  <thead>\n",
       "    <tr style=\"text-align: right;\">\n",
       "      <th></th>\n",
       "      <th>订单号</th>\n",
       "      <th>订单行</th>\n",
       "      <th>销售时间</th>\n",
       "      <th>交货时间</th>\n",
       "      <th>货品交货状况</th>\n",
       "      <th>货品</th>\n",
       "      <th>货品用户反馈</th>\n",
       "      <th>销售区域</th>\n",
       "      <th>数量</th>\n",
       "      <th>销售金额</th>\n",
       "      <th>时间</th>\n",
       "    </tr>\n",
       "  </thead>\n",
       "  <tbody>\n",
       "    <tr>\n",
       "      <th>0</th>\n",
       "      <td>P096311</td>\n",
       "      <td>10</td>\n",
       "      <td>2016-7-30</td>\n",
       "      <td>2016-9-30</td>\n",
       "      <td>晚交货</td>\n",
       "      <td>货品3</td>\n",
       "      <td>质量合格</td>\n",
       "      <td>华北</td>\n",
       "      <td>2.0</td>\n",
       "      <td>1052.75</td>\n",
       "      <td>2016-09-30</td>\n",
       "    </tr>\n",
       "    <tr>\n",
       "      <th>1</th>\n",
       "      <td>P096826</td>\n",
       "      <td>10</td>\n",
       "      <td>2016-8-30</td>\n",
       "      <td>2016-10-30</td>\n",
       "      <td>按时交货</td>\n",
       "      <td>货品3</td>\n",
       "      <td>质量合格</td>\n",
       "      <td>华北</td>\n",
       "      <td>10.0</td>\n",
       "      <td>115000.00</td>\n",
       "      <td>2016-10-30</td>\n",
       "    </tr>\n",
       "    <tr>\n",
       "      <th>3</th>\n",
       "      <td>P097435</td>\n",
       "      <td>10</td>\n",
       "      <td>2016-7-30</td>\n",
       "      <td>2016-9-30</td>\n",
       "      <td>按时交货</td>\n",
       "      <td>货品1</td>\n",
       "      <td>返修</td>\n",
       "      <td>华南</td>\n",
       "      <td>2.0</td>\n",
       "      <td>6858.77</td>\n",
       "      <td>2016-09-30</td>\n",
       "    </tr>\n",
       "    <tr>\n",
       "      <th>4</th>\n",
       "      <td>P097446</td>\n",
       "      <td>60</td>\n",
       "      <td>2016-11-26</td>\n",
       "      <td>2017-1-26</td>\n",
       "      <td>晚交货</td>\n",
       "      <td>货品3</td>\n",
       "      <td>质量合格</td>\n",
       "      <td>华北</td>\n",
       "      <td>15.0</td>\n",
       "      <td>129.58</td>\n",
       "      <td>2017-01-26</td>\n",
       "    </tr>\n",
       "    <tr>\n",
       "      <th>5</th>\n",
       "      <td>P097446</td>\n",
       "      <td>80</td>\n",
       "      <td>2016-11-26</td>\n",
       "      <td>2017-1-26</td>\n",
       "      <td>晚交货</td>\n",
       "      <td>货品3</td>\n",
       "      <td>拒货</td>\n",
       "      <td>华北</td>\n",
       "      <td>15.0</td>\n",
       "      <td>32.39</td>\n",
       "      <td>2017-01-26</td>\n",
       "    </tr>\n",
       "  </tbody>\n",
       "</table>\n",
       "</div>"
      ],
      "text/plain": [
       "       订单号  订单行        销售时间        交货时间 货品交货状况   货品 货品用户反馈 销售区域    数量  \\\n",
       "0  P096311   10   2016-7-30   2016-9-30    晚交货  货品3   质量合格   华北   2.0   \n",
       "1  P096826   10   2016-8-30  2016-10-30   按时交货  货品3   质量合格   华北  10.0   \n",
       "3  P097435   10   2016-7-30   2016-9-30   按时交货  货品1     返修   华南   2.0   \n",
       "4  P097446   60  2016-11-26   2017-1-26    晚交货  货品3   质量合格   华北  15.0   \n",
       "5  P097446   80  2016-11-26   2017-1-26    晚交货  货品3     拒货   华北  15.0   \n",
       "\n",
       "        销售金额         时间  \n",
       "0    1052.75 2016-09-30  \n",
       "1  115000.00 2016-10-30  \n",
       "3    6858.77 2016-09-30  \n",
       "4     129.58 2017-01-26  \n",
       "5      32.39 2017-01-26  "
      ]
     },
     "execution_count": 11,
     "metadata": {},
     "output_type": "execute_result"
    }
   ],
   "source": [
    "# 删除无用列\n",
    "df.head()"
   ]
  },
  {
   "cell_type": "code",
   "execution_count": 12,
   "metadata": {},
   "outputs": [],
   "source": [
    "del df['订单号']\n",
    "del df['销售时间']\n",
    "del df['交货时间']"
   ]
  },
  {
   "cell_type": "markdown",
   "metadata": {},
   "source": [
    "# 二、时间金额分析"
   ]
  },
  {
   "cell_type": "markdown",
   "metadata": {},
   "source": [
    "## 2.1 月份提取"
   ]
  },
  {
   "cell_type": "code",
   "execution_count": 13,
   "metadata": {},
   "outputs": [
    {
     "data": {
      "text/html": [
       "<div>\n",
       "<style scoped>\n",
       "    .dataframe tbody tr th:only-of-type {\n",
       "        vertical-align: middle;\n",
       "    }\n",
       "\n",
       "    .dataframe tbody tr th {\n",
       "        vertical-align: top;\n",
       "    }\n",
       "\n",
       "    .dataframe thead th {\n",
       "        text-align: right;\n",
       "    }\n",
       "</style>\n",
       "<table border=\"1\" class=\"dataframe\">\n",
       "  <thead>\n",
       "    <tr style=\"text-align: right;\">\n",
       "      <th></th>\n",
       "      <th>订单行</th>\n",
       "      <th>货品交货状况</th>\n",
       "      <th>货品</th>\n",
       "      <th>货品用户反馈</th>\n",
       "      <th>销售区域</th>\n",
       "      <th>数量</th>\n",
       "      <th>销售金额</th>\n",
       "      <th>时间</th>\n",
       "      <th>月</th>\n",
       "    </tr>\n",
       "  </thead>\n",
       "  <tbody>\n",
       "    <tr>\n",
       "      <th>0</th>\n",
       "      <td>10</td>\n",
       "      <td>晚交货</td>\n",
       "      <td>货品3</td>\n",
       "      <td>质量合格</td>\n",
       "      <td>华北</td>\n",
       "      <td>2.0</td>\n",
       "      <td>1052.75</td>\n",
       "      <td>2016-09-30</td>\n",
       "      <td>9</td>\n",
       "    </tr>\n",
       "    <tr>\n",
       "      <th>1</th>\n",
       "      <td>10</td>\n",
       "      <td>按时交货</td>\n",
       "      <td>货品3</td>\n",
       "      <td>质量合格</td>\n",
       "      <td>华北</td>\n",
       "      <td>10.0</td>\n",
       "      <td>115000.00</td>\n",
       "      <td>2016-10-30</td>\n",
       "      <td>10</td>\n",
       "    </tr>\n",
       "    <tr>\n",
       "      <th>3</th>\n",
       "      <td>10</td>\n",
       "      <td>按时交货</td>\n",
       "      <td>货品1</td>\n",
       "      <td>返修</td>\n",
       "      <td>华南</td>\n",
       "      <td>2.0</td>\n",
       "      <td>6858.77</td>\n",
       "      <td>2016-09-30</td>\n",
       "      <td>9</td>\n",
       "    </tr>\n",
       "    <tr>\n",
       "      <th>4</th>\n",
       "      <td>60</td>\n",
       "      <td>晚交货</td>\n",
       "      <td>货品3</td>\n",
       "      <td>质量合格</td>\n",
       "      <td>华北</td>\n",
       "      <td>15.0</td>\n",
       "      <td>129.58</td>\n",
       "      <td>2017-01-26</td>\n",
       "      <td>1</td>\n",
       "    </tr>\n",
       "    <tr>\n",
       "      <th>5</th>\n",
       "      <td>80</td>\n",
       "      <td>晚交货</td>\n",
       "      <td>货品3</td>\n",
       "      <td>拒货</td>\n",
       "      <td>华北</td>\n",
       "      <td>15.0</td>\n",
       "      <td>32.39</td>\n",
       "      <td>2017-01-26</td>\n",
       "      <td>1</td>\n",
       "    </tr>\n",
       "  </tbody>\n",
       "</table>\n",
       "</div>"
      ],
      "text/plain": [
       "   订单行 货品交货状况   货品 货品用户反馈 销售区域    数量       销售金额         时间   月\n",
       "0   10    晚交货  货品3   质量合格   华北   2.0    1052.75 2016-09-30   9\n",
       "1   10   按时交货  货品3   质量合格   华北  10.0  115000.00 2016-10-30  10\n",
       "3   10   按时交货  货品1     返修   华南   2.0    6858.77 2016-09-30   9\n",
       "4   60    晚交货  货品3   质量合格   华北  15.0     129.58 2017-01-26   1\n",
       "5   80    晚交货  货品3     拒货   华北  15.0      32.39 2017-01-26   1"
      ]
     },
     "execution_count": 13,
     "metadata": {},
     "output_type": "execute_result"
    }
   ],
   "source": [
    "df['月'] = df['时间'].map(lambda x: x.month)\n",
    "df.head()"
   ]
  },
  {
   "cell_type": "markdown",
   "metadata": {},
   "source": [
    "## 2.2计算每个月的销售总值"
   ]
  },
  {
   "cell_type": "code",
   "execution_count": 14,
   "metadata": {},
   "outputs": [
    {
     "data": {
      "text/plain": [
       "月\n",
       "1     103517.57\n",
       "2     150946.79\n",
       "3      45562.82\n",
       "9     366163.48\n",
       "10    294996.80\n",
       "11    324293.94\n",
       "12    116636.14\n",
       "Name: 销售金额, dtype: float64"
      ]
     },
     "execution_count": 14,
     "metadata": {},
     "output_type": "execute_result"
    }
   ],
   "source": [
    "df.groupby('月').sum()['销售金额']"
   ]
  },
  {
   "cell_type": "markdown",
   "metadata": {},
   "source": [
    "## 2.3计算地区销售总值"
   ]
  },
  {
   "cell_type": "code",
   "execution_count": 15,
   "metadata": {},
   "outputs": [
    {
     "data": {
      "text/plain": [
       "销售区域\n",
       "华东      293196.29\n",
       "华北      634322.75\n",
       "华南      245527.74\n",
       "泰国       30365.26\n",
       "西北      127066.15\n",
       "马来西亚     71639.35\n",
       "Name: 销售金额, dtype: float64"
      ]
     },
     "execution_count": 15,
     "metadata": {},
     "output_type": "execute_result"
    }
   ],
   "source": [
    "df.groupby('销售区域').sum()['销售金额']"
   ]
  },
  {
   "cell_type": "markdown",
   "metadata": {},
   "source": [
    "## 2.4计算货品销售总值"
   ]
  },
  {
   "cell_type": "code",
   "execution_count": 16,
   "metadata": {},
   "outputs": [
    {
     "data": {
      "text/plain": [
       "货品\n",
       "货品1    462150.58\n",
       "货品2    305366.79\n",
       "货品3    520546.32\n",
       "货品4     24219.74\n",
       "货品5     30365.26\n",
       "货品6     59468.85\n",
       "Name: 销售金额, dtype: float64"
      ]
     },
     "execution_count": 16,
     "metadata": {},
     "output_type": "execute_result"
    }
   ],
   "source": [
    "df.groupby('货品').sum()['销售金额']"
   ]
  },
  {
   "cell_type": "markdown",
   "metadata": {},
   "source": [
    "公司9-11月销售高峰时段  \n",
    "国内高于海外    华北地区最好销售区域  \n",
    "货品1-3销售总量高"
   ]
  },
  {
   "cell_type": "markdown",
   "metadata": {},
   "source": [
    "# 三、货品交货状态分析"
   ]
  },
  {
   "cell_type": "markdown",
   "metadata": {},
   "source": [
    "## 3.1根据月份分析交货状态"
   ]
  },
  {
   "cell_type": "code",
   "execution_count": 17,
   "metadata": {},
   "outputs": [
    {
     "data": {
      "text/plain": [
       "<matplotlib.axes._subplots.AxesSubplot at 0x1a295903b70>"
      ]
     },
     "execution_count": 17,
     "metadata": {},
     "output_type": "execute_result"
    },
    {
     "data": {
      "image/png": "[encoded data removed]",
      "text/plain": [
       "<Figure size 432x288 with 1 Axes>"
      ]
     },
     "metadata": {
      "needs_background": "light"
     },
     "output_type": "display_data"
    }
   ],
   "source": [
    "df['货品交货状况'] = df['货品交货状况'].map(lambda x: x.strip()) # 去除文字前后空格\n",
    "df1 = df.groupby(['月', '货品交货状况']).size().unstack() # 交货状况横向显示 （列）\n",
    "df1['未按时交货比例'] = df1['晚交货'] / (df1['按时交货'] + df1['晚交货'])\n",
    "df1.plot(kind='bar', y='未按时交货比例')"
   ]
  },
  {
   "cell_type": "markdown",
   "metadata": {},
   "source": [
    "## 3.2 货品与交货状况比例关系"
   ]
  },
  {
   "cell_type": "code",
   "execution_count": 18,
   "metadata": {},
   "outputs": [
    {
     "data": {
      "text/plain": [
       "<matplotlib.axes._subplots.AxesSubplot at 0x1a295c4d9e8>"
      ]
     },
     "execution_count": 18,
     "metadata": {},
     "output_type": "execute_result"
    },
    {
     "data": {
      "image/png": "[encoded data removed]",
      "text/plain": [
       "<Figure size 432x288 with 1 Axes>"
      ]
     },
     "metadata": {},
     "output_type": "display_data"
    }
   ],
   "source": [
    "df1 = df.groupby(['货品', '货品交货状况']).size().unstack()\n",
    "df1['未按时交货比例'] = df1['晚交货'] / (df1['按时交货'] + df1['晚交货'])\n",
    "df1.plot(kind='pie', y='未按时交货比例', autopct='%1.1f%%')"
   ]
  },
  {
   "cell_type": "markdown",
   "metadata": {},
   "source": [
    "## 3.3 销售区域与交货状况比例关系"
   ]
  },
  {
   "cell_type": "code",
   "execution_count": 19,
   "metadata": {},
   "outputs": [
    {
     "data": {
      "text/plain": [
       "<matplotlib.legend.Legend at 0x1a295ca0dd8>"
      ]
     },
     "execution_count": 19,
     "metadata": {},
     "output_type": "execute_result"
    },
    {
     "data": {
      "image/png": "[encoded data removed]",
      "text/plain": [
       "<Figure size 432x288 with 1 Axes>"
      ]
     },
     "metadata": {},
     "output_type": "display_data"
    }
   ],
   "source": [
    "df1 = df.groupby(['销售区域', '货品交货状况']).size().unstack()\n",
    "df1['未按时交货比例'] = df1['晚交货'] / (df1['按时交货']+df1['晚交货'])\n",
    "df1.plot(kind='pie', y='未按时交货比例', autopct='%1.1f%%')\n",
    "plt.legend(loc='upper left')\n",
    "# 西北业务差，原因在于未按时交货比例高\n",
    "# 如果提升按时交货比例，是否可以提升营业额"
   ]
  },
  {
   "cell_type": "markdown",
   "metadata": {},
   "source": [
    "# 四、统计货物量"
   ]
  },
  {
   "cell_type": "markdown",
   "metadata": {},
   "source": [
    "## 4.1根据不同的月份,货物统计货物量"
   ]
  },
  {
   "cell_type": "code",
   "execution_count": 31,
   "metadata": {},
   "outputs": [
    {
     "data": {
      "text/plain": [
       "<matplotlib.axes._subplots.AxesSubplot at 0x1a29602ea90>"
      ]
     },
     "execution_count": 31,
     "metadata": {},
     "output_type": "execute_result"
    },
    {
     "data": {
      "image/png": "[encoded data removed]",
      "text/plain": [
       "<Figure size 432x288 with 1 Axes>"
      ]
     },
     "metadata": {
      "needs_background": "light"
     },
     "output_type": "display_data"
    }
   ],
   "source": [
    "df.groupby(['月','货品']).sum()['数量'].unstack().plot()"
   ]
  },
  {
   "cell_type": "markdown",
   "metadata": {},
   "source": [
    "## 4.2根据销售区域统计货物量"
   ]
  },
  {
   "cell_type": "code",
   "execution_count": 33,
   "metadata": {},
   "outputs": [
    {
     "data": {
      "text/plain": [
       "<matplotlib.axes._subplots.AxesSubplot at 0x1a296bcc710>"
      ]
     },
     "execution_count": 33,
     "metadata": {},
     "output_type": "execute_result"
    },
    {
     "data": {
      "image/png": "[encoded data removed]",
      "text/plain": [
       "<Figure size 432x288 with 1 Axes>"
      ]
     },
     "metadata": {},
     "output_type": "display_data"
    }
   ],
   "source": [
    "df.groupby('销售区域').sum()['数量'].plot(kind='pie')\n",
    "# 华东区域运营方式优化\n",
    "# 二八原则"
   ]
  },
  {
   "cell_type": "markdown",
   "metadata": {},
   "source": [
    "## 4.3根据不同货物统计货物量"
   ]
  },
  {
   "cell_type": "code",
   "execution_count": 34,
   "metadata": {},
   "outputs": [
    {
     "data": {
      "text/plain": [
       "<matplotlib.axes._subplots.AxesSubplot at 0x1a296e65208>"
      ]
     },
     "execution_count": 34,
     "metadata": {},
     "output_type": "execute_result"
    },
    {
     "data": {
      "image/png": "[encoded data removed]",
      "text/plain": [
       "<Figure size 432x288 with 1 Axes>"
      ]
     },
     "metadata": {
      "needs_background": "light"
     },
     "output_type": "display_data"
    }
   ],
   "source": [
    "df.groupby('货品').sum()['数量'].plot(kind='bar')"
   ]
  },
  {
   "cell_type": "markdown",
   "metadata": {},
   "source": [
    "## 4.4 计算不同销售区域货物单价"
   ]
  },
  {
   "cell_type": "code",
   "execution_count": 20,
   "metadata": {},
   "outputs": [
    {
     "data": {
      "text/html": [
       "<div>\n",
       "<style scoped>\n",
       "    .dataframe tbody tr th:only-of-type {\n",
       "        vertical-align: middle;\n",
       "    }\n",
       "\n",
       "    .dataframe tbody tr th {\n",
       "        vertical-align: top;\n",
       "    }\n",
       "\n",
       "    .dataframe thead th {\n",
       "        text-align: right;\n",
       "    }\n",
       "</style>\n",
       "<table border=\"1\" class=\"dataframe\">\n",
       "  <thead>\n",
       "    <tr style=\"text-align: right;\">\n",
       "      <th></th>\n",
       "      <th>订单行</th>\n",
       "      <th>货品交货状况</th>\n",
       "      <th>货品</th>\n",
       "      <th>货品用户反馈</th>\n",
       "      <th>销售区域</th>\n",
       "      <th>数量</th>\n",
       "      <th>销售金额</th>\n",
       "      <th>时间</th>\n",
       "      <th>月</th>\n",
       "      <th>货物单价</th>\n",
       "    </tr>\n",
       "  </thead>\n",
       "  <tbody>\n",
       "    <tr>\n",
       "      <th>0</th>\n",
       "      <td>10</td>\n",
       "      <td>晚交货</td>\n",
       "      <td>货品3</td>\n",
       "      <td>质量合格</td>\n",
       "      <td>华北</td>\n",
       "      <td>2.0</td>\n",
       "      <td>1052.75</td>\n",
       "      <td>2016-09-30</td>\n",
       "      <td>9</td>\n",
       "      <td>526.375000</td>\n",
       "    </tr>\n",
       "    <tr>\n",
       "      <th>1</th>\n",
       "      <td>10</td>\n",
       "      <td>按时交货</td>\n",
       "      <td>货品3</td>\n",
       "      <td>质量合格</td>\n",
       "      <td>华北</td>\n",
       "      <td>10.0</td>\n",
       "      <td>115000.00</td>\n",
       "      <td>2016-10-30</td>\n",
       "      <td>10</td>\n",
       "      <td>11500.000000</td>\n",
       "    </tr>\n",
       "    <tr>\n",
       "      <th>3</th>\n",
       "      <td>10</td>\n",
       "      <td>按时交货</td>\n",
       "      <td>货品1</td>\n",
       "      <td>返修</td>\n",
       "      <td>华南</td>\n",
       "      <td>2.0</td>\n",
       "      <td>6858.77</td>\n",
       "      <td>2016-09-30</td>\n",
       "      <td>9</td>\n",
       "      <td>3429.385000</td>\n",
       "    </tr>\n",
       "    <tr>\n",
       "      <th>4</th>\n",
       "      <td>60</td>\n",
       "      <td>晚交货</td>\n",
       "      <td>货品3</td>\n",
       "      <td>质量合格</td>\n",
       "      <td>华北</td>\n",
       "      <td>15.0</td>\n",
       "      <td>129.58</td>\n",
       "      <td>2017-01-26</td>\n",
       "      <td>1</td>\n",
       "      <td>8.638667</td>\n",
       "    </tr>\n",
       "    <tr>\n",
       "      <th>5</th>\n",
       "      <td>80</td>\n",
       "      <td>晚交货</td>\n",
       "      <td>货品3</td>\n",
       "      <td>拒货</td>\n",
       "      <td>华北</td>\n",
       "      <td>15.0</td>\n",
       "      <td>32.39</td>\n",
       "      <td>2017-01-26</td>\n",
       "      <td>1</td>\n",
       "      <td>2.159333</td>\n",
       "    </tr>\n",
       "  </tbody>\n",
       "</table>\n",
       "</div>"
      ],
      "text/plain": [
       "   订单行 货品交货状况   货品 货品用户反馈 销售区域    数量       销售金额         时间   月          货物单价\n",
       "0   10    晚交货  货品3   质量合格   华北   2.0    1052.75 2016-09-30   9    526.375000\n",
       "1   10   按时交货  货品3   质量合格   华北  10.0  115000.00 2016-10-30  10  11500.000000\n",
       "3   10   按时交货  货品1     返修   华南   2.0    6858.77 2016-09-30   9   3429.385000\n",
       "4   60    晚交货  货品3   质量合格   华北  15.0     129.58 2017-01-26   1      8.638667\n",
       "5   80    晚交货  货品3     拒货   华北  15.0      32.39 2017-01-26   1      2.159333"
      ]
     },
     "execution_count": 20,
     "metadata": {},
     "output_type": "execute_result"
    }
   ],
   "source": [
    "# 新的列创建货物单价\n",
    "df['货物单价'] = df['销售金额'] / df['数量']\n",
    "df.head()"
   ]
  },
  {
   "cell_type": "code",
   "execution_count": 25,
   "metadata": {},
   "outputs": [
    {
     "data": {
      "text/html": [
       "<div>\n",
       "<style scoped>\n",
       "    .dataframe tbody tr th:only-of-type {\n",
       "        vertical-align: middle;\n",
       "    }\n",
       "\n",
       "    .dataframe tbody tr th {\n",
       "        vertical-align: top;\n",
       "    }\n",
       "\n",
       "    .dataframe thead th {\n",
       "        text-align: right;\n",
       "    }\n",
       "</style>\n",
       "<table border=\"1\" class=\"dataframe\">\n",
       "  <thead>\n",
       "    <tr style=\"text-align: right;\">\n",
       "      <th>货品</th>\n",
       "      <th>货品1</th>\n",
       "      <th>货品2</th>\n",
       "      <th>货品3</th>\n",
       "      <th>货品4</th>\n",
       "      <th>货品5</th>\n",
       "      <th>货品6</th>\n",
       "    </tr>\n",
       "    <tr>\n",
       "      <th>销售区域</th>\n",
       "      <th></th>\n",
       "      <th></th>\n",
       "      <th></th>\n",
       "      <th></th>\n",
       "      <th></th>\n",
       "      <th></th>\n",
       "    </tr>\n",
       "  </thead>\n",
       "  <tbody>\n",
       "    <tr>\n",
       "      <th>华东</th>\n",
       "      <td>0.000000</td>\n",
       "      <td>689.681560</td>\n",
       "      <td>0.000000</td>\n",
       "      <td>0.000000</td>\n",
       "      <td>0.000000</td>\n",
       "      <td>0.000</td>\n",
       "    </tr>\n",
       "    <tr>\n",
       "      <th>华北</th>\n",
       "      <td>6852.682506</td>\n",
       "      <td>0.000000</td>\n",
       "      <td>1693.753672</td>\n",
       "      <td>0.000000</td>\n",
       "      <td>0.000000</td>\n",
       "      <td>0.000</td>\n",
       "    </tr>\n",
       "    <tr>\n",
       "      <th>华南</th>\n",
       "      <td>17821.832086</td>\n",
       "      <td>0.000000</td>\n",
       "      <td>0.000000</td>\n",
       "      <td>0.000000</td>\n",
       "      <td>0.000000</td>\n",
       "      <td>0.000</td>\n",
       "    </tr>\n",
       "    <tr>\n",
       "      <th>泰国</th>\n",
       "      <td>0.000000</td>\n",
       "      <td>0.000000</td>\n",
       "      <td>0.000000</td>\n",
       "      <td>0.000000</td>\n",
       "      <td>108.759334</td>\n",
       "      <td>0.000</td>\n",
       "    </tr>\n",
       "    <tr>\n",
       "      <th>西北</th>\n",
       "      <td>33208.281852</td>\n",
       "      <td>0.000000</td>\n",
       "      <td>0.000000</td>\n",
       "      <td>262.113821</td>\n",
       "      <td>0.000000</td>\n",
       "      <td>0.000</td>\n",
       "    </tr>\n",
       "    <tr>\n",
       "      <th>马来西亚</th>\n",
       "      <td>0.000000</td>\n",
       "      <td>773.216113</td>\n",
       "      <td>0.000000</td>\n",
       "      <td>0.000000</td>\n",
       "      <td>0.000000</td>\n",
       "      <td>124.375</td>\n",
       "    </tr>\n",
       "  </tbody>\n",
       "</table>\n",
       "</div>"
      ],
      "text/plain": [
       "货品             货品1         货品2          货品3         货品4         货品5      货品6\n",
       "销售区域                                                                        \n",
       "华东        0.000000  689.681560     0.000000    0.000000    0.000000    0.000\n",
       "华北     6852.682506    0.000000  1693.753672    0.000000    0.000000    0.000\n",
       "华南    17821.832086    0.000000     0.000000    0.000000    0.000000    0.000\n",
       "泰国        0.000000    0.000000     0.000000    0.000000  108.759334    0.000\n",
       "西北    33208.281852    0.000000     0.000000  262.113821    0.000000    0.000\n",
       "马来西亚      0.000000  773.216113     0.000000    0.000000    0.000000  124.375"
      ]
     },
     "execution_count": 25,
     "metadata": {},
     "output_type": "execute_result"
    }
   ],
   "source": [
    "df1 = df.groupby(['销售区域', '货品']).mean().unstack()['货物单价']\n",
    "df1.fillna(0, inplace=True)# 填充缺失值\n",
    "df1"
   ]
  },
  {
   "cell_type": "markdown",
   "metadata": {},
   "source": [
    "# 五、用户反馈"
   ]
  },
  {
   "cell_type": "code",
   "execution_count": 39,
   "metadata": {},
   "outputs": [
    {
     "data": {
      "text/html": [
       "<div>\n",
       "<style scoped>\n",
       "    .dataframe tbody tr th:only-of-type {\n",
       "        vertical-align: middle;\n",
       "    }\n",
       "\n",
       "    .dataframe tbody tr th {\n",
       "        vertical-align: top;\n",
       "    }\n",
       "\n",
       "    .dataframe thead th {\n",
       "        text-align: right;\n",
       "    }\n",
       "</style>\n",
       "<table border=\"1\" class=\"dataframe\">\n",
       "  <thead>\n",
       "    <tr style=\"text-align: right;\">\n",
       "      <th></th>\n",
       "      <th>货品用户反馈</th>\n",
       "      <th>拒货</th>\n",
       "      <th>质量合格</th>\n",
       "      <th>返修</th>\n",
       "      <th>总数量</th>\n",
       "      <th>拒货率</th>\n",
       "      <th>返修率</th>\n",
       "    </tr>\n",
       "    <tr>\n",
       "      <th>货品</th>\n",
       "      <th>销售区域</th>\n",
       "      <th></th>\n",
       "      <th></th>\n",
       "      <th></th>\n",
       "      <th></th>\n",
       "      <th></th>\n",
       "      <th></th>\n",
       "    </tr>\n",
       "  </thead>\n",
       "  <tbody>\n",
       "    <tr>\n",
       "      <th rowspan=\"3\" valign=\"top\">货品1</th>\n",
       "      <th>华北</th>\n",
       "      <td>0.0</td>\n",
       "      <td>3.0</td>\n",
       "      <td>12.0</td>\n",
       "      <td>15.0</td>\n",
       "      <td>0.000000</td>\n",
       "      <td>0.800000</td>\n",
       "    </tr>\n",
       "    <tr>\n",
       "      <th>华南</th>\n",
       "      <td>5.0</td>\n",
       "      <td>4.0</td>\n",
       "      <td>2.0</td>\n",
       "      <td>11.0</td>\n",
       "      <td>0.454545</td>\n",
       "      <td>0.181818</td>\n",
       "    </tr>\n",
       "    <tr>\n",
       "      <th>西北</th>\n",
       "      <td>0.0</td>\n",
       "      <td>1.0</td>\n",
       "      <td>2.0</td>\n",
       "      <td>3.0</td>\n",
       "      <td>0.000000</td>\n",
       "      <td>0.666667</td>\n",
       "    </tr>\n",
       "    <tr>\n",
       "      <th rowspan=\"2\" valign=\"top\">货品2</th>\n",
       "      <th>华东</th>\n",
       "      <td>72.0</td>\n",
       "      <td>184.0</td>\n",
       "      <td>51.0</td>\n",
       "      <td>307.0</td>\n",
       "      <td>0.234528</td>\n",
       "      <td>0.166124</td>\n",
       "    </tr>\n",
       "    <tr>\n",
       "      <th>马来西亚</th>\n",
       "      <td>6.0</td>\n",
       "      <td>1.0</td>\n",
       "      <td>3.0</td>\n",
       "      <td>10.0</td>\n",
       "      <td>0.600000</td>\n",
       "      <td>0.300000</td>\n",
       "    </tr>\n",
       "    <tr>\n",
       "      <th>货品3</th>\n",
       "      <th>华北</th>\n",
       "      <td>31.0</td>\n",
       "      <td>188.0</td>\n",
       "      <td>19.0</td>\n",
       "      <td>238.0</td>\n",
       "      <td>0.130252</td>\n",
       "      <td>0.079832</td>\n",
       "    </tr>\n",
       "    <tr>\n",
       "      <th>货品4</th>\n",
       "      <th>西北</th>\n",
       "      <td>0.0</td>\n",
       "      <td>9.0</td>\n",
       "      <td>49.0</td>\n",
       "      <td>58.0</td>\n",
       "      <td>0.000000</td>\n",
       "      <td>0.844828</td>\n",
       "    </tr>\n",
       "    <tr>\n",
       "      <th>货品5</th>\n",
       "      <th>泰国</th>\n",
       "      <td>14.0</td>\n",
       "      <td>144.0</td>\n",
       "      <td>29.0</td>\n",
       "      <td>187.0</td>\n",
       "      <td>0.074866</td>\n",
       "      <td>0.155080</td>\n",
       "    </tr>\n",
       "    <tr>\n",
       "      <th>货品6</th>\n",
       "      <th>马来西亚</th>\n",
       "      <td>56.0</td>\n",
       "      <td>246.0</td>\n",
       "      <td>14.0</td>\n",
       "      <td>316.0</td>\n",
       "      <td>0.177215</td>\n",
       "      <td>0.044304</td>\n",
       "    </tr>\n",
       "  </tbody>\n",
       "</table>\n",
       "</div>"
      ],
      "text/plain": [
       "货品用户反馈      拒货   质量合格    返修    总数量       拒货率       返修率\n",
       "货品  销售区域                                              \n",
       "货品1 华北     0.0    3.0  12.0   15.0  0.000000  0.800000\n",
       "    华南     5.0    4.0   2.0   11.0  0.454545  0.181818\n",
       "    西北     0.0    1.0   2.0    3.0  0.000000  0.666667\n",
       "货品2 华东    72.0  184.0  51.0  307.0  0.234528  0.166124\n",
       "    马来西亚   6.0    1.0   3.0   10.0  0.600000  0.300000\n",
       "货品3 华北    31.0  188.0  19.0  238.0  0.130252  0.079832\n",
       "货品4 西北     0.0    9.0  49.0   58.0  0.000000  0.844828\n",
       "货品5 泰国    14.0  144.0  29.0  187.0  0.074866  0.155080\n",
       "货品6 马来西亚  56.0  246.0  14.0  316.0  0.177215  0.044304"
      ]
     },
     "execution_count": 39,
     "metadata": {},
     "output_type": "execute_result"
    }
   ],
   "source": [
    "df1 = df.groupby(['货品', '销售区域'])['货品用户反馈'].value_counts().unstack()\n",
    "# 不同区域的拒货率， 不同区域返修率\n",
    "df1.fillna(0, inplace=True)\n",
    "# 创建所有数据和\n",
    "df1['总数量'] = df1['拒货'] + df1['质量合格'] + df1['返修']\n",
    "df1['拒货率'] = df1['拒货'] / df1['总数量']\n",
    "df1['返修率'] = df1['返修'] / df1['总数量']\n",
    "df1"
   ]
  },
  {
   "cell_type": "code",
   "execution_count": null,
   "metadata": {},
   "outputs": [],
   "source": [
    "# 降低马来西亚，华南地区拒货率   以及西北返修率"
   ]
  }
 ],
 "metadata": {
  "kernelspec": {
   "display_name": "Python 3",
   "language": "python",
   "name": "python3"
  },
  "language_info": {
   "codemirror_mode": {
    "name": "ipython",
    "version": 3
   },
   "file_extension": ".py",
   "mimetype": "text/x-python",
   "name": "python",
   "nbconvert_exporter": "python",
   "pygments_lexer": "ipython3",
   "version": "3.7.3"
  }
 },
 "nbformat": 4,
 "nbformat_minor": 2
}
