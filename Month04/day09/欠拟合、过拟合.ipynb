{
 "cells": [
  {
   "cell_type": "markdown",
   "metadata": {},
   "source": [
    "欠拟合：训练集得分低，测试集得分低  \n",
    "过拟合：训练集得分高，测试集得分低"
   ]
  },
  {
   "cell_type": "code",
   "execution_count": 1,
   "metadata": {},
   "outputs": [],
   "source": [
    "from sklearn.datasets import load_boston # 加载波士顿房价数据集\n",
    "from sklearn.linear_model import LinearRegression\n",
    "from sklearn.metrics import r2_score\n",
    "from sklearn.model_selection import train_test_split"
   ]
  },
  {
   "cell_type": "code",
   "execution_count": 2,
   "metadata": {},
   "outputs": [
    {
     "name": "stdout",
     "output_type": "stream",
     "text": [
      "(404, 13)\n"
     ]
    }
   ],
   "source": [
    "# 加载数据集\n",
    "x, y = load_boston(return_X_y=True)\n",
    "# 切分数据，8:2\n",
    "x_train, x_test, y_train, y_test = train_test_split(x, y, test_size=0.2, random_state=123)\n",
    "print(x_train.shape)"
   ]
  },
  {
   "cell_type": "markdown",
   "metadata": {},
   "source": [
    "由于模型比较简单，但是训练集和测试集分数相差大，出现过拟合"
   ]
  },
  {
   "cell_type": "code",
   "execution_count": 3,
   "metadata": {},
   "outputs": [
    {
     "name": "stdout",
     "output_type": "stream",
     "text": [
      "train 0.7559380876016175\n",
      "test 0.6592466510354097\n"
     ]
    }
   ],
   "source": [
    "# 创建模型训练\n",
    "model = LinearRegression()\n",
    "model.fit(x_train, y_train)\n",
    "print('train', model.score(x_train, y_train))\n",
    "print('test', model.score(x_test, y_test))"
   ]
  },
  {
   "cell_type": "code",
   "execution_count": 4,
   "metadata": {},
   "outputs": [
    {
     "data": {
      "text/plain": [
       "array([[6.3200e-03, 1.8000e+01, 2.3100e+00, ..., 1.5300e+01, 3.9690e+02,\n",
       "        4.9800e+00],\n",
       "       [2.7310e-02, 0.0000e+00, 7.0700e+00, ..., 1.7800e+01, 3.9690e+02,\n",
       "        9.1400e+00],\n",
       "       [2.7290e-02, 0.0000e+00, 7.0700e+00, ..., 1.7800e+01, 3.9283e+02,\n",
       "        4.0300e+00],\n",
       "       ...,\n",
       "       [6.0760e-02, 0.0000e+00, 1.1930e+01, ..., 2.1000e+01, 3.9690e+02,\n",
       "        5.6400e+00],\n",
       "       [1.0959e-01, 0.0000e+00, 1.1930e+01, ..., 2.1000e+01, 3.9345e+02,\n",
       "        6.4800e+00],\n",
       "       [4.7410e-02, 0.0000e+00, 1.1930e+01, ..., 2.1000e+01, 3.9690e+02,\n",
       "        7.8800e+00]])"
      ]
     },
     "execution_count": 4,
     "metadata": {},
     "output_type": "execute_result"
    }
   ],
   "source": [
    "x # 查看特征，数值相差大，进行特征缩放"
   ]
  },
  {
   "cell_type": "code",
   "execution_count": 5,
   "metadata": {},
   "outputs": [],
   "source": [
    "# 因为数据已经经过特征缩放了，所以没有任何作用\n",
    "from sklearn.preprocessing import MinMaxScaler"
   ]
  },
  {
   "cell_type": "code",
   "execution_count": 6,
   "metadata": {},
   "outputs": [],
   "source": [
    "minmax = MinMaxScaler()\n",
    "minmax.fit(x_train) # fit 只能在训练集\n",
    "x_train = minmax.transform(x_train)\n",
    "x_test = minmax.transform(x_test)"
   ]
  },
  {
   "cell_type": "code",
   "execution_count": 7,
   "metadata": {},
   "outputs": [
    {
     "name": "stdout",
     "output_type": "stream",
     "text": [
      "train 0.7559380876016175\n",
      "test 0.6592466510354096\n"
     ]
    }
   ],
   "source": [
    "# 创建模型训练  正常特征缩放可以解决模型过拟合问题，但是当前数据已经做过特征缩放，所以没有作用\n",
    "model = LinearRegression()\n",
    "model.fit(x_train, y_train)\n",
    "print('train', model.score(x_train, y_train))\n",
    "print('test', model.score(x_test, y_test))"
   ]
  },
  {
   "cell_type": "markdown",
   "metadata": {},
   "source": [
    "正则化最常用处理模型过拟合的方式"
   ]
  },
  {
   "cell_type": "code",
   "execution_count": 8,
   "metadata": {},
   "outputs": [],
   "source": [
    "# L1 Lasso 套索回归  特征筛选     L2 Ridge 岭回归  处理过拟合问题  权重变小\n",
    "from sklearn.linear_model import Lasso, Ridge"
   ]
  },
  {
   "cell_type": "code",
   "execution_count": 13,
   "metadata": {},
   "outputs": [
    {
     "name": "stdout",
     "output_type": "stream",
     "text": [
      "train 0.7122445217557418\n",
      "test 0.5890105377961613\n"
     ]
    }
   ],
   "source": [
    "# L1正则\n",
    "l1 = Lasso(alpha=0.1) # 正则化系数\n",
    "l1.fit(x_train, y_train)\n",
    "print('train', l1.score(x_train, y_train))\n",
    "print('test', l1.score(x_test, y_test))"
   ]
  },
  {
   "cell_type": "code",
   "execution_count": 14,
   "metadata": {},
   "outputs": [
    {
     "data": {
      "text/plain": [
       "array([ -0.        ,   0.        ,  -0.        ,   0.22769147,\n",
       "        -0.        ,  21.22252651,  -0.        ,  -1.86674769,\n",
       "         0.        ,  -1.25476345,  -6.96153372,   1.1295474 ,\n",
       "       -19.33703323])"
      ]
     },
     "execution_count": 14,
     "metadata": {},
     "output_type": "execute_result"
    }
   ],
   "source": [
    "l1.coef_ # 权重"
   ]
  },
  {
   "cell_type": "code",
   "execution_count": 16,
   "metadata": {},
   "outputs": [
    {
     "name": "stdout",
     "output_type": "stream",
     "text": [
      "train 0.754785017061654\n",
      "test 0.6628944355802883\n"
     ]
    }
   ],
   "source": [
    "# L2正则\n",
    "l2 = Ridge(alpha=0.5)\n",
    "l2.fit(x_train, y_train)\n",
    "print('train', l2.score(x_train, y_train))\n",
    "print('test', l2.score(x_test, y_test))"
   ]
  },
  {
   "cell_type": "markdown",
   "metadata": {},
   "source": [
    "网格搜索交叉验证  \n",
    "调参 查找最优参数值 "
   ]
  },
  {
   "cell_type": "code",
   "execution_count": 17,
   "metadata": {},
   "outputs": [],
   "source": [
    "from sklearn.model_selection import GridSearchCV"
   ]
  },
  {
   "cell_type": "code",
   "execution_count": 19,
   "metadata": {},
   "outputs": [
    {
     "name": "stdout",
     "output_type": "stream",
     "text": [
      "打印模型最优得分 0.7324499790523256\n",
      "模型最优参数 {'alpha': 0.4}\n"
     ]
    }
   ],
   "source": [
    "# 第一步创建需要调参的模型\n",
    "l2 = Ridge() # 不能写参数  \n",
    "# 填写调整的参数  {‘参数名’:[参数值]}\n",
    "pg = {'alpha': [0.2, 0.4, 0.6, 0.8]}\n",
    "# 创建网格搜索\n",
    "model = GridSearchCV(l2, pg, cv=5)# 模型、调整的参数值、交叉验证的折数\n",
    "model.fit(x_train, y_train)\n",
    "print('打印模型最优得分', model.best_score_)\n",
    "print('模型最优参数', model.best_params_)"
   ]
  },
  {
   "cell_type": "code",
   "execution_count": 20,
   "metadata": {},
   "outputs": [
    {
     "name": "stdout",
     "output_type": "stream",
     "text": [
      "train 0.7551700779427534\n",
      "test 0.6622833325446515\n"
     ]
    }
   ],
   "source": [
    "# 使用最优参数创建模型，打印最终的效果\n",
    "l2 = Ridge(alpha=0.4)\n",
    "l2.fit(x_train, y_train)\n",
    "print('train', l2.score(x_train, y_train))\n",
    "print('test', l2.score(x_test, y_test))"
   ]
  },
  {
   "cell_type": "code",
   "execution_count": null,
   "metadata": {},
   "outputs": [],
   "source": []
  }
 ],
 "metadata": {
  "kernelspec": {
   "display_name": "Python 3",
   "language": "python",
   "name": "python3"
  },
  "language_info": {
   "codemirror_mode": {
    "name": "ipython",
    "version": 3
   },
   "file_extension": ".py",
   "mimetype": "text/x-python",
   "name": "python",
   "nbconvert_exporter": "python",
   "pygments_lexer": "ipython3",
   "version": "3.7.3"
  }
 },
 "nbformat": 4,
 "nbformat_minor": 2
}
