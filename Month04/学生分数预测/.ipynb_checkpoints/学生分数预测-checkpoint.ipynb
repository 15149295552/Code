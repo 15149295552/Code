{
 "cells": [
  {
   "cell_type": "markdown",
   "metadata": {},
   "source": [
    "# 一、数据分析"
   ]
  },
  {
   "cell_type": "code",
   "execution_count": 1,
   "metadata": {},
   "outputs": [],
   "source": [
    "import numpy as np\n",
    "import pandas as pd \n",
    "import matplotlib.pyplot as plt\n",
    "import seaborn as sns"
   ]
  },
  {
   "cell_type": "code",
   "execution_count": 2,
   "metadata": {},
   "outputs": [],
   "source": [
    "plt.rcParams['font.sans-serif'] = ['SimHei']\n",
    "plt.rcParams['axes.unicode_minus'] = False"
   ]
  },
  {
   "cell_type": "code",
   "execution_count": 3,
   "metadata": {},
   "outputs": [
    {
     "data": {
      "text/html": [
       "<div>\n",
       "<style scoped>\n",
       "    .dataframe tbody tr th:only-of-type {\n",
       "        vertical-align: middle;\n",
       "    }\n",
       "\n",
       "    .dataframe tbody tr th {\n",
       "        vertical-align: top;\n",
       "    }\n",
       "\n",
       "    .dataframe thead th {\n",
       "        text-align: right;\n",
       "    }\n",
       "</style>\n",
       "<table border=\"1\" class=\"dataframe\">\n",
       "  <thead>\n",
       "    <tr style=\"text-align: right;\">\n",
       "      <th></th>\n",
       "      <th>school</th>\n",
       "      <th>school_setting</th>\n",
       "      <th>school_type</th>\n",
       "      <th>classroom</th>\n",
       "      <th>teaching_method</th>\n",
       "      <th>n_student</th>\n",
       "      <th>student_id</th>\n",
       "      <th>gender</th>\n",
       "      <th>lunch</th>\n",
       "      <th>pretest</th>\n",
       "      <th>posttest</th>\n",
       "    </tr>\n",
       "  </thead>\n",
       "  <tbody>\n",
       "    <tr>\n",
       "      <th>0</th>\n",
       "      <td>ANKYI</td>\n",
       "      <td>Urban</td>\n",
       "      <td>Non-public</td>\n",
       "      <td>6OL</td>\n",
       "      <td>Standard</td>\n",
       "      <td>20.0</td>\n",
       "      <td>2FHT3</td>\n",
       "      <td>Female</td>\n",
       "      <td>Does not qualify</td>\n",
       "      <td>62.0</td>\n",
       "      <td>72.0</td>\n",
       "    </tr>\n",
       "    <tr>\n",
       "      <th>1</th>\n",
       "      <td>ANKYI</td>\n",
       "      <td>Urban</td>\n",
       "      <td>Non-public</td>\n",
       "      <td>6OL</td>\n",
       "      <td>Standard</td>\n",
       "      <td>20.0</td>\n",
       "      <td>3JIVH</td>\n",
       "      <td>Female</td>\n",
       "      <td>Does not qualify</td>\n",
       "      <td>66.0</td>\n",
       "      <td>79.0</td>\n",
       "    </tr>\n",
       "    <tr>\n",
       "      <th>2</th>\n",
       "      <td>ANKYI</td>\n",
       "      <td>Urban</td>\n",
       "      <td>Non-public</td>\n",
       "      <td>6OL</td>\n",
       "      <td>Standard</td>\n",
       "      <td>20.0</td>\n",
       "      <td>3XOWE</td>\n",
       "      <td>Male</td>\n",
       "      <td>Does not qualify</td>\n",
       "      <td>64.0</td>\n",
       "      <td>76.0</td>\n",
       "    </tr>\n",
       "    <tr>\n",
       "      <th>3</th>\n",
       "      <td>ANKYI</td>\n",
       "      <td>Urban</td>\n",
       "      <td>Non-public</td>\n",
       "      <td>6OL</td>\n",
       "      <td>Standard</td>\n",
       "      <td>20.0</td>\n",
       "      <td>556O0</td>\n",
       "      <td>Female</td>\n",
       "      <td>Does not qualify</td>\n",
       "      <td>61.0</td>\n",
       "      <td>77.0</td>\n",
       "    </tr>\n",
       "    <tr>\n",
       "      <th>4</th>\n",
       "      <td>ANKYI</td>\n",
       "      <td>Urban</td>\n",
       "      <td>Non-public</td>\n",
       "      <td>6OL</td>\n",
       "      <td>Standard</td>\n",
       "      <td>20.0</td>\n",
       "      <td>74LOE</td>\n",
       "      <td>Male</td>\n",
       "      <td>Does not qualify</td>\n",
       "      <td>64.0</td>\n",
       "      <td>76.0</td>\n",
       "    </tr>\n",
       "  </tbody>\n",
       "</table>\n",
       "</div>"
      ],
      "text/plain": [
       "  school school_setting school_type classroom teaching_method  n_student  \\\n",
       "0  ANKYI          Urban  Non-public       6OL        Standard       20.0   \n",
       "1  ANKYI          Urban  Non-public       6OL        Standard       20.0   \n",
       "2  ANKYI          Urban  Non-public       6OL        Standard       20.0   \n",
       "3  ANKYI          Urban  Non-public       6OL        Standard       20.0   \n",
       "4  ANKYI          Urban  Non-public       6OL        Standard       20.0   \n",
       "\n",
       "  student_id  gender             lunch  pretest  posttest  \n",
       "0      2FHT3  Female  Does not qualify     62.0      72.0  \n",
       "1      3JIVH  Female  Does not qualify     66.0      79.0  \n",
       "2      3XOWE    Male  Does not qualify     64.0      76.0  \n",
       "3      556O0  Female  Does not qualify     61.0      77.0  \n",
       "4      74LOE    Male  Does not qualify     64.0      76.0  "
      ]
     },
     "execution_count": 3,
     "metadata": {},
     "output_type": "execute_result"
    }
   ],
   "source": [
    "df = pd.read_csv('test_scores.csv')\n",
    "df.head()"
   ]
  },
  {
   "cell_type": "code",
   "execution_count": 4,
   "metadata": {},
   "outputs": [
    {
     "name": "stdout",
     "output_type": "stream",
     "text": [
      "<class 'pandas.core.frame.DataFrame'>\n",
      "RangeIndex: 2133 entries, 0 to 2132\n",
      "Data columns (total 11 columns):\n",
      "school             2133 non-null object\n",
      "school_setting     2133 non-null object\n",
      "school_type        2133 non-null object\n",
      "classroom          2133 non-null object\n",
      "teaching_method    2133 non-null object\n",
      "n_student          2133 non-null float64\n",
      "student_id         2133 non-null object\n",
      "gender             2133 non-null object\n",
      "lunch              2133 non-null object\n",
      "pretest            2133 non-null float64\n",
      "posttest           2133 non-null float64\n",
      "dtypes: float64(3), object(8)\n",
      "memory usage: 183.4+ KB\n"
     ]
    }
   ],
   "source": [
    "df.info()"
   ]
  },
  {
   "cell_type": "code",
   "execution_count": 5,
   "metadata": {},
   "outputs": [
    {
     "data": {
      "text/html": [
       "<div>\n",
       "<style scoped>\n",
       "    .dataframe tbody tr th:only-of-type {\n",
       "        vertical-align: middle;\n",
       "    }\n",
       "\n",
       "    .dataframe tbody tr th {\n",
       "        vertical-align: top;\n",
       "    }\n",
       "\n",
       "    .dataframe thead th {\n",
       "        text-align: right;\n",
       "    }\n",
       "</style>\n",
       "<table border=\"1\" class=\"dataframe\">\n",
       "  <thead>\n",
       "    <tr style=\"text-align: right;\">\n",
       "      <th></th>\n",
       "      <th>n_student</th>\n",
       "      <th>pretest</th>\n",
       "      <th>posttest</th>\n",
       "    </tr>\n",
       "  </thead>\n",
       "  <tbody>\n",
       "    <tr>\n",
       "      <th>count</th>\n",
       "      <td>2133.000000</td>\n",
       "      <td>2133.000000</td>\n",
       "      <td>2133.000000</td>\n",
       "    </tr>\n",
       "    <tr>\n",
       "      <th>mean</th>\n",
       "      <td>22.796531</td>\n",
       "      <td>54.955931</td>\n",
       "      <td>67.102203</td>\n",
       "    </tr>\n",
       "    <tr>\n",
       "      <th>std</th>\n",
       "      <td>4.228893</td>\n",
       "      <td>13.563101</td>\n",
       "      <td>13.986789</td>\n",
       "    </tr>\n",
       "    <tr>\n",
       "      <th>min</th>\n",
       "      <td>14.000000</td>\n",
       "      <td>22.000000</td>\n",
       "      <td>32.000000</td>\n",
       "    </tr>\n",
       "    <tr>\n",
       "      <th>25%</th>\n",
       "      <td>20.000000</td>\n",
       "      <td>44.000000</td>\n",
       "      <td>56.000000</td>\n",
       "    </tr>\n",
       "    <tr>\n",
       "      <th>50%</th>\n",
       "      <td>22.000000</td>\n",
       "      <td>56.000000</td>\n",
       "      <td>68.000000</td>\n",
       "    </tr>\n",
       "    <tr>\n",
       "      <th>75%</th>\n",
       "      <td>27.000000</td>\n",
       "      <td>65.000000</td>\n",
       "      <td>77.000000</td>\n",
       "    </tr>\n",
       "    <tr>\n",
       "      <th>max</th>\n",
       "      <td>31.000000</td>\n",
       "      <td>93.000000</td>\n",
       "      <td>100.000000</td>\n",
       "    </tr>\n",
       "  </tbody>\n",
       "</table>\n",
       "</div>"
      ],
      "text/plain": [
       "         n_student      pretest     posttest\n",
       "count  2133.000000  2133.000000  2133.000000\n",
       "mean     22.796531    54.955931    67.102203\n",
       "std       4.228893    13.563101    13.986789\n",
       "min      14.000000    22.000000    32.000000\n",
       "25%      20.000000    44.000000    56.000000\n",
       "50%      22.000000    56.000000    68.000000\n",
       "75%      27.000000    65.000000    77.000000\n",
       "max      31.000000    93.000000   100.000000"
      ]
     },
     "execution_count": 5,
     "metadata": {},
     "output_type": "execute_result"
    }
   ],
   "source": [
    "df.describe()"
   ]
  },
  {
   "cell_type": "markdown",
   "metadata": {},
   "source": [
    "查看离散数据的数据值"
   ]
  },
  {
   "cell_type": "code",
   "execution_count": 6,
   "metadata": {},
   "outputs": [
    {
     "data": {
      "text/plain": [
       "Index(['school', 'school_setting', 'school_type', 'classroom',\n",
       "       'teaching_method', 'n_student', 'student_id', 'gender', 'lunch',\n",
       "       'pretest', 'posttest'],\n",
       "      dtype='object')"
      ]
     },
     "execution_count": 6,
     "metadata": {},
     "output_type": "execute_result"
    }
   ],
   "source": [
    "df.columns"
   ]
  },
  {
   "cell_type": "code",
   "execution_count": 7,
   "metadata": {},
   "outputs": [
    {
     "name": "stdout",
     "output_type": "stream",
     "text": [
      "--- school ---\n",
      "GOOBU    158\n",
      "QOQTS    149\n",
      "UKPGS    128\n",
      "DNQDD    122\n",
      "GJJHK    118\n",
      "ZOWMK    117\n",
      "VVTVA    114\n",
      "KZKKE    111\n",
      "CCAAW    109\n",
      "CUQAM    107\n",
      "VKWQH    100\n",
      "IDGFP     94\n",
      "UAGPU     87\n",
      "UUUQX     84\n",
      "OJOBU     81\n",
      "CIMBB     74\n",
      "ZMNYA     69\n",
      "GOKXL     64\n",
      "LAYPA     57\n",
      "KFZMY     52\n",
      "VHDHF     51\n",
      "FBUMG     46\n",
      "ANKYI     41\n",
      "Name: school, dtype: int64\n",
      "--- school_setting ---\n",
      "Urban       906\n",
      "Suburban    717\n",
      "Rural       510\n",
      "Name: school_setting, dtype: int64\n",
      "--- school_type ---\n",
      "Public        1582\n",
      "Non-public     551\n",
      "Name: school_type, dtype: int64\n",
      "--- classroom ---\n",
      "18K    31\n",
      "YTB    30\n",
      "QA2    30\n",
      "Q0E    30\n",
      "ZBH    30\n",
      "A93    30\n",
      "7BL    29\n",
      "0N7    28\n",
      "ROP    28\n",
      "1Q1    28\n",
      "OMI    28\n",
      "HKF    28\n",
      "SUR    28\n",
      "CII    27\n",
      "2AP    27\n",
      "1VD    27\n",
      "NOR    27\n",
      "BFY    27\n",
      "XXJ    27\n",
      "ZDT    27\n",
      "W8A    26\n",
      "TB5    25\n",
      "U6J    25\n",
      "21Q    25\n",
      "9AW    25\n",
      "X2O    25\n",
      "5JK    24\n",
      "CXC    24\n",
      "PBA    24\n",
      "3XJ    24\n",
      "       ..\n",
      "6OL    20\n",
      "PW5    20\n",
      "A33    19\n",
      "DFQ    19\n",
      "J8J    19\n",
      "UWK    19\n",
      "VA6    19\n",
      "FS3    19\n",
      "IPU    19\n",
      "5LQ    18\n",
      "2B1    18\n",
      "341    18\n",
      "KXB    18\n",
      "HUJ    17\n",
      "P2A    17\n",
      "PC6    17\n",
      "XZM    17\n",
      "5SZ    17\n",
      "AE1    17\n",
      "RA5    17\n",
      "G2L    17\n",
      "H7S    16\n",
      "J6X    16\n",
      "UHU    16\n",
      "6C1    16\n",
      "IQN    15\n",
      "KR1    15\n",
      "SSP    15\n",
      "197    14\n",
      "JGD    14\n",
      "Name: classroom, Length: 97, dtype: int64\n",
      "--- teaching_method ---\n",
      "Standard        1373\n",
      "Experimental     760\n",
      "Name: teaching_method, dtype: int64\n",
      "--- student_id ---\n",
      "WMMW4    1\n",
      "PGFCX    1\n",
      "XBZ3J    1\n",
      "1990J    1\n",
      "03T0E    1\n",
      "8GKA1    1\n",
      "XGPLY    1\n",
      "7VV8V    1\n",
      "MF1NR    1\n",
      "T0TIH    1\n",
      "XL187    1\n",
      "A90E3    1\n",
      "VKH07    1\n",
      "3JIVH    1\n",
      "XDCZU    1\n",
      "L9I8P    1\n",
      "43TA7    1\n",
      "EAKC5    1\n",
      "9NW7W    1\n",
      "TWZWL    1\n",
      "3IBYC    1\n",
      "5NROF    1\n",
      "5VCT2    1\n",
      "9C08L    1\n",
      "OE2B4    1\n",
      "P014J    1\n",
      "CXMKS    1\n",
      "86NLD    1\n",
      "905ZT    1\n",
      "20GR2    1\n",
      "        ..\n",
      "DBWEY    1\n",
      "B4BQ2    1\n",
      "5C3GO    1\n",
      "KLN48    1\n",
      "MDLIT    1\n",
      "43IMD    1\n",
      "LAFO1    1\n",
      "CHF6W    1\n",
      "S8IFL    1\n",
      "DBJRW    1\n",
      "U33J8    1\n",
      "MOWQW    1\n",
      "JMTOQ    1\n",
      "PNXUP    1\n",
      "NQWI4    1\n",
      "IZMFR    1\n",
      "72VS3    1\n",
      "JME0Z    1\n",
      "O4GRR    1\n",
      "LYT0H    1\n",
      "NTU46    1\n",
      "YU2SU    1\n",
      "T777S    1\n",
      "BU6TQ    1\n",
      "3SWL5    1\n",
      "0I7BC    1\n",
      "QXGYA    1\n",
      "NKP72    1\n",
      "HSDFE    1\n",
      "VYVEK    1\n",
      "Name: student_id, Length: 2133, dtype: int64\n",
      "--- gender ---\n",
      "Male      1077\n",
      "Female    1056\n",
      "Name: gender, dtype: int64\n",
      "--- lunch ---\n",
      "Does not qualify                    1215\n",
      "Qualifies for reduced/free lunch     918\n",
      "Name: lunch, dtype: int64\n"
     ]
    }
   ],
   "source": [
    "lisan_col = ['school', 'school_setting', 'school_type', 'classroom',\n",
    "       'teaching_method', 'student_id', 'gender', 'lunch']\n",
    "for i in lisan_col:\n",
    "    print('---', i, '---')\n",
    "    print(df[i].value_counts())"
   ]
  },
  {
   "cell_type": "markdown",
   "metadata": {},
   "source": [
    "school  学生所在的学校名称  \n",
    "school_setting 学校位置  \n",
    "school_type 学校类型  公立or私立  \n",
    "classroom  教室号  \n",
    "traching_method  教学方法  \n",
    "student_id  学生编号  没用  \n",
    "gender 性别   \n",
    "lunch  午餐"
   ]
  },
  {
   "cell_type": "code",
   "execution_count": 8,
   "metadata": {},
   "outputs": [
    {
     "data": {
      "text/html": [
       "<div>\n",
       "<style scoped>\n",
       "    .dataframe tbody tr th:only-of-type {\n",
       "        vertical-align: middle;\n",
       "    }\n",
       "\n",
       "    .dataframe tbody tr th {\n",
       "        vertical-align: top;\n",
       "    }\n",
       "\n",
       "    .dataframe thead th {\n",
       "        text-align: right;\n",
       "    }\n",
       "</style>\n",
       "<table border=\"1\" class=\"dataframe\">\n",
       "  <thead>\n",
       "    <tr style=\"text-align: right;\">\n",
       "      <th></th>\n",
       "      <th>school</th>\n",
       "      <th>school_setting</th>\n",
       "      <th>school_type</th>\n",
       "      <th>classroom</th>\n",
       "      <th>teaching_method</th>\n",
       "      <th>n_student</th>\n",
       "      <th>gender</th>\n",
       "      <th>lunch</th>\n",
       "      <th>pretest</th>\n",
       "      <th>posttest</th>\n",
       "    </tr>\n",
       "  </thead>\n",
       "  <tbody>\n",
       "    <tr>\n",
       "      <th>0</th>\n",
       "      <td>ANKYI</td>\n",
       "      <td>Urban</td>\n",
       "      <td>Non-public</td>\n",
       "      <td>6OL</td>\n",
       "      <td>Standard</td>\n",
       "      <td>20.0</td>\n",
       "      <td>Female</td>\n",
       "      <td>Does not qualify</td>\n",
       "      <td>62.0</td>\n",
       "      <td>72.0</td>\n",
       "    </tr>\n",
       "    <tr>\n",
       "      <th>1</th>\n",
       "      <td>ANKYI</td>\n",
       "      <td>Urban</td>\n",
       "      <td>Non-public</td>\n",
       "      <td>6OL</td>\n",
       "      <td>Standard</td>\n",
       "      <td>20.0</td>\n",
       "      <td>Female</td>\n",
       "      <td>Does not qualify</td>\n",
       "      <td>66.0</td>\n",
       "      <td>79.0</td>\n",
       "    </tr>\n",
       "    <tr>\n",
       "      <th>2</th>\n",
       "      <td>ANKYI</td>\n",
       "      <td>Urban</td>\n",
       "      <td>Non-public</td>\n",
       "      <td>6OL</td>\n",
       "      <td>Standard</td>\n",
       "      <td>20.0</td>\n",
       "      <td>Male</td>\n",
       "      <td>Does not qualify</td>\n",
       "      <td>64.0</td>\n",
       "      <td>76.0</td>\n",
       "    </tr>\n",
       "    <tr>\n",
       "      <th>3</th>\n",
       "      <td>ANKYI</td>\n",
       "      <td>Urban</td>\n",
       "      <td>Non-public</td>\n",
       "      <td>6OL</td>\n",
       "      <td>Standard</td>\n",
       "      <td>20.0</td>\n",
       "      <td>Female</td>\n",
       "      <td>Does not qualify</td>\n",
       "      <td>61.0</td>\n",
       "      <td>77.0</td>\n",
       "    </tr>\n",
       "    <tr>\n",
       "      <th>4</th>\n",
       "      <td>ANKYI</td>\n",
       "      <td>Urban</td>\n",
       "      <td>Non-public</td>\n",
       "      <td>6OL</td>\n",
       "      <td>Standard</td>\n",
       "      <td>20.0</td>\n",
       "      <td>Male</td>\n",
       "      <td>Does not qualify</td>\n",
       "      <td>64.0</td>\n",
       "      <td>76.0</td>\n",
       "    </tr>\n",
       "  </tbody>\n",
       "</table>\n",
       "</div>"
      ],
      "text/plain": [
       "  school school_setting school_type classroom teaching_method  n_student  \\\n",
       "0  ANKYI          Urban  Non-public       6OL        Standard       20.0   \n",
       "1  ANKYI          Urban  Non-public       6OL        Standard       20.0   \n",
       "2  ANKYI          Urban  Non-public       6OL        Standard       20.0   \n",
       "3  ANKYI          Urban  Non-public       6OL        Standard       20.0   \n",
       "4  ANKYI          Urban  Non-public       6OL        Standard       20.0   \n",
       "\n",
       "   gender             lunch  pretest  posttest  \n",
       "0  Female  Does not qualify     62.0      72.0  \n",
       "1  Female  Does not qualify     66.0      79.0  \n",
       "2    Male  Does not qualify     64.0      76.0  \n",
       "3  Female  Does not qualify     61.0      77.0  \n",
       "4    Male  Does not qualify     64.0      76.0  "
      ]
     },
     "execution_count": 8,
     "metadata": {},
     "output_type": "execute_result"
    }
   ],
   "source": [
    "del df['student_id']\n",
    "df.head()"
   ]
  },
  {
   "cell_type": "markdown",
   "metadata": {},
   "source": [
    "分析离散数据是否对标签有影响"
   ]
  },
  {
   "cell_type": "code",
   "execution_count": 9,
   "metadata": {},
   "outputs": [
    {
     "data": {
      "image/png": "[encoded data removed]",
      "text/plain": [
       "<Figure size 432x288 with 1 Axes>"
      ]
     },
     "metadata": {
      "needs_background": "light"
     },
     "output_type": "display_data"
    },
    {
     "data": {
      "image/png": "[encoded data removed]",
      "text/plain": [
       "<Figure size 432x288 with 1 Axes>"
      ]
     },
     "metadata": {
      "needs_background": "light"
     },
     "output_type": "display_data"
    },
    {
     "data": {
      "image/png": "[encoded data removed]",
      "text/plain": [
       "<Figure size 432x288 with 1 Axes>"
      ]
     },
     "metadata": {
      "needs_background": "light"
     },
     "output_type": "display_data"
    },
    {
     "data": {
      "image/png": "[encoded data removed]",
      "text/plain": [
       "<Figure size 432x288 with 1 Axes>"
      ]
     },
     "metadata": {
      "needs_background": "light"
     },
     "output_type": "display_data"
    },
    {
     "data": {
      "image/png": "[encoded data removed]",
      "text/plain": [
       "<Figure size 432x288 with 1 Axes>"
      ]
     },
     "metadata": {
      "needs_background": "light"
     },
     "output_type": "display_data"
    },
    {
     "data": {
      "image/png": "[encoded data removed]",
      "text/plain": [
       "<Figure size 432x288 with 1 Axes>"
      ]
     },
     "metadata": {
      "needs_background": "light"
     },
     "output_type": "display_data"
    },
    {
     "data": {
      "image/png": "[encoded data removed]",
      "text/plain": [
       "<Figure size 432x288 with 1 Axes>"
      ]
     },
     "metadata": {
      "needs_background": "light"
     },
     "output_type": "display_data"
    }
   ],
   "source": [
    "# 离散值进行可视化分析\n",
    "def show_lisan(col):\n",
    "    df.groupby(col).mean()['posttest'].plot(kind='bar')\n",
    "    plt.show()\n",
    "# 当前所有的离散字段\n",
    "lisan_col = ['school', 'school_setting', 'school_type', 'classroom',\n",
    "       'teaching_method', 'gender', 'lunch']\n",
    "# 遍历所有离散字段，进行可视化处理\n",
    "for i in lisan_col:\n",
    "    show_lisan(i)"
   ]
  },
  {
   "cell_type": "code",
   "execution_count": 10,
   "metadata": {},
   "outputs": [
    {
     "data": {
      "text/html": [
       "<div>\n",
       "<style scoped>\n",
       "    .dataframe tbody tr th:only-of-type {\n",
       "        vertical-align: middle;\n",
       "    }\n",
       "\n",
       "    .dataframe tbody tr th {\n",
       "        vertical-align: top;\n",
       "    }\n",
       "\n",
       "    .dataframe thead th {\n",
       "        text-align: right;\n",
       "    }\n",
       "</style>\n",
       "<table border=\"1\" class=\"dataframe\">\n",
       "  <thead>\n",
       "    <tr style=\"text-align: right;\">\n",
       "      <th></th>\n",
       "      <th>school</th>\n",
       "      <th>posttest</th>\n",
       "    </tr>\n",
       "  </thead>\n",
       "  <tbody>\n",
       "    <tr>\n",
       "      <th>0</th>\n",
       "      <td>ANKYI</td>\n",
       "      <td>71.390244</td>\n",
       "    </tr>\n",
       "    <tr>\n",
       "      <th>1</th>\n",
       "      <td>CCAAW</td>\n",
       "      <td>78.110092</td>\n",
       "    </tr>\n",
       "    <tr>\n",
       "      <th>2</th>\n",
       "      <td>CIMBB</td>\n",
       "      <td>76.945946</td>\n",
       "    </tr>\n",
       "    <tr>\n",
       "      <th>3</th>\n",
       "      <td>CUQAM</td>\n",
       "      <td>65.560748</td>\n",
       "    </tr>\n",
       "    <tr>\n",
       "      <th>4</th>\n",
       "      <td>DNQDD</td>\n",
       "      <td>66.565574</td>\n",
       "    </tr>\n",
       "    <tr>\n",
       "      <th>5</th>\n",
       "      <td>FBUMG</td>\n",
       "      <td>78.608696</td>\n",
       "    </tr>\n",
       "    <tr>\n",
       "      <th>6</th>\n",
       "      <td>GJJHK</td>\n",
       "      <td>65.025424</td>\n",
       "    </tr>\n",
       "    <tr>\n",
       "      <th>7</th>\n",
       "      <td>GOKXL</td>\n",
       "      <td>64.953125</td>\n",
       "    </tr>\n",
       "    <tr>\n",
       "      <th>8</th>\n",
       "      <td>GOOBU</td>\n",
       "      <td>49.613924</td>\n",
       "    </tr>\n",
       "    <tr>\n",
       "      <th>9</th>\n",
       "      <td>IDGFP</td>\n",
       "      <td>87.223404</td>\n",
       "    </tr>\n",
       "    <tr>\n",
       "      <th>10</th>\n",
       "      <td>KFZMY</td>\n",
       "      <td>54.576923</td>\n",
       "    </tr>\n",
       "    <tr>\n",
       "      <th>11</th>\n",
       "      <td>KZKKE</td>\n",
       "      <td>47.918919</td>\n",
       "    </tr>\n",
       "    <tr>\n",
       "      <th>12</th>\n",
       "      <td>LAYPA</td>\n",
       "      <td>73.508772</td>\n",
       "    </tr>\n",
       "    <tr>\n",
       "      <th>13</th>\n",
       "      <td>OJOBU</td>\n",
       "      <td>67.814815</td>\n",
       "    </tr>\n",
       "    <tr>\n",
       "      <th>14</th>\n",
       "      <td>QOQTS</td>\n",
       "      <td>64.671141</td>\n",
       "    </tr>\n",
       "    <tr>\n",
       "      <th>15</th>\n",
       "      <td>UAGPU</td>\n",
       "      <td>71.873563</td>\n",
       "    </tr>\n",
       "    <tr>\n",
       "      <th>16</th>\n",
       "      <td>UKPGS</td>\n",
       "      <td>91.164062</td>\n",
       "    </tr>\n",
       "    <tr>\n",
       "      <th>17</th>\n",
       "      <td>UUUQX</td>\n",
       "      <td>79.261905</td>\n",
       "    </tr>\n",
       "    <tr>\n",
       "      <th>18</th>\n",
       "      <td>VHDHF</td>\n",
       "      <td>66.843137</td>\n",
       "    </tr>\n",
       "    <tr>\n",
       "      <th>19</th>\n",
       "      <td>VKWQH</td>\n",
       "      <td>64.820000</td>\n",
       "    </tr>\n",
       "    <tr>\n",
       "      <th>20</th>\n",
       "      <td>VVTVA</td>\n",
       "      <td>49.175439</td>\n",
       "    </tr>\n",
       "    <tr>\n",
       "      <th>21</th>\n",
       "      <td>ZMNYA</td>\n",
       "      <td>81.608696</td>\n",
       "    </tr>\n",
       "    <tr>\n",
       "      <th>22</th>\n",
       "      <td>ZOWMK</td>\n",
       "      <td>52.905983</td>\n",
       "    </tr>\n",
       "  </tbody>\n",
       "</table>\n",
       "</div>"
      ],
      "text/plain": [
       "   school   posttest\n",
       "0   ANKYI  71.390244\n",
       "1   CCAAW  78.110092\n",
       "2   CIMBB  76.945946\n",
       "3   CUQAM  65.560748\n",
       "4   DNQDD  66.565574\n",
       "5   FBUMG  78.608696\n",
       "6   GJJHK  65.025424\n",
       "7   GOKXL  64.953125\n",
       "8   GOOBU  49.613924\n",
       "9   IDGFP  87.223404\n",
       "10  KFZMY  54.576923\n",
       "11  KZKKE  47.918919\n",
       "12  LAYPA  73.508772\n",
       "13  OJOBU  67.814815\n",
       "14  QOQTS  64.671141\n",
       "15  UAGPU  71.873563\n",
       "16  UKPGS  91.164062\n",
       "17  UUUQX  79.261905\n",
       "18  VHDHF  66.843137\n",
       "19  VKWQH  64.820000\n",
       "20  VVTVA  49.175439\n",
       "21  ZMNYA  81.608696\n",
       "22  ZOWMK  52.905983"
      ]
     },
     "execution_count": 10,
     "metadata": {},
     "output_type": "execute_result"
    }
   ],
   "source": [
    "# school 合并相似分数值类型  \n",
    "df1 = df.groupby('school').mean()['posttest'].reset_index()\n",
    "df1"
   ]
  },
  {
   "cell_type": "code",
   "execution_count": 11,
   "metadata": {},
   "outputs": [
    {
     "data": {
      "text/plain": [
       "1    1290\n",
       "0     552\n",
       "2     291\n",
       "Name: school, dtype: int64"
      ]
     },
     "execution_count": 11,
     "metadata": {},
     "output_type": "execute_result"
    }
   ],
   "source": [
    "# 将school 分段  60以下 --0   60-80 --1   80以上--2\n",
    "# 查找出符合每个段位所有学校的名称\n",
    "s_60 = df1[df1['posttest']<60]['school'].values\n",
    "s_60_80 = df1[(df1['posttest']<=80)&(df1['posttest']>=60)].values\n",
    "s_80 = df1[df1['posttest']>80].values\n",
    "# 使用对应学校名称对数据进行映射处理\n",
    "def fn(x):\n",
    "    if x in s_60:\n",
    "        return 0\n",
    "    elif x in s_60_80:\n",
    "        return 1\n",
    "    else:\n",
    "        return 2\n",
    "df['school'] = df['school'].map(fn)\n",
    "df['school'].value_counts()"
   ]
  },
  {
   "cell_type": "code",
   "execution_count": 12,
   "metadata": {},
   "outputs": [
    {
     "data": {
      "text/plain": [
       "school_setting\n",
       "Rural       64.050980\n",
       "Suburban    76.037657\n",
       "Urban       61.748344\n",
       "Name: posttest, dtype: float64"
      ]
     },
     "execution_count": 12,
     "metadata": {},
     "output_type": "execute_result"
    }
   ],
   "source": [
    "# 查看school_setting分组分\n",
    "df.groupby('school_setting').mean()['posttest']"
   ]
  },
  {
   "cell_type": "code",
   "execution_count": 13,
   "metadata": {},
   "outputs": [],
   "source": [
    "# 映射处理  Suburba -- 0  其他 --1\n",
    "df['school_setting'] = df['school_setting'].map(lambda x: 0 if x == 'Suburban' else 1)"
   ]
  },
  {
   "cell_type": "code",
   "execution_count": 14,
   "metadata": {},
   "outputs": [
    {
     "data": {
      "text/html": [
       "<div>\n",
       "<style scoped>\n",
       "    .dataframe tbody tr th:only-of-type {\n",
       "        vertical-align: middle;\n",
       "    }\n",
       "\n",
       "    .dataframe tbody tr th {\n",
       "        vertical-align: top;\n",
       "    }\n",
       "\n",
       "    .dataframe thead th {\n",
       "        text-align: right;\n",
       "    }\n",
       "</style>\n",
       "<table border=\"1\" class=\"dataframe\">\n",
       "  <thead>\n",
       "    <tr style=\"text-align: right;\">\n",
       "      <th></th>\n",
       "      <th>school</th>\n",
       "      <th>school_setting</th>\n",
       "      <th>school_type</th>\n",
       "      <th>classroom</th>\n",
       "      <th>teaching_method</th>\n",
       "      <th>n_student</th>\n",
       "      <th>lunch</th>\n",
       "      <th>pretest</th>\n",
       "      <th>posttest</th>\n",
       "    </tr>\n",
       "  </thead>\n",
       "  <tbody>\n",
       "    <tr>\n",
       "      <th>0</th>\n",
       "      <td>1</td>\n",
       "      <td>1</td>\n",
       "      <td>Non-public</td>\n",
       "      <td>1</td>\n",
       "      <td>Standard</td>\n",
       "      <td>20.0</td>\n",
       "      <td>Does not qualify</td>\n",
       "      <td>62.0</td>\n",
       "      <td>72.0</td>\n",
       "    </tr>\n",
       "    <tr>\n",
       "      <th>1</th>\n",
       "      <td>1</td>\n",
       "      <td>1</td>\n",
       "      <td>Non-public</td>\n",
       "      <td>1</td>\n",
       "      <td>Standard</td>\n",
       "      <td>20.0</td>\n",
       "      <td>Does not qualify</td>\n",
       "      <td>66.0</td>\n",
       "      <td>79.0</td>\n",
       "    </tr>\n",
       "    <tr>\n",
       "      <th>2</th>\n",
       "      <td>1</td>\n",
       "      <td>1</td>\n",
       "      <td>Non-public</td>\n",
       "      <td>1</td>\n",
       "      <td>Standard</td>\n",
       "      <td>20.0</td>\n",
       "      <td>Does not qualify</td>\n",
       "      <td>64.0</td>\n",
       "      <td>76.0</td>\n",
       "    </tr>\n",
       "    <tr>\n",
       "      <th>3</th>\n",
       "      <td>1</td>\n",
       "      <td>1</td>\n",
       "      <td>Non-public</td>\n",
       "      <td>1</td>\n",
       "      <td>Standard</td>\n",
       "      <td>20.0</td>\n",
       "      <td>Does not qualify</td>\n",
       "      <td>61.0</td>\n",
       "      <td>77.0</td>\n",
       "    </tr>\n",
       "    <tr>\n",
       "      <th>4</th>\n",
       "      <td>1</td>\n",
       "      <td>1</td>\n",
       "      <td>Non-public</td>\n",
       "      <td>1</td>\n",
       "      <td>Standard</td>\n",
       "      <td>20.0</td>\n",
       "      <td>Does not qualify</td>\n",
       "      <td>64.0</td>\n",
       "      <td>76.0</td>\n",
       "    </tr>\n",
       "  </tbody>\n",
       "</table>\n",
       "</div>"
      ],
      "text/plain": [
       "   school  school_setting school_type  classroom teaching_method  n_student  \\\n",
       "0       1               1  Non-public          1        Standard       20.0   \n",
       "1       1               1  Non-public          1        Standard       20.0   \n",
       "2       1               1  Non-public          1        Standard       20.0   \n",
       "3       1               1  Non-public          1        Standard       20.0   \n",
       "4       1               1  Non-public          1        Standard       20.0   \n",
       "\n",
       "              lunch  pretest  posttest  \n",
       "0  Does not qualify     62.0      72.0  \n",
       "1  Does not qualify     66.0      79.0  \n",
       "2  Does not qualify     64.0      76.0  \n",
       "3  Does not qualify     61.0      77.0  \n",
       "4  Does not qualify     64.0      76.0  "
      ]
     },
     "execution_count": 14,
     "metadata": {},
     "output_type": "execute_result"
    }
   ],
   "source": [
    "# classroom 按照分数分段 40-60 -- 0  60-80 -- 1  80-100 -- 2\n",
    "df1 = df.groupby('classroom').mean()['posttest'].reset_index()\n",
    "c_40 = df1[df1['posttest']<60]['classroom'].values\n",
    "c_80 = df1[df1['posttest']>80]['classroom'].values\n",
    "def fn(x):\n",
    "    if x in c_40:\n",
    "        return 0\n",
    "    elif x in c_80:\n",
    "        return 2\n",
    "    else:\n",
    "        return 1\n",
    "df['classroom'] = df['classroom'].map(fn)\n",
    "# gender 删除\n",
    "del df['gender']\n",
    "df.head()"
   ]
  },
  {
   "cell_type": "markdown",
   "metadata": {},
   "source": [
    "连续值"
   ]
  },
  {
   "cell_type": "code",
   "execution_count": 15,
   "metadata": {},
   "outputs": [
    {
     "data": {
      "text/plain": [
       "<matplotlib.axes._subplots.AxesSubplot at 0x2a8f1486710>"
      ]
     },
     "execution_count": 15,
     "metadata": {},
     "output_type": "execute_result"
    },
    {
     "data": {
      "image/png": "[encoded data removed]",
      "text/plain": [
       "<Figure size 432x288 with 1 Axes>"
      ]
     },
     "metadata": {
      "needs_background": "light"
     },
     "output_type": "display_data"
    }
   ],
   "source": [
    "# 连续值分布状态\n",
    "df['n_student'].plot(kind='kde')"
   ]
  },
  {
   "cell_type": "code",
   "execution_count": 16,
   "metadata": {},
   "outputs": [
    {
     "data": {
      "text/plain": [
       "<matplotlib.axes._subplots.AxesSubplot at 0x2a8f16417f0>"
      ]
     },
     "execution_count": 16,
     "metadata": {},
     "output_type": "execute_result"
    },
    {
     "data": {
      "image/png": "[encoded data removed]",
      "text/plain": [
       "<Figure size 432x288 with 1 Axes>"
      ]
     },
     "metadata": {
      "needs_background": "light"
     },
     "output_type": "display_data"
    }
   ],
   "source": [
    "df['pretest'].plot(kind='kde')"
   ]
  },
  {
   "cell_type": "code",
   "execution_count": 17,
   "metadata": {},
   "outputs": [
    {
     "data": {
      "text/plain": [
       "<matplotlib.axes._subplots.AxesSubplot at 0x2a8f15e8588>"
      ]
     },
     "execution_count": 17,
     "metadata": {},
     "output_type": "execute_result"
    },
    {
     "data": {
      "image/png": "[encoded data removed]",
      "text/plain": [
       "<Figure size 432x288 with 2 Axes>"
      ]
     },
     "metadata": {
      "needs_background": "light"
     },
     "output_type": "display_data"
    }
   ],
   "source": [
    "# 连续特征之间关联程度\n",
    "# 皮尔逊系数\n",
    "corr = df[['n_student', 'pretest', 'posttest']].corr()\n",
    "# 热图处理\n",
    "sns.heatmap(corr, annot=True)"
   ]
  },
  {
   "cell_type": "code",
   "execution_count": 18,
   "metadata": {},
   "outputs": [],
   "source": [
    "# 热图：pretest posttest之间关联性过大  删除pre\n",
    "del df['pretest']"
   ]
  },
  {
   "cell_type": "code",
   "execution_count": 19,
   "metadata": {},
   "outputs": [
    {
     "data": {
      "text/html": [
       "<div>\n",
       "<style scoped>\n",
       "    .dataframe tbody tr th:only-of-type {\n",
       "        vertical-align: middle;\n",
       "    }\n",
       "\n",
       "    .dataframe tbody tr th {\n",
       "        vertical-align: top;\n",
       "    }\n",
       "\n",
       "    .dataframe thead th {\n",
       "        text-align: right;\n",
       "    }\n",
       "</style>\n",
       "<table border=\"1\" class=\"dataframe\">\n",
       "  <thead>\n",
       "    <tr style=\"text-align: right;\">\n",
       "      <th></th>\n",
       "      <th>school</th>\n",
       "      <th>school_setting</th>\n",
       "      <th>school_type</th>\n",
       "      <th>classroom</th>\n",
       "      <th>teaching_method</th>\n",
       "      <th>n_student</th>\n",
       "      <th>lunch</th>\n",
       "      <th>posttest</th>\n",
       "    </tr>\n",
       "  </thead>\n",
       "  <tbody>\n",
       "    <tr>\n",
       "      <th>0</th>\n",
       "      <td>1</td>\n",
       "      <td>1</td>\n",
       "      <td>Non-public</td>\n",
       "      <td>1</td>\n",
       "      <td>Standard</td>\n",
       "      <td>20.0</td>\n",
       "      <td>Does not qualify</td>\n",
       "      <td>72.0</td>\n",
       "    </tr>\n",
       "    <tr>\n",
       "      <th>1</th>\n",
       "      <td>1</td>\n",
       "      <td>1</td>\n",
       "      <td>Non-public</td>\n",
       "      <td>1</td>\n",
       "      <td>Standard</td>\n",
       "      <td>20.0</td>\n",
       "      <td>Does not qualify</td>\n",
       "      <td>79.0</td>\n",
       "    </tr>\n",
       "    <tr>\n",
       "      <th>2</th>\n",
       "      <td>1</td>\n",
       "      <td>1</td>\n",
       "      <td>Non-public</td>\n",
       "      <td>1</td>\n",
       "      <td>Standard</td>\n",
       "      <td>20.0</td>\n",
       "      <td>Does not qualify</td>\n",
       "      <td>76.0</td>\n",
       "    </tr>\n",
       "    <tr>\n",
       "      <th>3</th>\n",
       "      <td>1</td>\n",
       "      <td>1</td>\n",
       "      <td>Non-public</td>\n",
       "      <td>1</td>\n",
       "      <td>Standard</td>\n",
       "      <td>20.0</td>\n",
       "      <td>Does not qualify</td>\n",
       "      <td>77.0</td>\n",
       "    </tr>\n",
       "    <tr>\n",
       "      <th>4</th>\n",
       "      <td>1</td>\n",
       "      <td>1</td>\n",
       "      <td>Non-public</td>\n",
       "      <td>1</td>\n",
       "      <td>Standard</td>\n",
       "      <td>20.0</td>\n",
       "      <td>Does not qualify</td>\n",
       "      <td>76.0</td>\n",
       "    </tr>\n",
       "  </tbody>\n",
       "</table>\n",
       "</div>"
      ],
      "text/plain": [
       "   school  school_setting school_type  classroom teaching_method  n_student  \\\n",
       "0       1               1  Non-public          1        Standard       20.0   \n",
       "1       1               1  Non-public          1        Standard       20.0   \n",
       "2       1               1  Non-public          1        Standard       20.0   \n",
       "3       1               1  Non-public          1        Standard       20.0   \n",
       "4       1               1  Non-public          1        Standard       20.0   \n",
       "\n",
       "              lunch  posttest  \n",
       "0  Does not qualify      72.0  \n",
       "1  Does not qualify      79.0  \n",
       "2  Does not qualify      76.0  \n",
       "3  Does not qualify      77.0  \n",
       "4  Does not qualify      76.0  "
      ]
     },
     "execution_count": 19,
     "metadata": {},
     "output_type": "execute_result"
    }
   ],
   "source": [
    "df.head()"
   ]
  },
  {
   "cell_type": "markdown",
   "metadata": {},
   "source": [
    "# 二、机器学习进行分数预测"
   ]
  },
  {
   "cell_type": "code",
   "execution_count": 20,
   "metadata": {},
   "outputs": [],
   "source": [
    "# 特征标签  \n",
    "x = df.iloc[:, :-1]\n",
    "y = df.iloc[:, -1:]\n",
    "# 预处理   离散  字符类型 （标签化、独热编码化）   数字类型（独热编码化）   连续类型 特征缩放  "
   ]
  },
  {
   "cell_type": "code",
   "execution_count": 21,
   "metadata": {},
   "outputs": [],
   "source": [
    "from sklearn.preprocessing import StandardScaler, LabelEncoder, OneHotEncoder"
   ]
  },
  {
   "cell_type": "code",
   "execution_count": 22,
   "metadata": {},
   "outputs": [
    {
     "data": {
      "text/html": [
       "<div>\n",
       "<style scoped>\n",
       "    .dataframe tbody tr th:only-of-type {\n",
       "        vertical-align: middle;\n",
       "    }\n",
       "\n",
       "    .dataframe tbody tr th {\n",
       "        vertical-align: top;\n",
       "    }\n",
       "\n",
       "    .dataframe thead th {\n",
       "        text-align: right;\n",
       "    }\n",
       "</style>\n",
       "<table border=\"1\" class=\"dataframe\">\n",
       "  <thead>\n",
       "    <tr style=\"text-align: right;\">\n",
       "      <th></th>\n",
       "      <th>school</th>\n",
       "      <th>school_setting</th>\n",
       "      <th>school_type</th>\n",
       "      <th>classroom</th>\n",
       "      <th>teaching_method</th>\n",
       "      <th>n_student</th>\n",
       "      <th>lunch</th>\n",
       "      <th>posttest</th>\n",
       "    </tr>\n",
       "  </thead>\n",
       "  <tbody>\n",
       "    <tr>\n",
       "      <th>0</th>\n",
       "      <td>1</td>\n",
       "      <td>1</td>\n",
       "      <td>1</td>\n",
       "      <td>1</td>\n",
       "      <td>1</td>\n",
       "      <td>20.0</td>\n",
       "      <td>0</td>\n",
       "      <td>72.0</td>\n",
       "    </tr>\n",
       "    <tr>\n",
       "      <th>1</th>\n",
       "      <td>1</td>\n",
       "      <td>1</td>\n",
       "      <td>1</td>\n",
       "      <td>1</td>\n",
       "      <td>1</td>\n",
       "      <td>20.0</td>\n",
       "      <td>0</td>\n",
       "      <td>79.0</td>\n",
       "    </tr>\n",
       "    <tr>\n",
       "      <th>2</th>\n",
       "      <td>1</td>\n",
       "      <td>1</td>\n",
       "      <td>1</td>\n",
       "      <td>1</td>\n",
       "      <td>1</td>\n",
       "      <td>20.0</td>\n",
       "      <td>0</td>\n",
       "      <td>76.0</td>\n",
       "    </tr>\n",
       "    <tr>\n",
       "      <th>3</th>\n",
       "      <td>1</td>\n",
       "      <td>1</td>\n",
       "      <td>1</td>\n",
       "      <td>1</td>\n",
       "      <td>1</td>\n",
       "      <td>20.0</td>\n",
       "      <td>0</td>\n",
       "      <td>77.0</td>\n",
       "    </tr>\n",
       "    <tr>\n",
       "      <th>4</th>\n",
       "      <td>1</td>\n",
       "      <td>1</td>\n",
       "      <td>1</td>\n",
       "      <td>1</td>\n",
       "      <td>1</td>\n",
       "      <td>20.0</td>\n",
       "      <td>0</td>\n",
       "      <td>76.0</td>\n",
       "    </tr>\n",
       "  </tbody>\n",
       "</table>\n",
       "</div>"
      ],
      "text/plain": [
       "   school  school_setting  school_type  classroom  teaching_method  n_student  \\\n",
       "0       1               1            1          1                1       20.0   \n",
       "1       1               1            1          1                1       20.0   \n",
       "2       1               1            1          1                1       20.0   \n",
       "3       1               1            1          1                1       20.0   \n",
       "4       1               1            1          1                1       20.0   \n",
       "\n",
       "   lunch  posttest  \n",
       "0      0      72.0  \n",
       "1      0      79.0  \n",
       "2      0      76.0  \n",
       "3      0      77.0  \n",
       "4      0      76.0  "
      ]
     },
     "execution_count": 22,
     "metadata": {},
     "output_type": "execute_result"
    }
   ],
   "source": [
    "# 标签化处理\n",
    "df['school_type'] = LabelEncoder().fit_transform(df['school'])\n",
    "df['teaching_method'] = LabelEncoder().fit_transform(df['teaching_method'])\n",
    "df['lunch'] = LabelEncoder().fit_transform(df['lunch'])\n",
    "df.head()"
   ]
  },
  {
   "cell_type": "code",
   "execution_count": 23,
   "metadata": {},
   "outputs": [
    {
     "data": {
      "text/plain": [
       "array([[0., 1., 0., 0., 1., 1., 0., 0., 1., 0., 0., 1., 1., 0.],\n",
       "       [0., 1., 0., 0., 1., 1., 0., 0., 1., 0., 0., 1., 1., 0.],\n",
       "       [0., 1., 0., 0., 1., 1., 0., 0., 1., 0., 0., 1., 1., 0.],\n",
       "       [0., 1., 0., 0., 1., 1., 0., 0., 1., 0., 0., 1., 1., 0.],\n",
       "       [0., 1., 0., 0., 1., 1., 0., 0., 1., 0., 0., 1., 1., 0.]])"
      ]
     },
     "execution_count": 23,
     "metadata": {},
     "output_type": "execute_result"
    }
   ],
   "source": [
    "# 独热编码 \n",
    "x_onehot = x.drop('n_student', axis=1)\n",
    "x_onehot = OneHotEncoder().fit_transform(x_onehot).toarray() # 转为数组类型\n",
    "x_onehot[:5]"
   ]
  },
  {
   "cell_type": "code",
   "execution_count": 24,
   "metadata": {},
   "outputs": [
    {
     "data": {
      "text/plain": [
       "array([[-0.66144654],\n",
       "       [-0.66144654],\n",
       "       [-0.66144654],\n",
       "       [-0.66144654],\n",
       "       [-0.66144654]])"
      ]
     },
     "execution_count": 24,
     "metadata": {},
     "output_type": "execute_result"
    }
   ],
   "source": [
    "# 连续特征特征缩放\n",
    "x_std = StandardScaler().fit_transform(x[['n_student']])\n",
    "x_std[:5]"
   ]
  },
  {
   "cell_type": "code",
   "execution_count": 25,
   "metadata": {},
   "outputs": [
    {
     "data": {
      "text/plain": [
       "array([[ 0.        ,  1.        ,  0.        ,  0.        ,  1.        ,\n",
       "         1.        ,  0.        ,  0.        ,  1.        ,  0.        ,\n",
       "         0.        ,  1.        ,  1.        ,  0.        , -0.66144654],\n",
       "       [ 0.        ,  1.        ,  0.        ,  0.        ,  1.        ,\n",
       "         1.        ,  0.        ,  0.        ,  1.        ,  0.        ,\n",
       "         0.        ,  1.        ,  1.        ,  0.        , -0.66144654],\n",
       "       [ 0.        ,  1.        ,  0.        ,  0.        ,  1.        ,\n",
       "         1.        ,  0.        ,  0.        ,  1.        ,  0.        ,\n",
       "         0.        ,  1.        ,  1.        ,  0.        , -0.66144654],\n",
       "       [ 0.        ,  1.        ,  0.        ,  0.        ,  1.        ,\n",
       "         1.        ,  0.        ,  0.        ,  1.        ,  0.        ,\n",
       "         0.        ,  1.        ,  1.        ,  0.        , -0.66144654],\n",
       "       [ 0.        ,  1.        ,  0.        ,  0.        ,  1.        ,\n",
       "         1.        ,  0.        ,  0.        ,  1.        ,  0.        ,\n",
       "         0.        ,  1.        ,  1.        ,  0.        , -0.66144654]])"
      ]
     },
     "execution_count": 25,
     "metadata": {},
     "output_type": "execute_result"
    }
   ],
   "source": [
    "# 拼接离散数据，连续数据\n",
    "x = np.c_[x_onehot, x_std]\n",
    "x[:5]"
   ]
  },
  {
   "cell_type": "code",
   "execution_count": 26,
   "metadata": {},
   "outputs": [],
   "source": [
    "# 切分训练集和测试集\n",
    "# 使用不同的模型进行调参，找到最优模型计算得分\n",
    "from sklearn.model_selection import train_test_split, GridSearchCV\n",
    "from sklearn.linear_model import Ridge, Lasso\n",
    "from sklearn.neighbors import KNeighborsRegressor\n",
    "from sklearn.tree import DecisionTreeRegressor\n",
    "from sklearn.ensemble import RandomForestRegressor"
   ]
  },
  {
   "cell_type": "code",
   "execution_count": 27,
   "metadata": {},
   "outputs": [],
   "source": [
    "x_train, x_test, y_train, y_test = train_test_split(x, y, random_state=123, test_size=0.2)"
   ]
  },
  {
   "cell_type": "code",
   "execution_count": 28,
   "metadata": {},
   "outputs": [
    {
     "name": "stdout",
     "output_type": "stream",
     "text": [
      "0.8616046712928606\n",
      "{'alpha': 0.6000000000000001}\n"
     ]
    }
   ],
   "source": [
    "# L2正则\n",
    "l2 = Ridge()\n",
    "pg = {'alpha': np.arange(1, 9) * 0.1}\n",
    "model = GridSearchCV(l2, pg, cv=5)\n",
    "model.fit(x_train, y_train)\n",
    "print(model.best_score_)\n",
    "print(model.best_params_)"
   ]
  },
  {
   "cell_type": "code",
   "execution_count": 29,
   "metadata": {},
   "outputs": [
    {
     "name": "stdout",
     "output_type": "stream",
     "text": [
      "0.8605356380068052\n",
      "{'alpha': 0.1}\n"
     ]
    }
   ],
   "source": [
    "l1 = Lasso()\n",
    "model = GridSearchCV(l1, pg, cv=5)\n",
    "model.fit(x_train, y_train)\n",
    "print(model.best_score_)\n",
    "print(model.best_params_)"
   ]
  },
  {
   "cell_type": "code",
   "execution_count": 30,
   "metadata": {},
   "outputs": [
    {
     "name": "stdout",
     "output_type": "stream",
     "text": [
      "0.9211664685431548\n",
      "{'n_neighbors': 7, 'p': 2, 'weights': 'distance'}\n"
     ]
    }
   ],
   "source": [
    "knn = KNeighborsRegressor()\n",
    "# n_neighbors K 值   p 1曼哈顿距离   2欧式距离   weights  distance 加权处理   uniform 等权\n",
    "pg = {'n_neighbors': np.arange(3, 8), 'p':[1, 2], 'weights':['distance', 'uniform']}\n",
    "model = GridSearchCV(knn, pg, cv=5)\n",
    "model.fit(x_train, y_train)\n",
    "print(model.best_score_)\n",
    "print(model.best_params_)"
   ]
  },
  {
   "cell_type": "code",
   "execution_count": 31,
   "metadata": {},
   "outputs": [
    {
     "name": "stdout",
     "output_type": "stream",
     "text": [
      "0.9222953889943047\n",
      "{'max_depth': 7}\n"
     ]
    }
   ],
   "source": [
    "dt = DecisionTreeRegressor()\n",
    "pg = {'max_depth': np.arange(3, 8)}\n",
    "model = GridSearchCV(dt, pg, cv=5)\n",
    "model.fit(x_train, y_train)\n",
    "print(model.best_score_)\n",
    "print(model.best_params_)"
   ]
  },
  {
   "cell_type": "code",
   "execution_count": 32,
   "metadata": {},
   "outputs": [
    {
     "name": "stdout",
     "output_type": "stream",
     "text": [
      "0.9255238365271217\n",
      "{'max_depth': 7, 'n_estimators': 50}\n"
     ]
    }
   ],
   "source": [
    "import warnings\n",
    "warnings.filterwarnings('ignore')\n",
    "# 随机森林\n",
    "rf = RandomForestRegressor()\n",
    "pg = {'max_depth': np.arange(3, 8), 'n_estimators': np.arange(1, 5) * 50}\n",
    "model = GridSearchCV(rf, pg, cv=5)\n",
    "model.fit(x_train, y_train)\n",
    "print(model.best_score_)\n",
    "print(model.best_params_)"
   ]
  },
  {
   "cell_type": "markdown",
   "metadata": {},
   "source": [
    "学习率曲线：查看模型是否出现过拟合或者欠拟合的问题"
   ]
  },
  {
   "cell_type": "code",
   "execution_count": 33,
   "metadata": {},
   "outputs": [],
   "source": [
    "from sklearn.model_selection import learning_curve # 学习率曲线"
   ]
  },
  {
   "cell_type": "code",
   "execution_count": 34,
   "metadata": {},
   "outputs": [
    {
     "name": "stdout",
     "output_type": "stream",
     "text": [
      "Help on function learning_curve in module sklearn.model_selection._validation:\n",
      "\n",
      "learning_curve(estimator, X, y, groups=None, train_sizes=array([0.1  , 0.325, 0.55 , 0.775, 1.   ]), cv='warn', scoring=None, exploit_incremental_learning=False, n_jobs=None, pre_dispatch='all', verbose=0, shuffle=False, random_state=None, error_score='raise-deprecating')\n",
      "    Learning curve.\n",
      "    \n",
      "    Determines cross-validated training and test scores for different training\n",
      "    set sizes.\n",
      "    \n",
      "    A cross-validation generator splits the whole dataset k times in training\n",
      "    and test data. Subsets of the training set with varying sizes will be used\n",
      "    to train the estimator and a score for each training subset size and the\n",
      "    test set will be computed. Afterwards, the scores will be averaged over\n",
      "    all k runs for each training subset size.\n",
      "    \n",
      "    Read more in the :ref:`User Guide <learning_curve>`.\n",
      "    \n",
      "    Parameters\n",
      "    ----------\n",
      "    estimator : object type that implements the \"fit\" and \"predict\" methods\n",
      "        An object of that type which is cloned for each validation.\n",
      "    \n",
      "    X : array-like, shape (n_samples, n_features)\n",
      "        Training vector, where n_samples is the number of samples and\n",
      "        n_features is the number of features.\n",
      "    \n",
      "    y : array-like, shape (n_samples) or (n_samples, n_features), optional\n",
      "        Target relative to X for classification or regression;\n",
      "        None for unsupervised learning.\n",
      "    \n",
      "    groups : array-like, with shape (n_samples,), optional\n",
      "        Group labels for the samples used while splitting the dataset into\n",
      "        train/test set.\n",
      "    \n",
      "    train_sizes : array-like, shape (n_ticks,), dtype float or int\n",
      "        Relative or absolute numbers of training examples that will be used to\n",
      "        generate the learning curve. If the dtype is float, it is regarded as a\n",
      "        fraction of the maximum size of the training set (that is determined\n",
      "        by the selected validation method), i.e. it has to be within (0, 1].\n",
      "        Otherwise it is interpreted as absolute sizes of the training sets.\n",
      "        Note that for classification the number of samples usually have to\n",
      "        be big enough to contain at least one sample from each class.\n",
      "        (default: np.linspace(0.1, 1.0, 5))\n",
      "    \n",
      "    cv : int, cross-validation generator or an iterable, optional\n",
      "        Determines the cross-validation splitting strategy.\n",
      "        Possible inputs for cv are:\n",
      "    \n",
      "        - None, to use the default 3-fold cross validation,\n",
      "        - integer, to specify the number of folds in a `(Stratified)KFold`,\n",
      "        - :term:`CV splitter`,\n",
      "        - An iterable yielding (train, test) splits as arrays of indices.\n",
      "    \n",
      "        For integer/None inputs, if the estimator is a classifier and ``y`` is\n",
      "        either binary or multiclass, :class:`StratifiedKFold` is used. In all\n",
      "        other cases, :class:`KFold` is used.\n",
      "    \n",
      "        Refer :ref:`User Guide <cross_validation>` for the various\n",
      "        cross-validation strategies that can be used here.\n",
      "    \n",
      "        .. versionchanged:: 0.20\n",
      "            ``cv`` default value if None will change from 3-fold to 5-fold\n",
      "            in v0.22.\n",
      "    \n",
      "    scoring : string, callable or None, optional, default: None\n",
      "        A string (see model evaluation documentation) or\n",
      "        a scorer callable object / function with signature\n",
      "        ``scorer(estimator, X, y)``.\n",
      "    \n",
      "    exploit_incremental_learning : boolean, optional, default: False\n",
      "        If the estimator supports incremental learning, this will be\n",
      "        used to speed up fitting for different training set sizes.\n",
      "    \n",
      "    n_jobs : int or None, optional (default=None)\n",
      "        Number of jobs to run in parallel.\n",
      "        ``None`` means 1 unless in a :obj:`joblib.parallel_backend` context.\n",
      "        ``-1`` means using all processors. See :term:`Glossary <n_jobs>`\n",
      "        for more details.\n",
      "    \n",
      "    pre_dispatch : integer or string, optional\n",
      "        Number of predispatched jobs for parallel execution (default is\n",
      "        all). The option can reduce the allocated memory. The string can\n",
      "        be an expression like '2*n_jobs'.\n",
      "    \n",
      "    verbose : integer, optional\n",
      "        Controls the verbosity: the higher, the more messages.\n",
      "    \n",
      "    shuffle : boolean, optional\n",
      "        Whether to shuffle training data before taking prefixes of it\n",
      "        based on``train_sizes``.\n",
      "    \n",
      "    random_state : int, RandomState instance or None, optional (default=None)\n",
      "        If int, random_state is the seed used by the random number generator;\n",
      "        If RandomState instance, random_state is the random number generator;\n",
      "        If None, the random number generator is the RandomState instance used\n",
      "        by `np.random`. Used when ``shuffle`` is True.\n",
      "    \n",
      "    error_score : 'raise' | 'raise-deprecating' or numeric\n",
      "        Value to assign to the score if an error occurs in estimator fitting.\n",
      "        If set to 'raise', the error is raised.\n",
      "        If set to 'raise-deprecating', a FutureWarning is printed before the\n",
      "        error is raised.\n",
      "        If a numeric value is given, FitFailedWarning is raised. This parameter\n",
      "        does not affect the refit step, which will always raise the error.\n",
      "        Default is 'raise-deprecating' but from version 0.22 it will change\n",
      "        to np.nan.\n",
      "    \n",
      "    Returns\n",
      "    -------\n",
      "    train_sizes_abs : array, shape (n_unique_ticks,), dtype int\n",
      "        Numbers of training examples that has been used to generate the\n",
      "        learning curve. Note that the number of ticks might be less\n",
      "        than n_ticks because duplicate entries will be removed.\n",
      "    \n",
      "    train_scores : array, shape (n_ticks, n_cv_folds)\n",
      "        Scores on training sets.\n",
      "    \n",
      "    test_scores : array, shape (n_ticks, n_cv_folds)\n",
      "        Scores on test set.\n",
      "    \n",
      "    Notes\n",
      "    -----\n",
      "    See :ref:`examples/model_selection/plot_learning_curve.py\n",
      "    <sphx_glr_auto_examples_model_selection_plot_learning_curve.py>`\n",
      "\n"
     ]
    }
   ],
   "source": [
    "help(learning_curve)"
   ]
  },
  {
   "cell_type": "code",
   "execution_count": 35,
   "metadata": {},
   "outputs": [
    {
     "name": "stdout",
     "output_type": "stream",
     "text": [
      "(5,)\n",
      "(5, 3)\n",
      "(5, 3)\n"
     ]
    }
   ],
   "source": [
    "# 模型的必要参数   模型对象， 特征，  标签   \n",
    "# 返回值   训练样本数量   训练集得分   测试集得分\n",
    "train_size, train_score, test_score = learning_curve(knn, x_train, y_train)\n",
    "print(train_size.shape) # 5 分别使用不同的5种比例\n",
    "print(train_score.shape) # 交叉验证做了3次，每次的结果都输出\n",
    "print(test_score.shape)"
   ]
  },
  {
   "cell_type": "code",
   "execution_count": 37,
   "metadata": {},
   "outputs": [],
   "source": [
    "# 求每次交叉验证的均值\n",
    "train_mean = train_score.mean(axis=1)\n",
    "test_mean = test_score.mean(axis=1)\n",
    "# 每次标准差\n",
    "train_std = train_score.std(axis=1)\n",
    "test_std = test_score.std(axis=1)"
   ]
  },
  {
   "cell_type": "code",
   "execution_count": 43,
   "metadata": {},
   "outputs": [
    {
     "data": {
      "text/plain": [
       "Text(0.5, 1.0, 'KNN学习率曲线')"
      ]
     },
     "execution_count": 43,
     "metadata": {},
     "output_type": "execute_result"
    },
    {
     "data": {
      "image/png": "[encoded data removed]",
      "text/plain": [
       "<Figure size 432x288 with 1 Axes>"
      ]
     },
     "metadata": {
      "needs_background": "light"
     },
     "output_type": "display_data"
    }
   ],
   "source": [
    "# 横坐标为训练样本数量， 不同样本数量条件下，交叉验证的得分均值\n",
    "plt.plot(train_size, train_mean, label='训练集得分', marker='o')\n",
    "# fill_between 绘制一个区间类型数据\n",
    "# train_size 横坐标定位， train_mean + train_std y轴上限值， train_mean - train_std y轴下限值\n",
    "plt.fill_between(train_size, train_mean + train_std, train_mean - train_std, alpha=0.5)\n",
    "plt.plot(train_size, test_mean, label='测试集得分', marker='o')\n",
    "plt.fill_between(train_size, test_mean + test_std, test_mean - test_std, alpha=0.5)\n",
    "plt.legend()\n",
    "plt.title('KNN学习率曲线')"
   ]
  },
  {
   "cell_type": "code",
   "execution_count": 45,
   "metadata": {},
   "outputs": [
    {
     "data": {
      "text/plain": [
       "<matplotlib.legend.Legend at 0x2a8f3d04f28>"
      ]
     },
     "execution_count": 45,
     "metadata": {},
     "output_type": "execute_result"
    },
    {
     "data": {
      "image/png": "[encoded data removed]",
      "text/plain": [
       "<Figure size 432x288 with 1 Axes>"
      ]
     },
     "metadata": {
      "needs_background": "light"
     },
     "output_type": "display_data"
    }
   ],
   "source": [
    "# 决策树学习率曲线 \n",
    "# 调用学习率曲线函数\n",
    "train_size, train_score, test_score = learning_curve(dt, x_train, y_train)\n",
    "# 计算训练和测试 均值和标准差\n",
    "train_mean = train_score.mean(axis=1)\n",
    "train_std = train_score.std(axis=1)\n",
    "test_mean = test_score.mean(axis=1)\n",
    "test_std = test_score.std(axis=1)\n",
    "# 绘制图像\n",
    "plt.plot(train_size, train_mean, marker='o', label='训练集得分')\n",
    "plt.fill_between(train_size, train_mean + train_std, train_mean - train_std, alpha=0.5)\n",
    "plt.plot(train_size, test_mean, marker='o', label='测试集得分')\n",
    "plt.fill_between(train_size, test_mean + test_std, test_mean - test_std, alpha=0.5)\n",
    "plt.legend()"
   ]
  },
  {
   "cell_type": "code",
   "execution_count": 46,
   "metadata": {},
   "outputs": [
    {
     "data": {
      "image/png": "[encoded data removed]",
      "text/plain": [
       "<Figure size 432x288 with 1 Axes>"
      ]
     },
     "metadata": {
      "needs_background": "light"
     },
     "output_type": "display_data"
    }
   ],
   "source": [
    "def xxlqx(model_name):\n",
    "    # 调用学习率曲线函数\n",
    "    train_size, train_score, test_score = learning_curve(model_name, x_train, y_train)\n",
    "    # 计算训练和测试 均值和标准差\n",
    "    train_mean = train_score.mean(axis=1)\n",
    "    train_std = train_score.std(axis=1)\n",
    "    test_mean = test_score.mean(axis=1)\n",
    "    test_std = test_score.std(axis=1)\n",
    "    # 绘制图像\n",
    "    plt.plot(train_size, train_mean, marker='o', label='训练集得分')\n",
    "    plt.fill_between(train_size, train_mean + train_std, train_mean - train_std, alpha=0.5)\n",
    "    plt.plot(train_size, test_mean, marker='o', label='测试集得分')\n",
    "    plt.fill_between(train_size, test_mean + test_std, test_mean - test_std, alpha=0.5)\n",
    "    plt.legend()\n",
    "xxlqx(rf)"
   ]
  },
  {
   "cell_type": "code",
   "execution_count": 47,
   "metadata": {},
   "outputs": [
    {
     "data": {
      "text/plain": [
       "0.9287795590200594"
      ]
     },
     "execution_count": 47,
     "metadata": {},
     "output_type": "execute_result"
    }
   ],
   "source": [
    "# 随机森林\n",
    "rf = RandomForestRegressor(n_estimators=50, max_depth=7)\n",
    "rf.fit(x_train, y_train)\n",
    "rf.score(x_test, y_test)"
   ]
  },
  {
   "cell_type": "code",
   "execution_count": null,
   "metadata": {},
   "outputs": [],
   "source": []
  }
 ],
 "metadata": {
  "kernelspec": {
   "display_name": "Python 3",
   "language": "python",
   "name": "python3"
  },
  "language_info": {
   "codemirror_mode": {
    "name": "ipython",
    "version": 3
   },
   "file_extension": ".py",
   "mimetype": "text/x-python",
   "name": "python",
   "nbconvert_exporter": "python",
   "pygments_lexer": "ipython3",
   "version": "3.7.3"
  }
 },
 "nbformat": 4,
 "nbformat_minor": 2
}
