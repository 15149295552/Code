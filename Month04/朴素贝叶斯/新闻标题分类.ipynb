{
 "cells": [
  {
   "cell_type": "markdown",
   "metadata": {},
   "source": [
    "读取数据，切分x，y  \n",
    "jieba分词  \n",
    "词频处理  \n",
    "算法处理"
   ]
  },
  {
   "cell_type": "code",
   "execution_count": 1,
   "metadata": {},
   "outputs": [],
   "source": [
    "import os\n",
    "import jieba\n",
    "from sklearn.feature_extraction.text import CountVectorizer\n",
    "from sklearn.naive_bayes import MultinomialNB\n",
    "from sklearn.externals import joblib # 存储模型\n",
    "from sklearn.metrics import classification_report, confusion_matrix # 分类报告、混淆矩阵\n",
    "import warnings\n",
    "warnings.filterwarnings('ignore')"
   ]
  },
  {
   "cell_type": "code",
   "execution_count": 2,
   "metadata": {},
   "outputs": [],
   "source": [
    "# 传入文件路径，获取特征和标签\n",
    "def read_data(file_dir):\n",
    "    x = []\n",
    "    y = []\n",
    "    with open(file_dir, encoding='utf-8') as f:\n",
    "        lines = f.readlines()\n",
    "    for line in lines:\n",
    "        # 找到每行数据切分特征、标签\n",
    "#         y_, x_ = line.split('---')\n",
    "        # unicode 唯一编码\n",
    "        # 将数据进行编解码\n",
    "        line = line.encode('unicode-escape').decode('unicode-escape')\n",
    "        l = line.split('---')\n",
    "        if len(l) != 2:\n",
    "            continue\n",
    "        y_, x_ = l\n",
    "        x_ = x_[:-2] # 切掉\\n\n",
    "        # 获取特征后，进行jieba分词处理\n",
    "        x_ = jieba.lcut(x_)\n",
    "        x.append(' '.join(x_))\n",
    "        y.append(y_)\n",
    "    return x, y"
   ]
  },
  {
   "cell_type": "code",
   "execution_count": 3,
   "metadata": {},
   "outputs": [
    {
     "name": "stderr",
     "output_type": "stream",
     "text": [
      "Building prefix dict from the default dictionary ...\n",
      "Loading model from cache C:\\Users\\ADMINI~1\\AppData\\Local\\Temp\\jieba.cache\n",
      "Loading model cost 1.037 seconds.\n",
      "Prefix dict has been built successfully.\n"
     ]
    },
    {
     "name": "stdout",
     "output_type": "stream",
     "text": [
      "10399 10399\n"
     ]
    }
   ],
   "source": [
    "# 获取训练集的特征和标签\n",
    "# 查看文件夹中的所有文件\n",
    "dir_list = os.listdir('train_data')\n",
    "# 存储获取的特征和标签\n",
    "x_train, y_train = [], []\n",
    "for file_dir in dir_list:\n",
    "    x, y = read_data('train_data/' + file_dir)\n",
    "    x_train += x\n",
    "    y_train += y\n",
    "# 验证长度\n",
    "print(len(x_train), len(y_train))"
   ]
  },
  {
   "cell_type": "code",
   "execution_count": 4,
   "metadata": {},
   "outputs": [
    {
     "data": {
      "text/plain": [
       "['1 - 10 月 全国 房地产 开发 投资 同比 增长 6.3% ， 增速 提高 0.7 个 百分',\n",
       " '1 - 10 月 河北省 外贸 进出口 保持 增长   同比 增长 6',\n",
       " '1.1 万亿 美债 被 减后 ， 美媒 ： 中国 或 清零 美债 ， 美 或 发生 债务 危',\n",
       " '10 - 11 月 中国 巧克力 品牌 线上 发展 排行榜 单 TOP1',\n",
       " '10000 美金 的 天价 海运费 来 了 ！ 订舱 之前 先摇号 ， 一舱 难求']"
      ]
     },
     "execution_count": 4,
     "metadata": {},
     "output_type": "execute_result"
    }
   ],
   "source": [
    "x_train[:5]"
   ]
  },
  {
   "cell_type": "code",
   "execution_count": 5,
   "metadata": {},
   "outputs": [
    {
     "data": {
      "text/plain": [
       "['--', '?', '“', '”', '》']"
      ]
     },
     "execution_count": 5,
     "metadata": {},
     "output_type": "execute_result"
    }
   ],
   "source": [
    "# 获取停用词的信息  \n",
    "# 默认gbk\n",
    "with open('stop_word/stopword.txt', encoding='utf-8') as f:\n",
    "    lines = f.readlines()\n",
    "# 存储列表\n",
    "stop_words = []\n",
    "for line in lines:\n",
    "    line = line.encode('unicode-escape').decode('unicode-escape')\n",
    "    stop_words.append(line.rstrip('\\n'))\n",
    "stop_words[:5]"
   ]
  },
  {
   "cell_type": "code",
   "execution_count": 6,
   "metadata": {},
   "outputs": [],
   "source": [
    "# 词频统计\n",
    "cv = CountVectorizer(stop_words=stop_words) # 将停用词带入\n",
    "x_train = cv.fit_transform(x_train).toarray()"
   ]
  },
  {
   "cell_type": "code",
   "execution_count": 7,
   "metadata": {},
   "outputs": [
    {
     "name": "stdout",
     "output_type": "stream",
     "text": [
      "存储的单词量 23533\n"
     ]
    }
   ],
   "source": [
    "print('存储的单词量', len(cv.get_feature_names()))"
   ]
  },
  {
   "cell_type": "code",
   "execution_count": 8,
   "metadata": {},
   "outputs": [
    {
     "name": "stdout",
     "output_type": "stream",
     "text": [
      "模型的准确率为（训练集） 0.9920184633137802\n"
     ]
    }
   ],
   "source": [
    "# 模型处理\n",
    "model = MultinomialNB().fit(x_train, y_train)\n",
    "print('模型的准确率为（训练集）', model.score(x_train, y_train))"
   ]
  },
  {
   "cell_type": "markdown",
   "metadata": {},
   "source": [
    "测试集得分"
   ]
  },
  {
   "cell_type": "code",
   "execution_count": 9,
   "metadata": {},
   "outputs": [],
   "source": [
    "dir_list = os.listdir('test_data')\n",
    "# 存储获取的特征和标签\n",
    "x_test, y_test = [], []\n",
    "for file_dir in dir_list:\n",
    "    x, y = read_data('test_data/' + file_dir)\n",
    "    x_test += x\n",
    "    y_test += y"
   ]
  },
  {
   "cell_type": "code",
   "execution_count": 10,
   "metadata": {},
   "outputs": [],
   "source": [
    "# 词频统计\n",
    "x_test = cv.transform(x_test).toarray()"
   ]
  },
  {
   "cell_type": "code",
   "execution_count": 11,
   "metadata": {},
   "outputs": [
    {
     "data": {
      "text/plain": [
       "0.961082910321489"
      ]
     },
     "execution_count": 11,
     "metadata": {},
     "output_type": "execute_result"
    }
   ],
   "source": [
    "model.score(x_test, y_test)"
   ]
  },
  {
   "cell_type": "code",
   "execution_count": 12,
   "metadata": {},
   "outputs": [],
   "source": [
    "from sklearn.ensemble import RandomForestClassifier"
   ]
  },
  {
   "cell_type": "code",
   "execution_count": 13,
   "metadata": {},
   "outputs": [
    {
     "data": {
      "text/plain": [
       "0.8578680203045685"
      ]
     },
     "execution_count": 13,
     "metadata": {},
     "output_type": "execute_result"
    }
   ],
   "source": [
    "# 朴素贝叶斯处理文本数据效果好、运行速度快，准确率高，不需要调参\n",
    "rf = RandomForestClassifier()\n",
    "rf.fit(x_train, y_train)\n",
    "rf.score(x_test, y_test)"
   ]
  },
  {
   "cell_type": "code",
   "execution_count": 14,
   "metadata": {},
   "outputs": [
    {
     "data": {
      "text/plain": [
       "['cv.pkl']"
      ]
     },
     "execution_count": 14,
     "metadata": {},
     "output_type": "execute_result"
    }
   ],
   "source": [
    "# 保存模型\n",
    "joblib.dump(model, 'nb.pkl') # 朴素贝叶斯\n",
    "joblib.dump(cv, 'cv.pkl') # 词频统计"
   ]
  },
  {
   "cell_type": "code",
   "execution_count": 15,
   "metadata": {},
   "outputs": [
    {
     "data": {
      "text/plain": [
       "array(['财经'], dtype='<U2')"
      ]
     },
     "execution_count": 15,
     "metadata": {},
     "output_type": "execute_result"
    }
   ],
   "source": [
    "model.predict(x_test[:1])"
   ]
  },
  {
   "cell_type": "code",
   "execution_count": 16,
   "metadata": {},
   "outputs": [
    {
     "data": {
      "text/plain": [
       "['财经']"
      ]
     },
     "execution_count": 16,
     "metadata": {},
     "output_type": "execute_result"
    }
   ],
   "source": [
    "y_test[:1]"
   ]
  },
  {
   "cell_type": "code",
   "execution_count": 17,
   "metadata": {},
   "outputs": [
    {
     "data": {
      "text/plain": [
       "(591, 23533)"
      ]
     },
     "execution_count": 17,
     "metadata": {},
     "output_type": "execute_result"
    }
   ],
   "source": [
    "x_test.shape"
   ]
  },
  {
   "cell_type": "code",
   "execution_count": null,
   "metadata": {},
   "outputs": [],
   "source": []
  }
 ],
 "metadata": {
  "kernelspec": {
   "display_name": "Python 3",
   "language": "python",
   "name": "python3"
  },
  "language_info": {
   "codemirror_mode": {
    "name": "ipython",
    "version": 3
   },
   "file_extension": ".py",
   "mimetype": "text/x-python",
   "name": "python",
   "nbconvert_exporter": "python",
   "pygments_lexer": "ipython3",
   "version": "3.7.3"
  }
 },
 "nbformat": 4,
 "nbformat_minor": 2
}
