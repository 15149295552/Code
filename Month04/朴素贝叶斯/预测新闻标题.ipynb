{
 "cells": [
  {
   "cell_type": "code",
   "execution_count": 1,
   "metadata": {},
   "outputs": [],
   "source": [
    "import jieba\n",
    "from sklearn.externals import joblib # 模型保存、加载\n",
    "import warnings\n",
    "warnings.filterwarnings('ignore')"
   ]
  },
  {
   "cell_type": "code",
   "execution_count": 2,
   "metadata": {},
   "outputs": [],
   "source": [
    "# 加载模型\n",
    "model =  joblib.load('nb.pkl')# 朴素贝叶斯\n",
    "cv = joblib.load('cv.pkl') # 词频统计"
   ]
  },
  {
   "cell_type": "code",
   "execution_count": 18,
   "metadata": {},
   "outputs": [],
   "source": [
    "# 预测函数\n",
    "def predict_c(title):\n",
    "    words = jieba.lcut(title)\n",
    "    s = ' '.join(words) # 给每个单词之间添加空格\n",
    "    # 词频处理\n",
    "    x = cv.transform([s])\n",
    "    print(x.shape)\n",
    "    # 预测结果\n",
    "    y_ = model.predict(x)\n",
    "    return y_"
   ]
  },
  {
   "cell_type": "code",
   "execution_count": 21,
   "metadata": {},
   "outputs": [
    {
     "name": "stdout",
     "output_type": "stream",
     "text": [
      "(1, 23533)\n",
      "['健康']\n"
     ]
    }
   ],
   "source": [
    "print(predict_c('中午不吃饭对身体有害'))"
   ]
  },
  {
   "cell_type": "code",
   "execution_count": 23,
   "metadata": {},
   "outputs": [
    {
     "name": "stdout",
     "output_type": "stream",
     "text": [
      "(1, 23533)\n",
      "['娱乐']\n"
     ]
    }
   ],
   "source": [
    "print(predict_c('万里归途票房大卖'))"
   ]
  },
  {
   "cell_type": "code",
   "execution_count": null,
   "metadata": {},
   "outputs": [],
   "source": []
  }
 ],
 "metadata": {
  "kernelspec": {
   "display_name": "Python 3",
   "language": "python",
   "name": "python3"
  },
  "language_info": {
   "codemirror_mode": {
    "name": "ipython",
    "version": 3
   },
   "file_extension": ".py",
   "mimetype": "text/x-python",
   "name": "python",
   "nbconvert_exporter": "python",
   "pygments_lexer": "ipython3",
   "version": "3.7.3"
  }
 },
 "nbformat": 4,
 "nbformat_minor": 2
}
