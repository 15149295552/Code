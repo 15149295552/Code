{
 "cells": [
  {
   "cell_type": "markdown",
   "metadata": {},
   "source": [
    "# 一、预处理\n",
    "数据合并 \n",
    "删除不需要数据"
   ]
  },
  {
   "cell_type": "code",
   "execution_count": 1,
   "metadata": {},
   "outputs": [],
   "source": [
    "import numpy as np\n",
    "import pandas as pd\n",
    "import matplotlib.pyplot as plt"
   ]
  },
  {
   "cell_type": "code",
   "execution_count": 2,
   "metadata": {},
   "outputs": [],
   "source": [
    "plt.rcParams['font.sans-serif'] = ['SimHei']\n",
    "plt.rcParams['axes.unicode_minus'] = False"
   ]
  },
  {
   "cell_type": "code",
   "execution_count": 3,
   "metadata": {},
   "outputs": [
    {
     "data": {
      "text/html": [
       "<div>\n",
       "<style scoped>\n",
       "    .dataframe tbody tr th:only-of-type {\n",
       "        vertical-align: middle;\n",
       "    }\n",
       "\n",
       "    .dataframe tbody tr th {\n",
       "        vertical-align: top;\n",
       "    }\n",
       "\n",
       "    .dataframe thead th {\n",
       "        text-align: right;\n",
       "    }\n",
       "</style>\n",
       "<table border=\"1\" class=\"dataframe\">\n",
       "  <thead>\n",
       "    <tr style=\"text-align: right;\">\n",
       "      <th></th>\n",
       "      <th>detail_id</th>\n",
       "      <th>order_id</th>\n",
       "      <th>dishes_id</th>\n",
       "      <th>logicprn_name</th>\n",
       "      <th>parent_class_name</th>\n",
       "      <th>dishes_name</th>\n",
       "      <th>itemis_add</th>\n",
       "      <th>counts</th>\n",
       "      <th>amounts</th>\n",
       "      <th>cost</th>\n",
       "      <th>place_order_time</th>\n",
       "      <th>discount_amt</th>\n",
       "      <th>discount_reason</th>\n",
       "      <th>kick_back</th>\n",
       "      <th>add_inprice</th>\n",
       "      <th>add_info</th>\n",
       "      <th>bar_code</th>\n",
       "      <th>picture_file</th>\n",
       "      <th>emp_id</th>\n",
       "    </tr>\n",
       "  </thead>\n",
       "  <tbody>\n",
       "    <tr>\n",
       "      <th>0</th>\n",
       "      <td>2956</td>\n",
       "      <td>417</td>\n",
       "      <td>610062</td>\n",
       "      <td>NaN</td>\n",
       "      <td>NaN</td>\n",
       "      <td>蒜蓉生蚝</td>\n",
       "      <td>0</td>\n",
       "      <td>1</td>\n",
       "      <td>49</td>\n",
       "      <td>NaN</td>\n",
       "      <td>2016-08-01 11:05:36</td>\n",
       "      <td>NaN</td>\n",
       "      <td>NaN</td>\n",
       "      <td>NaN</td>\n",
       "      <td>0</td>\n",
       "      <td>NaN</td>\n",
       "      <td>NaN</td>\n",
       "      <td>caipu/104001.jpg</td>\n",
       "      <td>1442</td>\n",
       "    </tr>\n",
       "    <tr>\n",
       "      <th>1</th>\n",
       "      <td>2958</td>\n",
       "      <td>417</td>\n",
       "      <td>609957</td>\n",
       "      <td>NaN</td>\n",
       "      <td>NaN</td>\n",
       "      <td>蒙古烤羊腿</td>\n",
       "      <td>0</td>\n",
       "      <td>1</td>\n",
       "      <td>48</td>\n",
       "      <td>NaN</td>\n",
       "      <td>2016-08-01 11:07:07</td>\n",
       "      <td>NaN</td>\n",
       "      <td>NaN</td>\n",
       "      <td>NaN</td>\n",
       "      <td>0</td>\n",
       "      <td>NaN</td>\n",
       "      <td>NaN</td>\n",
       "      <td>caipu/202003.jpg</td>\n",
       "      <td>1442</td>\n",
       "    </tr>\n",
       "    <tr>\n",
       "      <th>2</th>\n",
       "      <td>2961</td>\n",
       "      <td>417</td>\n",
       "      <td>609950</td>\n",
       "      <td>NaN</td>\n",
       "      <td>NaN</td>\n",
       "      <td>大蒜苋菜</td>\n",
       "      <td>0</td>\n",
       "      <td>1</td>\n",
       "      <td>30</td>\n",
       "      <td>NaN</td>\n",
       "      <td>2016-08-01 11:07:40</td>\n",
       "      <td>NaN</td>\n",
       "      <td>NaN</td>\n",
       "      <td>NaN</td>\n",
       "      <td>0</td>\n",
       "      <td>NaN</td>\n",
       "      <td>NaN</td>\n",
       "      <td>caipu/303001.jpg</td>\n",
       "      <td>1442</td>\n",
       "    </tr>\n",
       "    <tr>\n",
       "      <th>3</th>\n",
       "      <td>2966</td>\n",
       "      <td>417</td>\n",
       "      <td>610038</td>\n",
       "      <td>NaN</td>\n",
       "      <td>NaN</td>\n",
       "      <td>芝麻烤紫菜</td>\n",
       "      <td>0</td>\n",
       "      <td>1</td>\n",
       "      <td>25</td>\n",
       "      <td>NaN</td>\n",
       "      <td>2016-08-01 11:11:11</td>\n",
       "      <td>NaN</td>\n",
       "      <td>NaN</td>\n",
       "      <td>NaN</td>\n",
       "      <td>0</td>\n",
       "      <td>NaN</td>\n",
       "      <td>NaN</td>\n",
       "      <td>caipu/105002.jpg</td>\n",
       "      <td>1442</td>\n",
       "    </tr>\n",
       "    <tr>\n",
       "      <th>4</th>\n",
       "      <td>2968</td>\n",
       "      <td>417</td>\n",
       "      <td>610003</td>\n",
       "      <td>NaN</td>\n",
       "      <td>NaN</td>\n",
       "      <td>蒜香包</td>\n",
       "      <td>0</td>\n",
       "      <td>1</td>\n",
       "      <td>13</td>\n",
       "      <td>NaN</td>\n",
       "      <td>2016-08-01 11:11:30</td>\n",
       "      <td>NaN</td>\n",
       "      <td>NaN</td>\n",
       "      <td>NaN</td>\n",
       "      <td>0</td>\n",
       "      <td>NaN</td>\n",
       "      <td>NaN</td>\n",
       "      <td>caipu/503002.jpg</td>\n",
       "      <td>1442</td>\n",
       "    </tr>\n",
       "  </tbody>\n",
       "</table>\n",
       "</div>"
      ],
      "text/plain": [
       "   detail_id  order_id  dishes_id  logicprn_name  parent_class_name  \\\n",
       "0       2956       417     610062            NaN                NaN   \n",
       "1       2958       417     609957            NaN                NaN   \n",
       "2       2961       417     609950            NaN                NaN   \n",
       "3       2966       417     610038            NaN                NaN   \n",
       "4       2968       417     610003            NaN                NaN   \n",
       "\n",
       "  dishes_name  itemis_add  counts  amounts  cost    place_order_time  \\\n",
       "0        蒜蓉生蚝           0       1       49   NaN 2016-08-01 11:05:36   \n",
       "1       蒙古烤羊腿           0       1       48   NaN 2016-08-01 11:07:07   \n",
       "2        大蒜苋菜           0       1       30   NaN 2016-08-01 11:07:40   \n",
       "3       芝麻烤紫菜           0       1       25   NaN 2016-08-01 11:11:11   \n",
       "4         蒜香包           0       1       13   NaN 2016-08-01 11:11:30   \n",
       "\n",
       "   discount_amt  discount_reason  kick_back  add_inprice  add_info  bar_code  \\\n",
       "0           NaN              NaN        NaN            0       NaN       NaN   \n",
       "1           NaN              NaN        NaN            0       NaN       NaN   \n",
       "2           NaN              NaN        NaN            0       NaN       NaN   \n",
       "3           NaN              NaN        NaN            0       NaN       NaN   \n",
       "4           NaN              NaN        NaN            0       NaN       NaN   \n",
       "\n",
       "       picture_file  emp_id  \n",
       "0  caipu/104001.jpg    1442  \n",
       "1  caipu/202003.jpg    1442  \n",
       "2  caipu/303001.jpg    1442  \n",
       "3  caipu/105002.jpg    1442  \n",
       "4  caipu/503002.jpg    1442  "
      ]
     },
     "execution_count": 3,
     "metadata": {},
     "output_type": "execute_result"
    }
   ],
   "source": [
    "# 读取不同工作表数据\n",
    "df1 = pd.read_excel('data/meal_order_detail.xlsx', sheet_name='meal_order_detail1')\n",
    "df1.head() "
   ]
  },
  {
   "cell_type": "markdown",
   "metadata": {},
   "source": [
    "NaN 缺失值 查看缺失值数量  \n",
    "info 查看缺失值，直接删除"
   ]
  },
  {
   "cell_type": "code",
   "execution_count": 4,
   "metadata": {},
   "outputs": [
    {
     "name": "stdout",
     "output_type": "stream",
     "text": [
      "<class 'pandas.core.frame.DataFrame'>\n",
      "RangeIndex: 2779 entries, 0 to 2778\n",
      "Data columns (total 19 columns):\n",
      "detail_id            2779 non-null int64\n",
      "order_id             2779 non-null int64\n",
      "dishes_id            2779 non-null int64\n",
      "logicprn_name        0 non-null float64\n",
      "parent_class_name    0 non-null float64\n",
      "dishes_name          2779 non-null object\n",
      "itemis_add           2779 non-null int64\n",
      "counts               2779 non-null int64\n",
      "amounts              2779 non-null int64\n",
      "cost                 0 non-null float64\n",
      "place_order_time     2779 non-null datetime64[ns]\n",
      "discount_amt         0 non-null float64\n",
      "discount_reason      0 non-null float64\n",
      "kick_back            0 non-null float64\n",
      "add_inprice          2779 non-null int64\n",
      "add_info             0 non-null float64\n",
      "bar_code             0 non-null float64\n",
      "picture_file         2779 non-null object\n",
      "emp_id               2779 non-null int64\n",
      "dtypes: datetime64[ns](1), float64(8), int64(8), object(2)\n",
      "memory usage: 412.6+ KB\n"
     ]
    }
   ],
   "source": [
    "df1.info()"
   ]
  },
  {
   "cell_type": "markdown",
   "metadata": {},
   "source": [
    "三表合并，删除缺失列"
   ]
  },
  {
   "cell_type": "code",
   "execution_count": 5,
   "metadata": {},
   "outputs": [
    {
     "name": "stdout",
     "output_type": "stream",
     "text": [
      "<class 'pandas.core.frame.DataFrame'>\n",
      "Int64Index: 10037 entries, 0 to 3610\n",
      "Data columns (total 19 columns):\n",
      "detail_id            10037 non-null int64\n",
      "order_id             10037 non-null int64\n",
      "dishes_id            10037 non-null int64\n",
      "logicprn_name        0 non-null float64\n",
      "parent_class_name    0 non-null float64\n",
      "dishes_name          10037 non-null object\n",
      "itemis_add           10037 non-null int64\n",
      "counts               10037 non-null int64\n",
      "amounts              10037 non-null int64\n",
      "cost                 0 non-null float64\n",
      "place_order_time     10037 non-null datetime64[ns]\n",
      "discount_amt         0 non-null float64\n",
      "discount_reason      0 non-null float64\n",
      "kick_back            0 non-null float64\n",
      "add_inprice          10037 non-null int64\n",
      "add_info             0 non-null float64\n",
      "bar_code             0 non-null float64\n",
      "picture_file         10037 non-null object\n",
      "emp_id               10037 non-null int64\n",
      "dtypes: datetime64[ns](1), float64(8), int64(8), object(2)\n",
      "memory usage: 1.5+ MB\n"
     ]
    }
   ],
   "source": [
    "df2 = pd.read_excel('data/meal_order_detail.xlsx', sheet_name='meal_order_detail2')\n",
    "df3 = pd.read_excel('data/meal_order_detail.xlsx', sheet_name='meal_order_detail3')\n",
    "# 合并\n",
    "df = pd.concat([df1, df2, df3])\n",
    "df.info()"
   ]
  },
  {
   "cell_type": "markdown",
   "metadata": {},
   "source": [
    "第一种删除"
   ]
  },
  {
   "cell_type": "code",
   "execution_count": 6,
   "metadata": {},
   "outputs": [],
   "source": [
    "# del df[列明]\n",
    "# 保留没有缺失数据\n",
    "# df.isnull().sum()>0 isnull 有缺失值为True  sum求和，如果该列有缺失 数值大于0\n",
    "# cols = df.columns[df.isnull().sum()>0]\n",
    "# for i in cols:\n",
    "#     del df[i]"
   ]
  },
  {
   "cell_type": "markdown",
   "metadata": {},
   "source": [
    "第二种 按照列删除"
   ]
  },
  {
   "cell_type": "code",
   "execution_count": 7,
   "metadata": {},
   "outputs": [],
   "source": [
    "df.dropna(axis=1, inplace=True)"
   ]
  },
  {
   "cell_type": "code",
   "execution_count": 8,
   "metadata": {},
   "outputs": [
    {
     "name": "stdout",
     "output_type": "stream",
     "text": [
      "<class 'pandas.core.frame.DataFrame'>\n",
      "Int64Index: 10037 entries, 0 to 3610\n",
      "Data columns (total 11 columns):\n",
      "detail_id           10037 non-null int64\n",
      "order_id            10037 non-null int64\n",
      "dishes_id           10037 non-null int64\n",
      "dishes_name         10037 non-null object\n",
      "itemis_add          10037 non-null int64\n",
      "counts              10037 non-null int64\n",
      "amounts             10037 non-null int64\n",
      "place_order_time    10037 non-null datetime64[ns]\n",
      "add_inprice         10037 non-null int64\n",
      "picture_file        10037 non-null object\n",
      "emp_id              10037 non-null int64\n",
      "dtypes: datetime64[ns](1), int64(8), object(2)\n",
      "memory usage: 941.0+ KB\n"
     ]
    }
   ],
   "source": [
    "df.info()"
   ]
  },
  {
   "cell_type": "markdown",
   "metadata": {},
   "source": [
    "detail_id          10037 non-null int64  \n",
    "order_id     订单号        10037 non-null int64  \n",
    "dishes_id    菜品编号       10037 non-null int64  \n",
    "dishes_name   菜名      10037 non-null object  \n",
    "itemis_add          10037 non-null int64  \n",
    "counts       数量         10037 non-null int64  \n",
    "amounts       单价      10037 non-null int64  \n",
    "place_order_time 用餐时间   10037 non-null datetime64[ns]  \n",
    "add_inprice         10037 non-null int64  \n",
    "picture_file        10037 non-null object  \n",
    "emp_id     点餐员         10037 non-null int64  "
   ]
  },
  {
   "cell_type": "markdown",
   "metadata": {},
   "source": [
    "# 二、统计最受欢迎10道菜"
   ]
  },
  {
   "cell_type": "code",
   "execution_count": 9,
   "metadata": {},
   "outputs": [
    {
     "data": {
      "text/plain": [
       "Text(0.5, 1.0, '最受欢迎的10个菜品')"
      ]
     },
     "execution_count": 9,
     "metadata": {},
     "output_type": "execute_result"
    },
    {
     "data": {
      "image/png": "[encoded data removed]",
      "text/plain": [
       "<Figure size 432x288 with 1 Axes>"
      ]
     },
     "metadata": {
      "needs_background": "light"
     },
     "output_type": "display_data"
    }
   ],
   "source": [
    "df_dish = df['dishes_name'].value_counts()[:10] # 最受欢迎的10道菜\n",
    "df_dish.plot(kind='bar', fontsize=12) # 条形图\n",
    "# 添加具体数据\n",
    "for x,y in enumerate(df_dish):\n",
    "    plt.text(x, y+5, y, ha='center') # 横纵坐标、数值, ha 对其位置\n",
    "plt.title('最受欢迎的10个菜品')"
   ]
  },
  {
   "cell_type": "markdown",
   "metadata": {},
   "source": [
    "# 三、查看每个员工点菜的总价"
   ]
  },
  {
   "cell_type": "markdown",
   "metadata": {},
   "source": [
    "对员工进行分组  \n",
    "总价=单价$\\times$数量"
   ]
  },
  {
   "cell_type": "code",
   "execution_count": 10,
   "metadata": {},
   "outputs": [
    {
     "data": {
      "text/html": [
       "<div>\n",
       "<style scoped>\n",
       "    .dataframe tbody tr th:only-of-type {\n",
       "        vertical-align: middle;\n",
       "    }\n",
       "\n",
       "    .dataframe tbody tr th {\n",
       "        vertical-align: top;\n",
       "    }\n",
       "\n",
       "    .dataframe thead th {\n",
       "        text-align: right;\n",
       "    }\n",
       "</style>\n",
       "<table border=\"1\" class=\"dataframe\">\n",
       "  <thead>\n",
       "    <tr style=\"text-align: right;\">\n",
       "      <th></th>\n",
       "      <th>detail_id</th>\n",
       "      <th>order_id</th>\n",
       "      <th>dishes_id</th>\n",
       "      <th>dishes_name</th>\n",
       "      <th>itemis_add</th>\n",
       "      <th>counts</th>\n",
       "      <th>amounts</th>\n",
       "      <th>place_order_time</th>\n",
       "      <th>add_inprice</th>\n",
       "      <th>picture_file</th>\n",
       "      <th>emp_id</th>\n",
       "      <th>total</th>\n",
       "    </tr>\n",
       "  </thead>\n",
       "  <tbody>\n",
       "    <tr>\n",
       "      <th>0</th>\n",
       "      <td>2956</td>\n",
       "      <td>417</td>\n",
       "      <td>610062</td>\n",
       "      <td>蒜蓉生蚝</td>\n",
       "      <td>0</td>\n",
       "      <td>1</td>\n",
       "      <td>49</td>\n",
       "      <td>2016-08-01 11:05:36</td>\n",
       "      <td>0</td>\n",
       "      <td>caipu/104001.jpg</td>\n",
       "      <td>1442</td>\n",
       "      <td>49</td>\n",
       "    </tr>\n",
       "    <tr>\n",
       "      <th>1</th>\n",
       "      <td>2958</td>\n",
       "      <td>417</td>\n",
       "      <td>609957</td>\n",
       "      <td>蒙古烤羊腿</td>\n",
       "      <td>0</td>\n",
       "      <td>1</td>\n",
       "      <td>48</td>\n",
       "      <td>2016-08-01 11:07:07</td>\n",
       "      <td>0</td>\n",
       "      <td>caipu/202003.jpg</td>\n",
       "      <td>1442</td>\n",
       "      <td>48</td>\n",
       "    </tr>\n",
       "    <tr>\n",
       "      <th>2</th>\n",
       "      <td>2961</td>\n",
       "      <td>417</td>\n",
       "      <td>609950</td>\n",
       "      <td>大蒜苋菜</td>\n",
       "      <td>0</td>\n",
       "      <td>1</td>\n",
       "      <td>30</td>\n",
       "      <td>2016-08-01 11:07:40</td>\n",
       "      <td>0</td>\n",
       "      <td>caipu/303001.jpg</td>\n",
       "      <td>1442</td>\n",
       "      <td>30</td>\n",
       "    </tr>\n",
       "    <tr>\n",
       "      <th>3</th>\n",
       "      <td>2966</td>\n",
       "      <td>417</td>\n",
       "      <td>610038</td>\n",
       "      <td>芝麻烤紫菜</td>\n",
       "      <td>0</td>\n",
       "      <td>1</td>\n",
       "      <td>25</td>\n",
       "      <td>2016-08-01 11:11:11</td>\n",
       "      <td>0</td>\n",
       "      <td>caipu/105002.jpg</td>\n",
       "      <td>1442</td>\n",
       "      <td>25</td>\n",
       "    </tr>\n",
       "    <tr>\n",
       "      <th>4</th>\n",
       "      <td>2968</td>\n",
       "      <td>417</td>\n",
       "      <td>610003</td>\n",
       "      <td>蒜香包</td>\n",
       "      <td>0</td>\n",
       "      <td>1</td>\n",
       "      <td>13</td>\n",
       "      <td>2016-08-01 11:11:30</td>\n",
       "      <td>0</td>\n",
       "      <td>caipu/503002.jpg</td>\n",
       "      <td>1442</td>\n",
       "      <td>13</td>\n",
       "    </tr>\n",
       "  </tbody>\n",
       "</table>\n",
       "</div>"
      ],
      "text/plain": [
       "   detail_id  order_id  dishes_id dishes_name  itemis_add  counts  amounts  \\\n",
       "0       2956       417     610062        蒜蓉生蚝           0       1       49   \n",
       "1       2958       417     609957       蒙古烤羊腿           0       1       48   \n",
       "2       2961       417     609950        大蒜苋菜           0       1       30   \n",
       "3       2966       417     610038       芝麻烤紫菜           0       1       25   \n",
       "4       2968       417     610003         蒜香包           0       1       13   \n",
       "\n",
       "     place_order_time  add_inprice      picture_file  emp_id  total  \n",
       "0 2016-08-01 11:05:36            0  caipu/104001.jpg    1442     49  \n",
       "1 2016-08-01 11:07:07            0  caipu/202003.jpg    1442     48  \n",
       "2 2016-08-01 11:07:40            0  caipu/303001.jpg    1442     30  \n",
       "3 2016-08-01 11:11:11            0  caipu/105002.jpg    1442     25  \n",
       "4 2016-08-01 11:11:30            0  caipu/503002.jpg    1442     13  "
      ]
     },
     "execution_count": 10,
     "metadata": {},
     "output_type": "execute_result"
    }
   ],
   "source": [
    "# 计算每个菜品总价\n",
    "df['total']=df['counts']*df['amounts']\n",
    "df.head()"
   ]
  },
  {
   "cell_type": "code",
   "execution_count": 13,
   "metadata": {},
   "outputs": [
    {
     "data": {
      "text/plain": [
       "<matplotlib.axes._subplots.AxesSubplot at 0x1286eaea8d0>"
      ]
     },
     "execution_count": 13,
     "metadata": {},
     "output_type": "execute_result"
    },
    {
     "data": {
      "image/png": "[encoded data removed]",
      "text/plain": [
       "<Figure size 432x288 with 1 Axes>"
      ]
     },
     "metadata": {
      "needs_background": "light"
     },
     "output_type": "display_data"
    }
   ],
   "source": [
    "# 每个员工订餐总价格\n",
    "df.groupby('emp_id').sum().plot(y='total')"
   ]
  },
  {
   "cell_type": "code",
   "execution_count": 16,
   "metadata": {},
   "outputs": [
    {
     "data": {
      "text/plain": [
       "emp_id\n",
       "1086    6037\n",
       "1103    5260\n",
       "1076    4661\n",
       "1147    4564\n",
       "1088    4069\n",
       "Name: total, dtype: int64"
      ]
     },
     "execution_count": 16,
     "metadata": {},
     "output_type": "execute_result"
    }
   ],
   "source": [
    "# 找出订餐价格最高的5个员工\n",
    "df.groupby('emp_id').sum().sort_values('total', ascending=False)[:5]['total']"
   ]
  },
  {
   "cell_type": "markdown",
   "metadata": {},
   "source": [
    "# 四、根据订单统计"
   ]
  },
  {
   "cell_type": "markdown",
   "metadata": {},
   "source": [
    "## 4.1 可视化价格最贵的10道菜  \n",
    "条形图 条的上方显示数据"
   ]
  },
  {
   "cell_type": "code",
   "execution_count": 31,
   "metadata": {},
   "outputs": [
    {
     "data": {
      "image/png": "[encoded data removed]",
      "text/plain": [
       "<Figure size 432x288 with 1 Axes>"
      ]
     },
     "metadata": {
      "needs_background": "light"
     },
     "output_type": "display_data"
    }
   ],
   "source": [
    "# 1步 按照菜名进行分组，求菜品价格均值\n",
    "dish_mean = df.groupby('dishes_name').mean()\n",
    "# 将total变为整数\n",
    "dish_mean['total'] = dish_mean['total'].astype(np.int)\n",
    "# 2步 排序查找最贵的10道菜\n",
    "dish_sort = dish_mean.sort_values('amounts', ascending=False)[:10]['total']\n",
    "dish_sort.plot(kind='bar')\n",
    "# 3 添加文字\n",
    "for x, y in enumerate(dish_sort):\n",
    "    plt.text(x, y+2, y, ha='center')"
   ]
  },
  {
   "cell_type": "markdown",
   "metadata": {},
   "source": [
    "## 4.2可视化订单总价以及订单定菜量最多的5条数据\n",
    "2个图"
   ]
  },
  {
   "cell_type": "code",
   "execution_count": 34,
   "metadata": {},
   "outputs": [
    {
     "data": {
      "text/plain": [
       "<matplotlib.axes._subplots.AxesSubplot at 0x12878544128>"
      ]
     },
     "execution_count": 34,
     "metadata": {},
     "output_type": "execute_result"
    },
    {
     "data": {
      "image/png": "[encoded data removed]",
      "text/plain": [
       "<Figure size 432x288 with 1 Axes>"
      ]
     },
     "metadata": {
      "needs_background": "light"
     },
     "output_type": "display_data"
    },
    {
     "data": {
      "image/png": "[encoded data removed]",
      "text/plain": [
       "<Figure size 432x288 with 1 Axes>"
      ]
     },
     "metadata": {
      "needs_background": "light"
     },
     "output_type": "display_data"
    }
   ],
   "source": [
    "# 可视化订单总价 前5条  \n",
    "# 对订单号分组，总价求和\n",
    "df.groupby('order_id').sum().sort_values('total', ascending=False)[:5].plot(y='total', kind='bar')\n",
    "# 对订单号分组，点菜数量求和\n",
    "df.groupby('order_id').sum().sort_values('counts', ascending=False)[:5].plot(y='counts', kind='bar')"
   ]
  },
  {
   "cell_type": "markdown",
   "metadata": {},
   "source": [
    "# 五、时间处理"
   ]
  },
  {
   "cell_type": "code",
   "execution_count": 35,
   "metadata": {},
   "outputs": [
    {
     "name": "stdout",
     "output_type": "stream",
     "text": [
      "<class 'pandas.core.frame.DataFrame'>\n",
      "Int64Index: 10037 entries, 0 to 3610\n",
      "Data columns (total 13 columns):\n",
      "detail_id           10037 non-null int64\n",
      "order_id            10037 non-null int64\n",
      "dishes_id           10037 non-null int64\n",
      "dishes_name         10037 non-null object\n",
      "itemis_add          10037 non-null int64\n",
      "counts              10037 non-null int64\n",
      "amounts             10037 non-null int64\n",
      "place_order_time    10037 non-null datetime64[ns]\n",
      "add_inprice         10037 non-null int64\n",
      "picture_file        10037 non-null object\n",
      "emp_id              10037 non-null int64\n",
      "total               10037 non-null int64\n",
      "time                10037 non-null datetime64[ns]\n",
      "dtypes: datetime64[ns](2), int64(9), object(2)\n",
      "memory usage: 1.4+ MB\n"
     ]
    }
   ],
   "source": [
    "# 创建一个新字段，类型为时间类型\n",
    "df['time'] = pd.to_datetime(df['place_order_time'])\n",
    "df.info()"
   ]
  },
  {
   "cell_type": "markdown",
   "metadata": {},
   "source": [
    "提取信息"
   ]
  },
  {
   "cell_type": "markdown",
   "metadata": {},
   "source": [
    "weekday 0-6   周一到周日"
   ]
  },
  {
   "cell_type": "code",
   "execution_count": 37,
   "metadata": {},
   "outputs": [
    {
     "data": {
      "text/html": [
       "<div>\n",
       "<style scoped>\n",
       "    .dataframe tbody tr th:only-of-type {\n",
       "        vertical-align: middle;\n",
       "    }\n",
       "\n",
       "    .dataframe tbody tr th {\n",
       "        vertical-align: top;\n",
       "    }\n",
       "\n",
       "    .dataframe thead th {\n",
       "        text-align: right;\n",
       "    }\n",
       "</style>\n",
       "<table border=\"1\" class=\"dataframe\">\n",
       "  <thead>\n",
       "    <tr style=\"text-align: right;\">\n",
       "      <th></th>\n",
       "      <th>detail_id</th>\n",
       "      <th>order_id</th>\n",
       "      <th>dishes_id</th>\n",
       "      <th>dishes_name</th>\n",
       "      <th>itemis_add</th>\n",
       "      <th>counts</th>\n",
       "      <th>amounts</th>\n",
       "      <th>place_order_time</th>\n",
       "      <th>add_inprice</th>\n",
       "      <th>picture_file</th>\n",
       "      <th>emp_id</th>\n",
       "      <th>total</th>\n",
       "      <th>time</th>\n",
       "      <th>hour</th>\n",
       "      <th>weekday</th>\n",
       "    </tr>\n",
       "  </thead>\n",
       "  <tbody>\n",
       "    <tr>\n",
       "      <th>3606</th>\n",
       "      <td>5683</td>\n",
       "      <td>672</td>\n",
       "      <td>610049</td>\n",
       "      <td>爆炒双丝</td>\n",
       "      <td>0</td>\n",
       "      <td>1</td>\n",
       "      <td>35</td>\n",
       "      <td>2016-08-31 21:53:30</td>\n",
       "      <td>0</td>\n",
       "      <td>caipu/301003.jpg</td>\n",
       "      <td>1089</td>\n",
       "      <td>35</td>\n",
       "      <td>2016-08-31 21:53:30</td>\n",
       "      <td>21</td>\n",
       "      <td>2</td>\n",
       "    </tr>\n",
       "    <tr>\n",
       "      <th>3607</th>\n",
       "      <td>5686</td>\n",
       "      <td>672</td>\n",
       "      <td>609959</td>\n",
       "      <td>小炒羊腰\\r\\n\\r\\n\\r\\n</td>\n",
       "      <td>0</td>\n",
       "      <td>1</td>\n",
       "      <td>36</td>\n",
       "      <td>2016-08-31 21:54:40</td>\n",
       "      <td>0</td>\n",
       "      <td>caipu/202005.jpg</td>\n",
       "      <td>1089</td>\n",
       "      <td>36</td>\n",
       "      <td>2016-08-31 21:54:40</td>\n",
       "      <td>21</td>\n",
       "      <td>2</td>\n",
       "    </tr>\n",
       "    <tr>\n",
       "      <th>3608</th>\n",
       "      <td>5379</td>\n",
       "      <td>647</td>\n",
       "      <td>610012</td>\n",
       "      <td>香菇鹌鹑蛋</td>\n",
       "      <td>0</td>\n",
       "      <td>1</td>\n",
       "      <td>39</td>\n",
       "      <td>2016-08-31 21:54:44</td>\n",
       "      <td>0</td>\n",
       "      <td>caipu/302001.jpg</td>\n",
       "      <td>1094</td>\n",
       "      <td>39</td>\n",
       "      <td>2016-08-31 21:54:44</td>\n",
       "      <td>21</td>\n",
       "      <td>2</td>\n",
       "    </tr>\n",
       "    <tr>\n",
       "      <th>3609</th>\n",
       "      <td>5380</td>\n",
       "      <td>647</td>\n",
       "      <td>610054</td>\n",
       "      <td>不加一滴油的酸奶蛋糕</td>\n",
       "      <td>0</td>\n",
       "      <td>1</td>\n",
       "      <td>7</td>\n",
       "      <td>2016-08-31 21:55:24</td>\n",
       "      <td>0</td>\n",
       "      <td>caipu/501003.jpg</td>\n",
       "      <td>1094</td>\n",
       "      <td>7</td>\n",
       "      <td>2016-08-31 21:55:24</td>\n",
       "      <td>21</td>\n",
       "      <td>2</td>\n",
       "    </tr>\n",
       "    <tr>\n",
       "      <th>3610</th>\n",
       "      <td>5688</td>\n",
       "      <td>672</td>\n",
       "      <td>609953</td>\n",
       "      <td>凉拌菠菜</td>\n",
       "      <td>0</td>\n",
       "      <td>1</td>\n",
       "      <td>27</td>\n",
       "      <td>2016-08-31 21:56:54</td>\n",
       "      <td>0</td>\n",
       "      <td>caipu/303004.jpg</td>\n",
       "      <td>1089</td>\n",
       "      <td>27</td>\n",
       "      <td>2016-08-31 21:56:54</td>\n",
       "      <td>21</td>\n",
       "      <td>2</td>\n",
       "    </tr>\n",
       "  </tbody>\n",
       "</table>\n",
       "</div>"
      ],
      "text/plain": [
       "      detail_id  order_id  dishes_id       dishes_name  itemis_add  counts  \\\n",
       "3606       5683       672     610049              爆炒双丝           0       1   \n",
       "3607       5686       672     609959  小炒羊腰\\r\\n\\r\\n\\r\\n           0       1   \n",
       "3608       5379       647     610012             香菇鹌鹑蛋           0       1   \n",
       "3609       5380       647     610054        不加一滴油的酸奶蛋糕           0       1   \n",
       "3610       5688       672     609953              凉拌菠菜           0       1   \n",
       "\n",
       "      amounts    place_order_time  add_inprice      picture_file  emp_id  \\\n",
       "3606       35 2016-08-31 21:53:30            0  caipu/301003.jpg    1089   \n",
       "3607       36 2016-08-31 21:54:40            0  caipu/202005.jpg    1089   \n",
       "3608       39 2016-08-31 21:54:44            0  caipu/302001.jpg    1094   \n",
       "3609        7 2016-08-31 21:55:24            0  caipu/501003.jpg    1094   \n",
       "3610       27 2016-08-31 21:56:54            0  caipu/303004.jpg    1089   \n",
       "\n",
       "      total                time  hour  weekday  \n",
       "3606     35 2016-08-31 21:53:30    21        2  \n",
       "3607     36 2016-08-31 21:54:40    21        2  \n",
       "3608     39 2016-08-31 21:54:44    21        2  \n",
       "3609      7 2016-08-31 21:55:24    21        2  \n",
       "3610     27 2016-08-31 21:56:54    21        2  "
      ]
     },
     "execution_count": 37,
     "metadata": {},
     "output_type": "execute_result"
    }
   ],
   "source": [
    "# 小时\n",
    "df['hour'] = df['time'].map(lambda x: x.hour)\n",
    "# 星期\n",
    "df['weekday'] = df['time'].map(lambda x: x.weekday())\n",
    "df.tail()"
   ]
  },
  {
   "cell_type": "markdown",
   "metadata": {},
   "source": [
    "## 5.1可视化每个小时销售额\n",
    "1.按照小时分组，查看销售额  \n",
    "2.分析饭店高峰期  写一句话"
   ]
  },
  {
   "cell_type": "code",
   "execution_count": 39,
   "metadata": {},
   "outputs": [
    {
     "data": {
      "text/plain": [
       "<matplotlib.axes._subplots.AxesSubplot at 0x1287a55b748>"
      ]
     },
     "execution_count": 39,
     "metadata": {},
     "output_type": "execute_result"
    },
    {
     "data": {
      "image/png": "[encoded data removed]",
      "text/plain": [
       "<Figure size 432x288 with 1 Axes>"
      ]
     },
     "metadata": {
      "needs_background": "light"
     },
     "output_type": "display_data"
    }
   ],
   "source": [
    "df.groupby('hour').sum()['total'].plot(kind='bar')\n",
    "# 中午高峰期11 - 13\n",
    "# 下午高峰期17 - 21"
   ]
  },
  {
   "cell_type": "markdown",
   "metadata": {},
   "source": [
    "## 5.2 分别计算工作日和周末餐厅营业额的均值\n",
    "1.映射出字段 分出工作日和周末  \n",
    "2.再对新字段进行分组，求均值"
   ]
  },
  {
   "cell_type": "code",
   "execution_count": 40,
   "metadata": {},
   "outputs": [
    {
     "data": {
      "text/html": [
       "<div>\n",
       "<style scoped>\n",
       "    .dataframe tbody tr th:only-of-type {\n",
       "        vertical-align: middle;\n",
       "    }\n",
       "\n",
       "    .dataframe tbody tr th {\n",
       "        vertical-align: top;\n",
       "    }\n",
       "\n",
       "    .dataframe thead th {\n",
       "        text-align: right;\n",
       "    }\n",
       "</style>\n",
       "<table border=\"1\" class=\"dataframe\">\n",
       "  <thead>\n",
       "    <tr style=\"text-align: right;\">\n",
       "      <th></th>\n",
       "      <th>detail_id</th>\n",
       "      <th>order_id</th>\n",
       "      <th>dishes_id</th>\n",
       "      <th>dishes_name</th>\n",
       "      <th>itemis_add</th>\n",
       "      <th>counts</th>\n",
       "      <th>amounts</th>\n",
       "      <th>place_order_time</th>\n",
       "      <th>add_inprice</th>\n",
       "      <th>picture_file</th>\n",
       "      <th>emp_id</th>\n",
       "      <th>total</th>\n",
       "      <th>time</th>\n",
       "      <th>hour</th>\n",
       "      <th>weekday</th>\n",
       "      <th>workingday</th>\n",
       "    </tr>\n",
       "  </thead>\n",
       "  <tbody>\n",
       "    <tr>\n",
       "      <th>0</th>\n",
       "      <td>2956</td>\n",
       "      <td>417</td>\n",
       "      <td>610062</td>\n",
       "      <td>蒜蓉生蚝</td>\n",
       "      <td>0</td>\n",
       "      <td>1</td>\n",
       "      <td>49</td>\n",
       "      <td>2016-08-01 11:05:36</td>\n",
       "      <td>0</td>\n",
       "      <td>caipu/104001.jpg</td>\n",
       "      <td>1442</td>\n",
       "      <td>49</td>\n",
       "      <td>2016-08-01 11:05:36</td>\n",
       "      <td>11</td>\n",
       "      <td>0</td>\n",
       "      <td>工作日</td>\n",
       "    </tr>\n",
       "    <tr>\n",
       "      <th>1</th>\n",
       "      <td>2958</td>\n",
       "      <td>417</td>\n",
       "      <td>609957</td>\n",
       "      <td>蒙古烤羊腿</td>\n",
       "      <td>0</td>\n",
       "      <td>1</td>\n",
       "      <td>48</td>\n",
       "      <td>2016-08-01 11:07:07</td>\n",
       "      <td>0</td>\n",
       "      <td>caipu/202003.jpg</td>\n",
       "      <td>1442</td>\n",
       "      <td>48</td>\n",
       "      <td>2016-08-01 11:07:07</td>\n",
       "      <td>11</td>\n",
       "      <td>0</td>\n",
       "      <td>工作日</td>\n",
       "    </tr>\n",
       "    <tr>\n",
       "      <th>2</th>\n",
       "      <td>2961</td>\n",
       "      <td>417</td>\n",
       "      <td>609950</td>\n",
       "      <td>大蒜苋菜</td>\n",
       "      <td>0</td>\n",
       "      <td>1</td>\n",
       "      <td>30</td>\n",
       "      <td>2016-08-01 11:07:40</td>\n",
       "      <td>0</td>\n",
       "      <td>caipu/303001.jpg</td>\n",
       "      <td>1442</td>\n",
       "      <td>30</td>\n",
       "      <td>2016-08-01 11:07:40</td>\n",
       "      <td>11</td>\n",
       "      <td>0</td>\n",
       "      <td>工作日</td>\n",
       "    </tr>\n",
       "    <tr>\n",
       "      <th>3</th>\n",
       "      <td>2966</td>\n",
       "      <td>417</td>\n",
       "      <td>610038</td>\n",
       "      <td>芝麻烤紫菜</td>\n",
       "      <td>0</td>\n",
       "      <td>1</td>\n",
       "      <td>25</td>\n",
       "      <td>2016-08-01 11:11:11</td>\n",
       "      <td>0</td>\n",
       "      <td>caipu/105002.jpg</td>\n",
       "      <td>1442</td>\n",
       "      <td>25</td>\n",
       "      <td>2016-08-01 11:11:11</td>\n",
       "      <td>11</td>\n",
       "      <td>0</td>\n",
       "      <td>工作日</td>\n",
       "    </tr>\n",
       "    <tr>\n",
       "      <th>4</th>\n",
       "      <td>2968</td>\n",
       "      <td>417</td>\n",
       "      <td>610003</td>\n",
       "      <td>蒜香包</td>\n",
       "      <td>0</td>\n",
       "      <td>1</td>\n",
       "      <td>13</td>\n",
       "      <td>2016-08-01 11:11:30</td>\n",
       "      <td>0</td>\n",
       "      <td>caipu/503002.jpg</td>\n",
       "      <td>1442</td>\n",
       "      <td>13</td>\n",
       "      <td>2016-08-01 11:11:30</td>\n",
       "      <td>11</td>\n",
       "      <td>0</td>\n",
       "      <td>工作日</td>\n",
       "    </tr>\n",
       "  </tbody>\n",
       "</table>\n",
       "</div>"
      ],
      "text/plain": [
       "   detail_id  order_id  dishes_id dishes_name  itemis_add  counts  amounts  \\\n",
       "0       2956       417     610062        蒜蓉生蚝           0       1       49   \n",
       "1       2958       417     609957       蒙古烤羊腿           0       1       48   \n",
       "2       2961       417     609950        大蒜苋菜           0       1       30   \n",
       "3       2966       417     610038       芝麻烤紫菜           0       1       25   \n",
       "4       2968       417     610003         蒜香包           0       1       13   \n",
       "\n",
       "     place_order_time  add_inprice      picture_file  emp_id  total  \\\n",
       "0 2016-08-01 11:05:36            0  caipu/104001.jpg    1442     49   \n",
       "1 2016-08-01 11:07:07            0  caipu/202003.jpg    1442     48   \n",
       "2 2016-08-01 11:07:40            0  caipu/303001.jpg    1442     30   \n",
       "3 2016-08-01 11:11:11            0  caipu/105002.jpg    1442     25   \n",
       "4 2016-08-01 11:11:30            0  caipu/503002.jpg    1442     13   \n",
       "\n",
       "                 time  hour  weekday workingday  \n",
       "0 2016-08-01 11:05:36    11        0        工作日  \n",
       "1 2016-08-01 11:07:07    11        0        工作日  \n",
       "2 2016-08-01 11:07:40    11        0        工作日  \n",
       "3 2016-08-01 11:11:11    11        0        工作日  \n",
       "4 2016-08-01 11:11:30    11        0        工作日  "
      ]
     },
     "execution_count": 40,
     "metadata": {},
     "output_type": "execute_result"
    }
   ],
   "source": [
    "# 数据映射\n",
    "df['workingday'] = df['weekday'].map(lambda x: '周末' if x > 4 else '工作日')\n",
    "df.head()"
   ]
  },
  {
   "cell_type": "code",
   "execution_count": 50,
   "metadata": {},
   "outputs": [
    {
     "data": {
      "text/plain": [
       "<matplotlib.axes._subplots.AxesSubplot at 0x1287a591ac8>"
      ]
     },
     "execution_count": 50,
     "metadata": {},
     "output_type": "execute_result"
    },
    {
     "data": {
      "image/png": "[encoded data removed]",
      "text/plain": [
       "<Figure size 432x288 with 1 Axes>"
      ]
     },
     "metadata": {
      "needs_background": "light"
     },
     "output_type": "display_data"
    }
   ],
   "source": [
    "# 订单、工作日、每个订单总价格\n",
    "df1 = df.groupby(['workingday', 'order_id']).sum()\n",
    "# 重新赋值索引, 让'workingday', 'order_id'重新变为列，用于后面分组\n",
    "df1.reset_index(inplace=True)\n",
    "# 重新分组，求均值\n",
    "df1.groupby('workingday').mean().plot(kind='bar', y='total')"
   ]
  },
  {
   "cell_type": "code",
   "execution_count": null,
   "metadata": {},
   "outputs": [],
   "source": []
  }
 ],
 "metadata": {
  "kernelspec": {
   "display_name": "Python 3",
   "language": "python",
   "name": "python3"
  },
  "language_info": {
   "codemirror_mode": {
    "name": "ipython",
    "version": 3
   },
   "file_extension": ".py",
   "mimetype": "text/x-python",
   "name": "python",
   "nbconvert_exporter": "python",
   "pygments_lexer": "ipython3",
   "version": "3.7.3"
  }
 },
 "nbformat": 4,
 "nbformat_minor": 2
}
